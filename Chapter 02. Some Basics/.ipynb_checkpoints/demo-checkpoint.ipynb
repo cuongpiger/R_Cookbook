{
 "cells": [
  {
   "cell_type": "markdown",
   "id": "e8469c0c-3c9c-4444-b1de-fd8ee5753a45",
   "metadata": {},
   "source": [
    "# 1. Printing something to the screen"
   ]
  },
  {
   "cell_type": "markdown",
   "id": "2d722366-7eb2-49f3-9fca-17b95f470ac1",
   "metadata": {},
   "source": [
    "**/> In ra giá trị $pi$ trong toán học**"
   ]
  },
  {
   "cell_type": "code",
   "execution_count": 1,
   "id": "814746c9-7b30-42ef-a0c9-2ff62e104228",
   "metadata": {},
   "outputs": [
    {
     "data": {
      "text/html": [
       "3.14159265358979"
      ],
      "text/latex": [
       "3.14159265358979"
      ],
      "text/markdown": [
       "3.14159265358979"
      ],
      "text/plain": [
       "[1] 3.141593"
      ]
     },
     "metadata": {},
     "output_type": "display_data"
    }
   ],
   "source": [
    "pi"
   ]
  },
  {
   "cell_type": "markdown",
   "id": "c7d5466a-11f9-49b9-b7f6-d411b98d6cf4",
   "metadata": {},
   "source": [
    "**/> In ra $\\sqrt{2}$**"
   ]
  },
  {
   "cell_type": "code",
   "execution_count": 2,
   "id": "19ac791b-6dc6-4dd3-af76-543e62df0544",
   "metadata": {},
   "outputs": [
    {
     "data": {
      "text/html": [
       "1.4142135623731"
      ],
      "text/latex": [
       "1.4142135623731"
      ],
      "text/markdown": [
       "1.4142135623731"
      ],
      "text/plain": [
       "[1] 1.414214"
      ]
     },
     "metadata": {},
     "output_type": "display_data"
    }
   ],
   "source": [
    "sqrt(2)"
   ]
  },
  {
   "cell_type": "markdown",
   "id": "3b0a3a80-c389-49aa-b9dc-3bfa0a9edd23",
   "metadata": {},
   "source": [
    "**/> Sử dụng hàm `print()`**\n",
    "* Hàm `print()` có một nhược điểm là nó chỉ có thể in ra duy nhất một object tại một thời điểm."
   ]
  },
  {
   "cell_type": "code",
   "execution_count": 4,
   "id": "7b0ad826-ff3c-4d6b-82e7-c1432fe9c574",
   "metadata": {},
   "outputs": [
    {
     "name": "stdout",
     "output_type": "stream",
     "text": [
      "[1] 3.141593\n"
     ]
    }
   ],
   "source": [
    "print(pi)"
   ]
  },
  {
   "cell_type": "code",
   "execution_count": 5,
   "id": "d00cccb0-d7de-4a74-8314-1da6b77f4d63",
   "metadata": {},
   "outputs": [
    {
     "name": "stdout",
     "output_type": "stream",
     "text": [
      "[1] 1.414214\n"
     ]
    }
   ],
   "source": [
    "print(sqrt(2))"
   ]
  },
  {
   "cell_type": "code",
   "execution_count": 6,
   "id": "2c215ff5-7ff9-42de-8876-f8b197258d0c",
   "metadata": {},
   "outputs": [
    {
     "name": "stdout",
     "output_type": "stream",
     "text": [
      "     [,1] [,2]\n",
      "[1,]    1    3\n",
      "[2,]    2    4\n"
     ]
    }
   ],
   "source": [
    "print(matrix(c(1, 2, 3, 4), 2, 2))"
   ]
  },
  {
   "cell_type": "code",
   "execution_count": 8,
   "id": "8ecbc464-8daa-4e46-ad9c-ac5240bf15ac",
   "metadata": {},
   "outputs": [
    {
     "name": "stdout",
     "output_type": "stream",
     "text": [
      "[[1]]\n",
      "[1] \"a\"\n",
      "\n",
      "[[2]]\n",
      "[1] \"b\"\n",
      "\n",
      "[[3]]\n",
      "[1] \"c\"\n",
      "\n"
     ]
    }
   ],
   "source": [
    "print(list(\"a\", \"b\", \"c\"))"
   ]
  },
  {
   "cell_type": "markdown",
   "id": "c45e3533-6da0-493f-9538-4ce3f6c80f98",
   "metadata": {},
   "source": [
    "* Để có thể in ra cùng lúc nhiều object tại cùng một thời điểm, thì thay vì hàm `print()` ta sử dụng hàm `cat()`.\n",
    "* Lưu ý thứ hai là hàm `cat()` ko tự động bỏ kí tự `\\n` vào cuối dòng."
   ]
  },
  {
   "cell_type": "code",
   "execution_count": 12,
   "id": "5042bd32-0670-4be1-8c19-0a13efb2b52e",
   "metadata": {},
   "outputs": [
    {
     "name": "stdout",
     "output_type": "stream",
     "text": [
      "Dương Mạnh Cường 22 tuổi, chiều cao là 1.68 mét.\n"
     ]
    }
   ],
   "source": [
    "cat(\"Dương Mạnh Cường\", 22, \"tuổi, chiều cao là\", 1.68, \"mét.\\n\")"
   ]
  },
  {
   "cell_type": "code",
   "execution_count": 14,
   "id": "cf353158-4daa-4b4e-9996-fb005966c86b",
   "metadata": {},
   "outputs": [
    {
     "name": "stdout",
     "output_type": "stream",
     "text": [
      "Một vài giá trị Fibonacci đầu tiên là: 0 1 1 2 3 5 8 13 21 34 ...\n"
     ]
    }
   ],
   "source": [
    "fib = c(0, 1, 1, 2, 3, 5, 8, 13, 21, 34)\n",
    "cat(\"Một vài giá trị Fibonacci đầu tiên là:\", fib, \"...\\n\")"
   ]
  },
  {
   "cell_type": "markdown",
   "id": "e85fd5e7-d89c-49b8-93ea-38b6509f91d1",
   "metadata": {},
   "source": [
    "* Hàm `cat()` sẽ tự động bỏ kí tự **khoảng trắng** vào giữa các object dc truyền vào.\n",
    "* Có thể lợi dùng điều này với vector, tuy nhiên ko sử dụng dc với `list()`."
   ]
  },
  {
   "cell_type": "code",
   "execution_count": 15,
   "id": "73b6b893-4419-45ad-8f42-1d14a4351301",
   "metadata": {},
   "outputs": [
    {
     "name": "stdout",
     "output_type": "stream",
     "text": [
      "1 2 3"
     ]
    }
   ],
   "source": [
    "cat(c(1, 2, 3))"
   ]
  },
  {
   "cell_type": "markdown",
   "id": "e9a0b0b5-6a32-4e02-8f0b-758ba9635893",
   "metadata": {},
   "source": [
    "# 2. Setting variables"
   ]
  },
  {
   "cell_type": "code",
   "execution_count": 18,
   "id": "883e956e-0a58-46a3-8685-462f736551cd",
   "metadata": {},
   "outputs": [
    {
     "name": "stdout",
     "output_type": "stream",
     "text": [
      "[1] 5\n"
     ]
    }
   ],
   "source": [
    "x = 3\n",
    "y = 4\n",
    "z = sqrt(x^2 + y^2)\n",
    "\n",
    "print(z)"
   ]
  },
  {
   "cell_type": "markdown",
   "id": "1bbc1825-6570-450a-9fb5-4d24da5a1c36",
   "metadata": {},
   "source": [
    "**/> R là ngôn ngữ dynamically typed language giống với Python**"
   ]
  },
  {
   "cell_type": "code",
   "execution_count": 20,
   "id": "01ca05b7-905c-44a9-ae66-877030b46a19",
   "metadata": {},
   "outputs": [
    {
     "name": "stdout",
     "output_type": "stream",
     "text": [
      "[1] 3\n",
      "[1] \"one\"   \"two\"   \"three\"\n"
     ]
    }
   ],
   "source": [
    "x = 3\n",
    "print(x)\n",
    "\n",
    "x = c(\"one\", \"two\", \"three\")\n",
    "print(x)"
   ]
  },
  {
   "cell_type": "markdown",
   "id": "b33ccd90-dd8d-45e3-bf19-9717fb8987b2",
   "metadata": {},
   "source": [
    "# 3. Listing variables"
   ]
  },
  {
   "cell_type": "markdown",
   "id": "9b6e93be-eedf-4448-a12a-fccc002deb0d",
   "metadata": {},
   "source": [
    "**/> Hàm `ls()` dùng để liệt kê tất cả các biến mà ta đã khai báo**"
   ]
  },
  {
   "cell_type": "code",
   "execution_count": 22,
   "id": "782d3f24-fa4c-43fe-b96d-3a007eaac63c",
   "metadata": {},
   "outputs": [],
   "source": [
    "x = 10\n",
    "y = 50\n",
    "z = c(\"nose\", \"lip\", \"ear\")\n",
    "\n",
    "f = function(n, p) sqrt(p * (1 - p) / n)"
   ]
  },
  {
   "cell_type": "code",
   "execution_count": 23,
   "id": "843e0064-1bca-4e7f-bd2f-c3c3e364e554",
   "metadata": {},
   "outputs": [
    {
     "data": {
      "text/html": [
       "<style>\n",
       ".list-inline {list-style: none; margin:0; padding: 0}\n",
       ".list-inline>li {display: inline-block}\n",
       ".list-inline>li:not(:last-child)::after {content: \"\\00b7\"; padding: 0 .5ex}\n",
       "</style>\n",
       "<ol class=list-inline><li>'f'</li><li>'fib'</li><li>'x'</li><li>'y'</li><li>'z'</li></ol>\n"
      ],
      "text/latex": [
       "\\begin{enumerate*}\n",
       "\\item 'f'\n",
       "\\item 'fib'\n",
       "\\item 'x'\n",
       "\\item 'y'\n",
       "\\item 'z'\n",
       "\\end{enumerate*}\n"
      ],
      "text/markdown": [
       "1. 'f'\n",
       "2. 'fib'\n",
       "3. 'x'\n",
       "4. 'y'\n",
       "5. 'z'\n",
       "\n",
       "\n"
      ],
      "text/plain": [
       "[1] \"f\"   \"fib\" \"x\"   \"y\"   \"z\"  "
      ]
     },
     "metadata": {},
     "output_type": "display_data"
    }
   ],
   "source": [
    "ls()"
   ]
  },
  {
   "cell_type": "code",
   "execution_count": 24,
   "id": "a7b092f0-9857-429d-a39b-41696202b093",
   "metadata": {},
   "outputs": [
    {
     "data": {
      "text/plain": [
       "f : function (n, p)  \n",
       "fib :  num [1:10] 0 1 1 2 3 5 8 13 21 34\n",
       "x :  num 10\n",
       "y :  num 50\n",
       "z :  chr [1:3] \"nose\" \"lip\" \"ear\""
      ]
     },
     "metadata": {},
     "output_type": "display_data"
    }
   ],
   "source": [
    "ls.str()"
   ]
  },
  {
   "cell_type": "markdown",
   "id": "9af4bb95-cbf2-4b8c-8d37-8356c9d9dda8",
   "metadata": {},
   "source": [
    "**/> Hàm `ls()` mặc định sẽ ko list ra những biến bắt đầu bằng dấu chấm, thì nó mặc định đây là các biến ẩn, dưới đây là cách khắc phục**"
   ]
  },
  {
   "cell_type": "code",
   "execution_count": 26,
   "id": "36acb9f2-61d6-47fa-8c1d-31bc7b7bd61c",
   "metadata": {},
   "outputs": [
    {
     "data": {
      "text/html": [
       "<style>\n",
       ".list-inline {list-style: none; margin:0; padding: 0}\n",
       ".list-inline>li {display: inline-block}\n",
       ".list-inline>li:not(:last-child)::after {content: \"\\00b7\"; padding: 0 .5ex}\n",
       "</style>\n",
       "<ol class=list-inline><li>'.pbd_env'</li><li>'f'</li><li>'fib'</li><li>'x'</li><li>'y'</li><li>'z'</li></ol>\n"
      ],
      "text/latex": [
       "\\begin{enumerate*}\n",
       "\\item '.pbd\\_env'\n",
       "\\item 'f'\n",
       "\\item 'fib'\n",
       "\\item 'x'\n",
       "\\item 'y'\n",
       "\\item 'z'\n",
       "\\end{enumerate*}\n"
      ],
      "text/markdown": [
       "1. '.pbd_env'\n",
       "2. 'f'\n",
       "3. 'fib'\n",
       "4. 'x'\n",
       "5. 'y'\n",
       "6. 'z'\n",
       "\n",
       "\n"
      ],
      "text/plain": [
       "[1] \".pbd_env\" \"f\"        \"fib\"      \"x\"        \"y\"        \"z\"       "
      ]
     },
     "metadata": {},
     "output_type": "display_data"
    }
   ],
   "source": [
    "ls(all.names=TRUE)"
   ]
  },
  {
   "cell_type": "markdown",
   "id": "ab612a77-5683-476e-902d-09bf13a13208",
   "metadata": {},
   "source": [
    "# 4. Deleting variables"
   ]
  },
  {
   "cell_type": "code",
   "execution_count": 27,
   "id": "6640ee02-5ee6-4f98-a4bf-0077177cf1e4",
   "metadata": {},
   "outputs": [
    {
     "data": {
      "text/html": [
       "6.28318530717959"
      ],
      "text/latex": [
       "6.28318530717959"
      ],
      "text/markdown": [
       "6.28318530717959"
      ],
      "text/plain": [
       "[1] 6.283185"
      ]
     },
     "metadata": {},
     "output_type": "display_data"
    }
   ],
   "source": [
    "x = 2 * pi\n",
    "\n",
    "x"
   ]
  },
  {
   "cell_type": "code",
   "execution_count": 28,
   "id": "4265b7b3-0bf8-48f6-a610-4b746fb78498",
   "metadata": {},
   "outputs": [],
   "source": [
    "rm(x)"
   ]
  },
  {
   "cell_type": "code",
   "execution_count": 29,
   "id": "eafd6cfe-6872-4764-8542-32f1fa6bcb17",
   "metadata": {},
   "outputs": [
    {
     "ename": "ERROR",
     "evalue": "Error in eval(expr, envir, enclos): object 'x' not found\n",
     "output_type": "error",
     "traceback": [
      "Error in eval(expr, envir, enclos): object 'x' not found\nTraceback:\n"
     ]
    }
   ],
   "source": [
    "x"
   ]
  },
  {
   "cell_type": "markdown",
   "id": "748bc5fd-df18-4657-b974-8030ddfd7a73",
   "metadata": {},
   "source": [
    "> * Biến `x` đã bị xóa nên khi này nếu gọi nó sẽ nhận lỗi."
   ]
  },
  {
   "cell_type": "markdown",
   "id": "047dc667-9c0e-4881-acdb-fb9c3f7e751e",
   "metadata": {},
   "source": [
    "**/> Có thể remove cùng lúc nhiều object**"
   ]
  },
  {
   "cell_type": "code",
   "execution_count": 31,
   "id": "3a9dbeb4-8628-42c1-9901-627580b58e85",
   "metadata": {},
   "outputs": [],
   "source": [
    "x = 10\n",
    "y = \"Cường\"\n",
    "z = TRUE\n",
    "\n",
    "rm(x, y, z)"
   ]
  },
  {
   "cell_type": "markdown",
   "id": "a95bf253-a334-443e-b43c-8e16e5643cb0",
   "metadata": {},
   "source": [
    "**/> Ngoài ra, để xóa toàn bộ object mà ta đã khai báo thì dùng dòng dưới đây**"
   ]
  },
  {
   "cell_type": "code",
   "execution_count": 32,
   "id": "011e81d5-4b28-4f17-a417-ed865f1f0fc6",
   "metadata": {},
   "outputs": [],
   "source": [
    "rm(list=ls())"
   ]
  },
  {
   "cell_type": "code",
   "execution_count": 33,
   "id": "22a1b843-7380-426d-a441-54980cbd56c3",
   "metadata": {},
   "outputs": [
    {
     "data": {
      "text/html": [],
      "text/latex": [],
      "text/markdown": [],
      "text/plain": [
       "character(0)"
      ]
     },
     "metadata": {},
     "output_type": "display_data"
    }
   ],
   "source": [
    "ls()"
   ]
  },
  {
   "cell_type": "markdown",
   "id": "241509fb-38e1-4633-b3a8-9b3d8fcd1cdd",
   "metadata": {},
   "source": [
    "# 5. Creating a vector\n",
    "* Vector là thành phần trung tâm của R.\n",
    "* Một vector có thể chứa số, chuổi, giá trị boolean nhưng ko thể chứa hổn hợp."
   ]
  },
  {
   "cell_type": "code",
   "execution_count": 34,
   "id": "9cf8d15c-fe47-4330-8ad9-3c2302cc985f",
   "metadata": {},
   "outputs": [
    {
     "data": {
      "text/html": [
       "<style>\n",
       ".list-inline {list-style: none; margin:0; padding: 0}\n",
       ".list-inline>li {display: inline-block}\n",
       ".list-inline>li:not(:last-child)::after {content: \"\\00b7\"; padding: 0 .5ex}\n",
       "</style>\n",
       "<ol class=list-inline><li>1</li><li>2</li><li>3</li><li>4</li></ol>\n"
      ],
      "text/latex": [
       "\\begin{enumerate*}\n",
       "\\item 1\n",
       "\\item 2\n",
       "\\item 3\n",
       "\\item 4\n",
       "\\end{enumerate*}\n"
      ],
      "text/markdown": [
       "1. 1\n",
       "2. 2\n",
       "3. 3\n",
       "4. 4\n",
       "\n",
       "\n"
      ],
      "text/plain": [
       "[1] 1 2 3 4"
      ]
     },
     "metadata": {},
     "output_type": "display_data"
    }
   ],
   "source": [
    "c(1, 2, 3, 4)"
   ]
  },
  {
   "cell_type": "code",
   "execution_count": 35,
   "id": "6a50d235-f753-4f3c-a3a2-038acb099f40",
   "metadata": {},
   "outputs": [
    {
     "data": {
      "text/html": [
       "<style>\n",
       ".list-inline {list-style: none; margin:0; padding: 0}\n",
       ".list-inline>li {display: inline-block}\n",
       ".list-inline>li:not(:last-child)::after {content: \"\\00b7\"; padding: 0 .5ex}\n",
       "</style>\n",
       "<ol class=list-inline><li>3.14159265358979</li><li>6.28318530717959</li><li>9.42477796076938</li></ol>\n"
      ],
      "text/latex": [
       "\\begin{enumerate*}\n",
       "\\item 3.14159265358979\n",
       "\\item 6.28318530717959\n",
       "\\item 9.42477796076938\n",
       "\\end{enumerate*}\n"
      ],
      "text/markdown": [
       "1. 3.14159265358979\n",
       "2. 6.28318530717959\n",
       "3. 9.42477796076938\n",
       "\n",
       "\n"
      ],
      "text/plain": [
       "[1] 3.141593 6.283185 9.424778"
      ]
     },
     "metadata": {},
     "output_type": "display_data"
    }
   ],
   "source": [
    "c(1*pi, 2*pi, 3*pi)"
   ]
  },
  {
   "cell_type": "code",
   "execution_count": 36,
   "id": "1f501c02-8342-4c38-abe2-fb6a9b0b8460",
   "metadata": {},
   "outputs": [
    {
     "data": {
      "text/html": [
       "<style>\n",
       ".list-inline {list-style: none; margin:0; padding: 0}\n",
       ".list-inline>li {display: inline-block}\n",
       ".list-inline>li:not(:last-child)::after {content: \"\\00b7\"; padding: 0 .5ex}\n",
       "</style>\n",
       "<ol class=list-inline><li>'Dương'</li><li>'Mạnh'</li><li>'Cường'</li></ol>\n"
      ],
      "text/latex": [
       "\\begin{enumerate*}\n",
       "\\item 'Dương'\n",
       "\\item 'Mạnh'\n",
       "\\item 'Cường'\n",
       "\\end{enumerate*}\n"
      ],
      "text/markdown": [
       "1. 'Dương'\n",
       "2. 'Mạnh'\n",
       "3. 'Cường'\n",
       "\n",
       "\n"
      ],
      "text/plain": [
       "[1] \"Dương\" \"Mạnh\"  \"Cường\""
      ]
     },
     "metadata": {},
     "output_type": "display_data"
    }
   ],
   "source": [
    "c(\"Dương\", \"Mạnh\", \"Cường\")"
   ]
  },
  {
   "cell_type": "code",
   "execution_count": 37,
   "id": "ba864715-8f9d-481a-9728-415a9a1ed0c3",
   "metadata": {},
   "outputs": [
    {
     "data": {
      "text/html": [
       "<style>\n",
       ".list-inline {list-style: none; margin:0; padding: 0}\n",
       ".list-inline>li {display: inline-block}\n",
       ".list-inline>li:not(:last-child)::after {content: \"\\00b7\"; padding: 0 .5ex}\n",
       "</style>\n",
       "<ol class=list-inline><li>TRUE</li><li>FALSE</li><li>TRUE</li><li>TRUE</li><li>FALSE</li></ol>\n"
      ],
      "text/latex": [
       "\\begin{enumerate*}\n",
       "\\item TRUE\n",
       "\\item FALSE\n",
       "\\item TRUE\n",
       "\\item TRUE\n",
       "\\item FALSE\n",
       "\\end{enumerate*}\n"
      ],
      "text/markdown": [
       "1. TRUE\n",
       "2. FALSE\n",
       "3. TRUE\n",
       "4. TRUE\n",
       "5. FALSE\n",
       "\n",
       "\n"
      ],
      "text/plain": [
       "[1]  TRUE FALSE  TRUE  TRUE FALSE"
      ]
     },
     "metadata": {},
     "output_type": "display_data"
    }
   ],
   "source": [
    "c(TRUE, FALSE, TRUE, TRUE, FALSE)"
   ]
  },
  {
   "cell_type": "markdown",
   "id": "e8540365-2864-4f27-b4b9-d997f7bbb6c0",
   "metadata": {},
   "source": [
    "* Nếu các đối số đưa vào hàm `c()` là các vector khác, thì nó sẽ làm phẳng chúng rồi kết hợp tạo thành một vector duy nhất."
   ]
  },
  {
   "cell_type": "code",
   "execution_count": 39,
   "id": "a447c706-3a64-4984-8def-9a6b33d9b530",
   "metadata": {},
   "outputs": [
    {
     "data": {
      "text/html": [
       "<style>\n",
       ".list-inline {list-style: none; margin:0; padding: 0}\n",
       ".list-inline>li {display: inline-block}\n",
       ".list-inline>li:not(:last-child)::after {content: \"\\00b7\"; padding: 0 .5ex}\n",
       "</style>\n",
       "<ol class=list-inline><li>1</li><li>2</li><li>3</li><li>4</li><li>5</li><li>6</li></ol>\n"
      ],
      "text/latex": [
       "\\begin{enumerate*}\n",
       "\\item 1\n",
       "\\item 2\n",
       "\\item 3\n",
       "\\item 4\n",
       "\\item 5\n",
       "\\item 6\n",
       "\\end{enumerate*}\n"
      ],
      "text/markdown": [
       "1. 1\n",
       "2. 2\n",
       "3. 3\n",
       "4. 4\n",
       "5. 5\n",
       "6. 6\n",
       "\n",
       "\n"
      ],
      "text/plain": [
       "[1] 1 2 3 4 5 6"
      ]
     },
     "metadata": {},
     "output_type": "display_data"
    }
   ],
   "source": [
    "v1 = c(1, 2, 3)\n",
    "v2 = c(4:6)\n",
    "\n",
    "c(v1, v2)"
   ]
  },
  {
   "cell_type": "markdown",
   "id": "fc910b3f-cbe4-4170-8724-32bc5176ce62",
   "metadata": {},
   "source": [
    "* Nếu có một đối số bất kì có type là `character` thì mặc định toàn bộ vector đó là `character`"
   ]
  },
  {
   "cell_type": "code",
   "execution_count": 40,
   "id": "1bd5cc15-25c1-45a8-9034-dab6487316d1",
   "metadata": {},
   "outputs": [
    {
     "data": {
      "text/html": [
       "<style>\n",
       ".list-inline {list-style: none; margin:0; padding: 0}\n",
       ".list-inline>li {display: inline-block}\n",
       ".list-inline>li:not(:last-child)::after {content: \"\\00b7\"; padding: 0 .5ex}\n",
       "</style>\n",
       "<ol class=list-inline><li>'1'</li><li>'2'</li><li>'3'</li><li>'Mạnh'</li><li>'Cường'</li></ol>\n"
      ],
      "text/latex": [
       "\\begin{enumerate*}\n",
       "\\item '1'\n",
       "\\item '2'\n",
       "\\item '3'\n",
       "\\item 'Mạnh'\n",
       "\\item 'Cường'\n",
       "\\end{enumerate*}\n"
      ],
      "text/markdown": [
       "1. '1'\n",
       "2. '2'\n",
       "3. '3'\n",
       "4. 'Mạnh'\n",
       "5. 'Cường'\n",
       "\n",
       "\n"
      ],
      "text/plain": [
       "[1] \"1\"     \"2\"     \"3\"     \"Mạnh\"  \"Cường\""
      ]
     },
     "metadata": {},
     "output_type": "display_data"
    }
   ],
   "source": [
    "v1 = c(1:3)\n",
    "v2 = c(\"Mạnh\", \"Cường\")\n",
    "\n",
    "c(v1, v2)"
   ]
  },
  {
   "cell_type": "markdown",
   "id": "c51e60b3-7a99-48b8-89dc-b134d42e3b19",
   "metadata": {},
   "source": [
    "* Để kiếm tra kiểu dữ liệu của một object, dùng hàm `mode()`"
   ]
  },
  {
   "cell_type": "code",
   "execution_count": 41,
   "id": "d62971d5-52b7-4a60-a087-8cd3f83577a3",
   "metadata": {},
   "outputs": [
    {
     "data": {
      "text/html": [
       "'numeric'"
      ],
      "text/latex": [
       "'numeric'"
      ],
      "text/markdown": [
       "'numeric'"
      ],
      "text/plain": [
       "[1] \"numeric\""
      ]
     },
     "metadata": {},
     "output_type": "display_data"
    }
   ],
   "source": [
    "mode(3.14)"
   ]
  },
  {
   "cell_type": "code",
   "execution_count": 42,
   "id": "66bd9a01-3baf-4489-a88d-45673f3c273b",
   "metadata": {},
   "outputs": [
    {
     "data": {
      "text/html": [
       "'character'"
      ],
      "text/latex": [
       "'character'"
      ],
      "text/markdown": [
       "'character'"
      ],
      "text/plain": [
       "[1] \"character\""
      ]
     },
     "metadata": {},
     "output_type": "display_data"
    }
   ],
   "source": [
    "mode(\"Dương Mạnh Cường\")"
   ]
  },
  {
   "cell_type": "code",
   "execution_count": 43,
   "id": "1778fbd0-8d53-48df-b7c1-d0a5ab4c8ee1",
   "metadata": {},
   "outputs": [
    {
     "data": {
      "text/html": [
       "'character'"
      ],
      "text/latex": [
       "'character'"
      ],
      "text/markdown": [
       "'character'"
      ],
      "text/plain": [
       "[1] \"character\""
      ]
     },
     "metadata": {},
     "output_type": "display_data"
    }
   ],
   "source": [
    "mode(c(22, \"Dương Mạnh Cường\"))"
   ]
  },
  {
   "cell_type": "markdown",
   "id": "5e1956c7-2d3e-421a-96b5-fedc0462652c",
   "metadata": {},
   "source": [
    "# 6. Computing basic statistics\n",
    "* Có một vài hàm thông dụng dc sử dụng trong thống kê dc R xây dựng sẵn là:<br>\n",
    "  ![](images/02_00.png)\n"
   ]
  },
  {
   "cell_type": "code",
   "execution_count": 45,
   "id": "2f3d9181-d53c-4045-8ead-0b3b5d37b059",
   "metadata": {},
   "outputs": [
    {
     "data": {
      "text/html": [
       "8.8"
      ],
      "text/latex": [
       "8.8"
      ],
      "text/markdown": [
       "8.8"
      ],
      "text/plain": [
       "[1] 8.8"
      ]
     },
     "metadata": {},
     "output_type": "display_data"
    }
   ],
   "source": [
    "x = c(0, 1, 1, 2, 3, 5, 8, 13, 21, 34)\n",
    "mean(x)"
   ]
  },
  {
   "cell_type": "code",
   "execution_count": 46,
   "id": "d4d85e22-cb79-475b-91cd-1a67fb3c9f97",
   "metadata": {},
   "outputs": [
    {
     "data": {
      "text/html": [
       "4"
      ],
      "text/latex": [
       "4"
      ],
      "text/markdown": [
       "4"
      ],
      "text/plain": [
       "[1] 4"
      ]
     },
     "metadata": {},
     "output_type": "display_data"
    }
   ],
   "source": [
    "median(x)"
   ]
  },
  {
   "cell_type": "code",
   "execution_count": 48,
   "id": "7c1df0de-6196-47b5-b037-e17dd3336297",
   "metadata": {},
   "outputs": [
    {
     "data": {
      "text/html": [
       "121.733333333333"
      ],
      "text/latex": [
       "121.733333333333"
      ],
      "text/markdown": [
       "121.733333333333"
      ],
      "text/plain": [
       "[1] 121.7333"
      ]
     },
     "metadata": {},
     "output_type": "display_data"
    }
   ],
   "source": [
    "var(x)"
   ]
  },
  {
   "cell_type": "code",
   "execution_count": 51,
   "id": "b025e9f1-5444-4861-abd7-dadf98c5bf4e",
   "metadata": {},
   "outputs": [
    {
     "data": {
      "text/html": [
       "11.0332829807512"
      ],
      "text/latex": [
       "11.0332829807512"
      ],
      "text/markdown": [
       "11.0332829807512"
      ],
      "text/plain": [
       "[1] 11.03328"
      ]
     },
     "metadata": {},
     "output_type": "display_data"
    },
    {
     "data": {
      "text/html": [
       "11.0332829807512"
      ],
      "text/latex": [
       "11.0332829807512"
      ],
      "text/markdown": [
       "11.0332829807512"
      ],
      "text/plain": [
       "[1] 11.03328"
      ]
     },
     "metadata": {},
     "output_type": "display_data"
    }
   ],
   "source": [
    "sd(x)\n",
    "sqrt(var(x))"
   ]
  },
  {
   "cell_type": "markdown",
   "id": "0671dcc2-ee67-4cc2-acb7-2021ef2666e6",
   "metadata": {},
   "source": [
    "* Hàm `log()` default theo cơ số e, tức $log_e{}$"
   ]
  },
  {
   "cell_type": "code",
   "execution_count": 2,
   "id": "d7f62c63-43e9-4b33-ae55-4d0274427d13",
   "metadata": {},
   "outputs": [
    {
     "name": "stdout",
     "output_type": "stream",
     "text": [
      " [1]  0  1  1  2  3  5  8 13 21 34\n",
      " [1] 0.0000000 0.6931472 0.6931472 1.0986123 1.3862944 1.7917595 2.1972246\n",
      " [8] 2.6390573 3.0910425 3.5553481\n"
     ]
    }
   ],
   "source": [
    "x = c(0, 1, 1, 2, 3, 5, 8, 13, 21, 34)\n",
    "y = log(x + 1)\n",
    "\n",
    "print(x)\n",
    "print(y)"
   ]
  },
  {
   "cell_type": "code",
   "execution_count": 4,
   "id": "1c99d35b-2c72-4675-9b4c-f1b2b21cee47",
   "metadata": {},
   "outputs": [
    {
     "data": {
      "text/html": [
       "0.906805308403561"
      ],
      "text/latex": [
       "0.906805308403561"
      ],
      "text/markdown": [
       "0.906805308403561"
      ],
      "text/plain": [
       "[1] 0.9068053"
      ]
     },
     "metadata": {},
     "output_type": "display_data"
    }
   ],
   "source": [
    "cor(x, y)"
   ]
  },
  {
   "cell_type": "code",
   "execution_count": 5,
   "id": "5e269fa3-3777-40d6-8b79-9c61bfcb2afb",
   "metadata": {},
   "outputs": [
    {
     "data": {
      "text/html": [
       "11.4998774828644"
      ],
      "text/latex": [
       "11.4998774828644"
      ],
      "text/markdown": [
       "11.4998774828644"
      ],
      "text/plain": [
       "[1] 11.49988"
      ]
     },
     "metadata": {},
     "output_type": "display_data"
    }
   ],
   "source": [
    "cov(x, y)"
   ]
  },
  {
   "cell_type": "markdown",
   "id": "5f28acd3-176f-4ba6-a81a-27b008cadc11",
   "metadata": {},
   "source": [
    "* Nếu trong vector có chứa một phần từ `NA` thì sử dụng các hàm này sẽ cho ra giá trị `NA`."
   ]
  },
  {
   "cell_type": "code",
   "execution_count": 6,
   "id": "572f5078-c672-4528-94d6-efb834186812",
   "metadata": {},
   "outputs": [
    {
     "data": {
      "text/html": [
       "&lt;NA&gt;"
      ],
      "text/latex": [
       "<NA>"
      ],
      "text/markdown": [
       "&lt;NA&gt;"
      ],
      "text/plain": [
       "[1] NA"
      ]
     },
     "metadata": {},
     "output_type": "display_data"
    }
   ],
   "source": [
    "x = c(0, 1, 1, 2, 3, NA)\n",
    "\n",
    "mean(x)"
   ]
  },
  {
   "cell_type": "markdown",
   "id": "8b47dacb-5814-4080-b718-e2120cd3310f",
   "metadata": {},
   "source": [
    "* Trong trường hợp, nếu ta muốn remove các giá trị `NA` khỏi vector trước khi tính các hàm thống kê, làm như sau"
   ]
  },
  {
   "cell_type": "code",
   "execution_count": 7,
   "id": "56058cda-ce6e-42aa-b081-e979d8616c01",
   "metadata": {},
   "outputs": [
    {
     "data": {
      "text/html": [
       "1.14017542509914"
      ],
      "text/latex": [
       "1.14017542509914"
      ],
      "text/markdown": [
       "1.14017542509914"
      ],
      "text/plain": [
       "[1] 1.140175"
      ]
     },
     "metadata": {},
     "output_type": "display_data"
    }
   ],
   "source": [
    "x = c(0, 1, 1, 2, 3, NA)\n",
    "sd(x, na.rm=TRUE)"
   ]
  },
  {
   "cell_type": "markdown",
   "id": "2140953a-d24f-45ae-8823-33b14b4f03ba",
   "metadata": {},
   "source": [
    "# Còn thiếu ở trang 37"
   ]
  },
  {
   "cell_type": "markdown",
   "id": "22a87b78-fa56-4b91-8180-f4817d1b09c4",
   "metadata": {},
   "source": [
    "# 7. Creating sequences"
   ]
  },
  {
   "cell_type": "markdown",
   "id": "0d7caa48-2b25-45ce-9347-3f0f7c5926bc",
   "metadata": {},
   "source": [
    "* Để tạo ra một sequence từ $[1, 5]$, thì làm như sau"
   ]
  },
  {
   "cell_type": "code",
   "execution_count": 8,
   "id": "94e520f5-6322-441e-83b9-c26d4b97d161",
   "metadata": {},
   "outputs": [
    {
     "name": "stdout",
     "output_type": "stream",
     "text": [
      "[1] 1 2 3 4 5\n"
     ]
    }
   ],
   "source": [
    "print(1:5)"
   ]
  },
  {
   "cell_type": "markdown",
   "id": "e1b29e93-b235-40ac-899d-66f3e8e7a9fd",
   "metadata": {},
   "source": [
    "* Hoặc sử dụng hàm `seq()`"
   ]
  },
  {
   "cell_type": "code",
   "execution_count": 11,
   "id": "0cf03838-2966-48cf-8170-c1b9abfc6833",
   "metadata": {},
   "outputs": [
    {
     "data": {
      "text/html": [
       "<style>\n",
       ".list-inline {list-style: none; margin:0; padding: 0}\n",
       ".list-inline>li {display: inline-block}\n",
       ".list-inline>li:not(:last-child)::after {content: \"\\00b7\"; padding: 0 .5ex}\n",
       "</style>\n",
       "<ol class=list-inline><li>1</li><li>3</li><li>5</li></ol>\n"
      ],
      "text/latex": [
       "\\begin{enumerate*}\n",
       "\\item 1\n",
       "\\item 3\n",
       "\\item 5\n",
       "\\end{enumerate*}\n"
      ],
      "text/markdown": [
       "1. 1\n",
       "2. 3\n",
       "3. 5\n",
       "\n",
       "\n"
      ],
      "text/plain": [
       "[1] 1 3 5"
      ]
     },
     "metadata": {},
     "output_type": "display_data"
    },
    {
     "data": {
      "text/html": [
       "<style>\n",
       ".list-inline {list-style: none; margin:0; padding: 0}\n",
       ".list-inline>li {display: inline-block}\n",
       ".list-inline>li:not(:last-child)::after {content: \"\\00b7\"; padding: 0 .5ex}\n",
       "</style>\n",
       "<ol class=list-inline><li>1</li><li>3</li><li>5</li></ol>\n"
      ],
      "text/latex": [
       "\\begin{enumerate*}\n",
       "\\item 1\n",
       "\\item 3\n",
       "\\item 5\n",
       "\\end{enumerate*}\n"
      ],
      "text/markdown": [
       "1. 1\n",
       "2. 3\n",
       "3. 5\n",
       "\n",
       "\n"
      ],
      "text/plain": [
       "[1] 1 3 5"
      ]
     },
     "metadata": {},
     "output_type": "display_data"
    }
   ],
   "source": [
    "seq(1, 5, 2)\n",
    "seq(from=1, to=5, by=2)"
   ]
  },
  {
   "cell_type": "markdown",
   "id": "f30b5361-cf2d-4ed9-adce-3d122b58f854",
   "metadata": {},
   "source": [
    "* Có thể sử dụng hàm `seq()` để tạo ra `n` giá trị cách đều nhau"
   ]
  },
  {
   "cell_type": "code",
   "execution_count": 17,
   "id": "7fab7c1b-0927-4a2a-adcc-afebd31bb46c",
   "metadata": {},
   "outputs": [
    {
     "data": {
      "text/html": [
       "<style>\n",
       ".list-inline {list-style: none; margin:0; padding: 0}\n",
       ".list-inline>li {display: inline-block}\n",
       ".list-inline>li:not(:last-child)::after {content: \"\\00b7\"; padding: 0 .5ex}\n",
       "</style>\n",
       "<ol class=list-inline><li>0</li><li>5</li><li>10</li><li>15</li><li>20</li></ol>\n"
      ],
      "text/latex": [
       "\\begin{enumerate*}\n",
       "\\item 0\n",
       "\\item 5\n",
       "\\item 10\n",
       "\\item 15\n",
       "\\item 20\n",
       "\\end{enumerate*}\n"
      ],
      "text/markdown": [
       "1. 0\n",
       "2. 5\n",
       "3. 10\n",
       "4. 15\n",
       "5. 20\n",
       "\n",
       "\n"
      ],
      "text/plain": [
       "[1]  0  5 10 15 20"
      ]
     },
     "metadata": {},
     "output_type": "display_data"
    },
    {
     "data": {
      "text/html": [
       "<style>\n",
       ".list-inline {list-style: none; margin:0; padding: 0}\n",
       ".list-inline>li {display: inline-block}\n",
       ".list-inline>li:not(:last-child)::after {content: \"\\00b7\"; padding: 0 .5ex}\n",
       "</style>\n",
       "<ol class=list-inline><li>0</li><li>0.25</li><li>0.5</li><li>0.75</li><li>1</li></ol>\n"
      ],
      "text/latex": [
       "\\begin{enumerate*}\n",
       "\\item 0\n",
       "\\item 0.25\n",
       "\\item 0.5\n",
       "\\item 0.75\n",
       "\\item 1\n",
       "\\end{enumerate*}\n"
      ],
      "text/markdown": [
       "1. 0\n",
       "2. 0.25\n",
       "3. 0.5\n",
       "4. 0.75\n",
       "5. 1\n",
       "\n",
       "\n"
      ],
      "text/plain": [
       "[1] 0.00 0.25 0.50 0.75 1.00"
      ]
     },
     "metadata": {},
     "output_type": "display_data"
    }
   ],
   "source": [
    "seq(from=0, to=20, length.out=5)\n",
    "seq(from=0, to=1, length.out=5)"
   ]
  },
  {
   "cell_type": "markdown",
   "id": "79bf57d2-ddac-40b5-8ff7-300cd6da8455",
   "metadata": {},
   "source": [
    "* Nếu muốn lặp lại một giá trị nào đó"
   ]
  },
  {
   "cell_type": "code",
   "execution_count": 18,
   "id": "49032014-b683-4049-ae1a-7978cd0eb370",
   "metadata": {},
   "outputs": [
    {
     "data": {
      "text/html": [
       "<style>\n",
       ".list-inline {list-style: none; margin:0; padding: 0}\n",
       ".list-inline>li {display: inline-block}\n",
       ".list-inline>li:not(:last-child)::after {content: \"\\00b7\"; padding: 0 .5ex}\n",
       "</style>\n",
       "<ol class=list-inline><li>1</li><li>1</li><li>1</li><li>1</li><li>1</li></ol>\n"
      ],
      "text/latex": [
       "\\begin{enumerate*}\n",
       "\\item 1\n",
       "\\item 1\n",
       "\\item 1\n",
       "\\item 1\n",
       "\\item 1\n",
       "\\end{enumerate*}\n"
      ],
      "text/markdown": [
       "1. 1\n",
       "2. 1\n",
       "3. 1\n",
       "4. 1\n",
       "5. 1\n",
       "\n",
       "\n"
      ],
      "text/plain": [
       "[1] 1 1 1 1 1"
      ]
     },
     "metadata": {},
     "output_type": "display_data"
    },
    {
     "data": {
      "text/html": [
       "<style>\n",
       ".list-inline {list-style: none; margin:0; padding: 0}\n",
       ".list-inline>li {display: inline-block}\n",
       ".list-inline>li:not(:last-child)::after {content: \"\\00b7\"; padding: 0 .5ex}\n",
       "</style>\n",
       "<ol class=list-inline><li>3.14159265358979</li><li>3.14159265358979</li><li>3.14159265358979</li><li>3.14159265358979</li><li>3.14159265358979</li></ol>\n"
      ],
      "text/latex": [
       "\\begin{enumerate*}\n",
       "\\item 3.14159265358979\n",
       "\\item 3.14159265358979\n",
       "\\item 3.14159265358979\n",
       "\\item 3.14159265358979\n",
       "\\item 3.14159265358979\n",
       "\\end{enumerate*}\n"
      ],
      "text/markdown": [
       "1. 3.14159265358979\n",
       "2. 3.14159265358979\n",
       "3. 3.14159265358979\n",
       "4. 3.14159265358979\n",
       "5. 3.14159265358979\n",
       "\n",
       "\n"
      ],
      "text/plain": [
       "[1] 3.141593 3.141593 3.141593 3.141593 3.141593"
      ]
     },
     "metadata": {},
     "output_type": "display_data"
    }
   ],
   "source": [
    "rep(1, times=5)\n",
    "rep(pi, times=5)"
   ]
  },
  {
   "cell_type": "markdown",
   "id": "9fce879d-44bf-4f75-88f6-0f7d7bf079f0",
   "metadata": {},
   "source": [
    "* Giả sử cần tính `mean()` trong khoảng $[10, 20]$"
   ]
  },
  {
   "cell_type": "markdown",
   "id": "d38ed92b-1927-49be-aaca-fc267c06fba6",
   "metadata": {},
   "source": [
    "# 8. Comparing vectors"
   ]
  },
  {
   "cell_type": "code",
   "execution_count": 19,
   "id": "cad329c7-6655-4802-9cd9-454bcce47f87",
   "metadata": {},
   "outputs": [],
   "source": [
    "v = c(3, pi, 4)\n",
    "w = c(rep(pi, times=3))"
   ]
  },
  {
   "cell_type": "code",
   "execution_count": 20,
   "id": "bca0f743-f273-4aab-895c-cb20e80c9857",
   "metadata": {},
   "outputs": [
    {
     "data": {
      "text/html": [
       "<style>\n",
       ".list-inline {list-style: none; margin:0; padding: 0}\n",
       ".list-inline>li {display: inline-block}\n",
       ".list-inline>li:not(:last-child)::after {content: \"\\00b7\"; padding: 0 .5ex}\n",
       "</style>\n",
       "<ol class=list-inline><li>FALSE</li><li>TRUE</li><li>FALSE</li></ol>\n"
      ],
      "text/latex": [
       "\\begin{enumerate*}\n",
       "\\item FALSE\n",
       "\\item TRUE\n",
       "\\item FALSE\n",
       "\\end{enumerate*}\n"
      ],
      "text/markdown": [
       "1. FALSE\n",
       "2. TRUE\n",
       "3. FALSE\n",
       "\n",
       "\n"
      ],
      "text/plain": [
       "[1] FALSE  TRUE FALSE"
      ]
     },
     "metadata": {},
     "output_type": "display_data"
    }
   ],
   "source": [
    "v == w"
   ]
  },
  {
   "cell_type": "code",
   "execution_count": 21,
   "id": "3c3ee25c-e0b6-435b-954b-04f1b601a293",
   "metadata": {},
   "outputs": [
    {
     "data": {
      "text/html": [
       "<style>\n",
       ".list-inline {list-style: none; margin:0; padding: 0}\n",
       ".list-inline>li {display: inline-block}\n",
       ".list-inline>li:not(:last-child)::after {content: \"\\00b7\"; padding: 0 .5ex}\n",
       "</style>\n",
       "<ol class=list-inline><li>TRUE</li><li>FALSE</li><li>TRUE</li></ol>\n"
      ],
      "text/latex": [
       "\\begin{enumerate*}\n",
       "\\item TRUE\n",
       "\\item FALSE\n",
       "\\item TRUE\n",
       "\\end{enumerate*}\n"
      ],
      "text/markdown": [
       "1. TRUE\n",
       "2. FALSE\n",
       "3. TRUE\n",
       "\n",
       "\n"
      ],
      "text/plain": [
       "[1]  TRUE FALSE  TRUE"
      ]
     },
     "metadata": {},
     "output_type": "display_data"
    }
   ],
   "source": [
    "v != w"
   ]
  },
  {
   "cell_type": "code",
   "execution_count": 25,
   "id": "faf1f8e7-279a-4165-85ba-dee32c66731b",
   "metadata": {},
   "outputs": [
    {
     "data": {
      "text/html": [
       "<style>\n",
       ".list-inline {list-style: none; margin:0; padding: 0}\n",
       ".list-inline>li {display: inline-block}\n",
       ".list-inline>li:not(:last-child)::after {content: \"\\00b7\"; padding: 0 .5ex}\n",
       "</style>\n",
       "<ol class=list-inline><li>TRUE</li><li>FALSE</li><li>FALSE</li></ol>\n"
      ],
      "text/latex": [
       "\\begin{enumerate*}\n",
       "\\item TRUE\n",
       "\\item FALSE\n",
       "\\item FALSE\n",
       "\\end{enumerate*}\n"
      ],
      "text/markdown": [
       "1. TRUE\n",
       "2. FALSE\n",
       "3. FALSE\n",
       "\n",
       "\n"
      ],
      "text/plain": [
       "[1]  TRUE FALSE FALSE"
      ]
     },
     "metadata": {},
     "output_type": "display_data"
    }
   ],
   "source": [
    "v < w"
   ]
  },
  {
   "cell_type": "code",
   "execution_count": 26,
   "id": "7db94227-bd9e-4282-b16c-bab78853a9d0",
   "metadata": {},
   "outputs": [
    {
     "data": {
      "text/html": [
       "<style>\n",
       ".list-inline {list-style: none; margin:0; padding: 0}\n",
       ".list-inline>li {display: inline-block}\n",
       ".list-inline>li:not(:last-child)::after {content: \"\\00b7\"; padding: 0 .5ex}\n",
       "</style>\n",
       "<ol class=list-inline><li>FALSE</li><li>FALSE</li><li>TRUE</li></ol>\n"
      ],
      "text/latex": [
       "\\begin{enumerate*}\n",
       "\\item FALSE\n",
       "\\item FALSE\n",
       "\\item TRUE\n",
       "\\end{enumerate*}\n"
      ],
      "text/markdown": [
       "1. FALSE\n",
       "2. FALSE\n",
       "3. TRUE\n",
       "\n",
       "\n"
      ],
      "text/plain": [
       "[1] FALSE FALSE  TRUE"
      ]
     },
     "metadata": {},
     "output_type": "display_data"
    }
   ],
   "source": [
    "v > w"
   ]
  },
  {
   "cell_type": "code",
   "execution_count": 27,
   "id": "a100c084-e33c-4630-b709-e729a1aec5d2",
   "metadata": {},
   "outputs": [
    {
     "data": {
      "text/html": [
       "<style>\n",
       ".list-inline {list-style: none; margin:0; padding: 0}\n",
       ".list-inline>li {display: inline-block}\n",
       ".list-inline>li:not(:last-child)::after {content: \"\\00b7\"; padding: 0 .5ex}\n",
       "</style>\n",
       "<ol class=list-inline><li>TRUE</li><li>TRUE</li><li>FALSE</li></ol>\n"
      ],
      "text/latex": [
       "\\begin{enumerate*}\n",
       "\\item TRUE\n",
       "\\item TRUE\n",
       "\\item FALSE\n",
       "\\end{enumerate*}\n"
      ],
      "text/markdown": [
       "1. TRUE\n",
       "2. TRUE\n",
       "3. FALSE\n",
       "\n",
       "\n"
      ],
      "text/plain": [
       "[1]  TRUE  TRUE FALSE"
      ]
     },
     "metadata": {},
     "output_type": "display_data"
    }
   ],
   "source": [
    "v <= w"
   ]
  },
  {
   "cell_type": "code",
   "execution_count": 28,
   "id": "645a0a13-7fa0-4ba5-a0a3-4ed333780a54",
   "metadata": {},
   "outputs": [
    {
     "data": {
      "text/html": [
       "<style>\n",
       ".list-inline {list-style: none; margin:0; padding: 0}\n",
       ".list-inline>li {display: inline-block}\n",
       ".list-inline>li:not(:last-child)::after {content: \"\\00b7\"; padding: 0 .5ex}\n",
       "</style>\n",
       "<ol class=list-inline><li>FALSE</li><li>TRUE</li><li>TRUE</li></ol>\n"
      ],
      "text/latex": [
       "\\begin{enumerate*}\n",
       "\\item FALSE\n",
       "\\item TRUE\n",
       "\\item TRUE\n",
       "\\end{enumerate*}\n"
      ],
      "text/markdown": [
       "1. FALSE\n",
       "2. TRUE\n",
       "3. TRUE\n",
       "\n",
       "\n"
      ],
      "text/plain": [
       "[1] FALSE  TRUE  TRUE"
      ]
     },
     "metadata": {},
     "output_type": "display_data"
    }
   ],
   "source": [
    "v >= w"
   ]
  },
  {
   "cell_type": "markdown",
   "id": "b3f58439-3128-4a4d-90ad-b5af91cae403",
   "metadata": {},
   "source": [
    "* Ngoài ra R cũng mặc định tự động mở rộng vector ra nếu ta so sánh một vector với một hằng số"
   ]
  },
  {
   "cell_type": "code",
   "execution_count": 29,
   "id": "985ca318-c0b3-48f8-b245-20c2433df1d4",
   "metadata": {},
   "outputs": [
    {
     "data": {
      "text/html": [
       "<style>\n",
       ".list-inline {list-style: none; margin:0; padding: 0}\n",
       ".list-inline>li {display: inline-block}\n",
       ".list-inline>li:not(:last-child)::after {content: \"\\00b7\"; padding: 0 .5ex}\n",
       "</style>\n",
       "<ol class=list-inline><li>3</li><li>3.14159265358979</li><li>4</li></ol>\n"
      ],
      "text/latex": [
       "\\begin{enumerate*}\n",
       "\\item 3\n",
       "\\item 3.14159265358979\n",
       "\\item 4\n",
       "\\end{enumerate*}\n"
      ],
      "text/markdown": [
       "1. 3\n",
       "2. 3.14159265358979\n",
       "3. 4\n",
       "\n",
       "\n"
      ],
      "text/plain": [
       "[1] 3.000000 3.141593 4.000000"
      ]
     },
     "metadata": {},
     "output_type": "display_data"
    }
   ],
   "source": [
    "v"
   ]
  },
  {
   "cell_type": "code",
   "execution_count": 30,
   "id": "7126178d-42e1-4975-8211-5a247b4eef62",
   "metadata": {},
   "outputs": [
    {
     "data": {
      "text/html": [
       "<style>\n",
       ".list-inline {list-style: none; margin:0; padding: 0}\n",
       ".list-inline>li {display: inline-block}\n",
       ".list-inline>li:not(:last-child)::after {content: \"\\00b7\"; padding: 0 .5ex}\n",
       "</style>\n",
       "<ol class=list-inline><li>FALSE</li><li>TRUE</li><li>FALSE</li></ol>\n"
      ],
      "text/latex": [
       "\\begin{enumerate*}\n",
       "\\item FALSE\n",
       "\\item TRUE\n",
       "\\item FALSE\n",
       "\\end{enumerate*}\n"
      ],
      "text/markdown": [
       "1. FALSE\n",
       "2. TRUE\n",
       "3. FALSE\n",
       "\n",
       "\n"
      ],
      "text/plain": [
       "[1] FALSE  TRUE FALSE"
      ]
     },
     "metadata": {},
     "output_type": "display_data"
    }
   ],
   "source": [
    "v == pi"
   ]
  },
  {
   "cell_type": "markdown",
   "id": "40b0aba3-cbcf-4b6d-bc41-0540b9b6d1fc",
   "metadata": {},
   "source": [
    "> * Đang so sánh từng phần tử của vector `v` với hằng số `pi`"
   ]
  },
  {
   "cell_type": "code",
   "execution_count": 31,
   "id": "d6d14434-b8bf-49c7-9bef-ee75d73f5ea7",
   "metadata": {},
   "outputs": [
    {
     "data": {
      "text/html": [
       "<style>\n",
       ".list-inline {list-style: none; margin:0; padding: 0}\n",
       ".list-inline>li {display: inline-block}\n",
       ".list-inline>li:not(:last-child)::after {content: \"\\00b7\"; padding: 0 .5ex}\n",
       "</style>\n",
       "<ol class=list-inline><li>TRUE</li><li>FALSE</li><li>TRUE</li></ol>\n"
      ],
      "text/latex": [
       "\\begin{enumerate*}\n",
       "\\item TRUE\n",
       "\\item FALSE\n",
       "\\item TRUE\n",
       "\\end{enumerate*}\n"
      ],
      "text/markdown": [
       "1. TRUE\n",
       "2. FALSE\n",
       "3. TRUE\n",
       "\n",
       "\n"
      ],
      "text/plain": [
       "[1]  TRUE FALSE  TRUE"
      ]
     },
     "metadata": {},
     "output_type": "display_data"
    }
   ],
   "source": [
    "v != pi"
   ]
  },
  {
   "cell_type": "markdown",
   "id": "b5eab8b2-a287-4dba-98b0-bc99557e0df7",
   "metadata": {},
   "source": [
    "* Dùng hàm `any()` và `all()`"
   ]
  },
  {
   "cell_type": "code",
   "execution_count": 32,
   "id": "5acae2d4-293e-4328-ae42-479bfd7c08a1",
   "metadata": {},
   "outputs": [
    {
     "data": {
      "text/html": [
       "<style>\n",
       ".list-inline {list-style: none; margin:0; padding: 0}\n",
       ".list-inline>li {display: inline-block}\n",
       ".list-inline>li:not(:last-child)::after {content: \"\\00b7\"; padding: 0 .5ex}\n",
       "</style>\n",
       "<ol class=list-inline><li>3</li><li>3.14159265358979</li><li>4</li></ol>\n"
      ],
      "text/latex": [
       "\\begin{enumerate*}\n",
       "\\item 3\n",
       "\\item 3.14159265358979\n",
       "\\item 4\n",
       "\\end{enumerate*}\n"
      ],
      "text/markdown": [
       "1. 3\n",
       "2. 3.14159265358979\n",
       "3. 4\n",
       "\n",
       "\n"
      ],
      "text/plain": [
       "[1] 3.000000 3.141593 4.000000"
      ]
     },
     "metadata": {},
     "output_type": "display_data"
    }
   ],
   "source": [
    "v"
   ]
  },
  {
   "cell_type": "markdown",
   "id": "7d771946-67e2-4a63-9801-ba7bcc5657bf",
   "metadata": {},
   "source": [
    "* `any()` trả về `TRUE` nếu có **một phần tử thỏa**"
   ]
  },
  {
   "cell_type": "code",
   "execution_count": 33,
   "id": "e0ce3ac7-dcc3-4c5a-8ff2-38f9161df3e9",
   "metadata": {},
   "outputs": [
    {
     "data": {
      "text/html": [
       "TRUE"
      ],
      "text/latex": [
       "TRUE"
      ],
      "text/markdown": [
       "TRUE"
      ],
      "text/plain": [
       "[1] TRUE"
      ]
     },
     "metadata": {},
     "output_type": "display_data"
    }
   ],
   "source": [
    "any(v == pi)"
   ]
  },
  {
   "cell_type": "markdown",
   "id": "55295474-09c5-4ccd-ae8d-bb596088ed3e",
   "metadata": {},
   "source": [
    "* `all()` trả về `TRUE` nếu **tất cả các phần từ đều thỏa**"
   ]
  },
  {
   "cell_type": "code",
   "execution_count": 34,
   "id": "87542969-5c19-4a7d-b770-9cdf82bbb117",
   "metadata": {},
   "outputs": [
    {
     "data": {
      "text/html": [
       "FALSE"
      ],
      "text/latex": [
       "FALSE"
      ],
      "text/markdown": [
       "FALSE"
      ],
      "text/plain": [
       "[1] FALSE"
      ]
     },
     "metadata": {},
     "output_type": "display_data"
    }
   ],
   "source": [
    "all(v == pi)"
   ]
  },
  {
   "cell_type": "markdown",
   "id": "dd287f34-eef4-424a-9388-5037d6ca69a0",
   "metadata": {},
   "source": [
    "# 9. Selecting vector elements"
   ]
  },
  {
   "cell_type": "code",
   "execution_count": 35,
   "id": "21ca9785-28c9-4548-8e3a-43695c63dff7",
   "metadata": {},
   "outputs": [
    {
     "data": {
      "text/html": [
       "<style>\n",
       ".list-inline {list-style: none; margin:0; padding: 0}\n",
       ".list-inline>li {display: inline-block}\n",
       ".list-inline>li:not(:last-child)::after {content: \"\\00b7\"; padding: 0 .5ex}\n",
       "</style>\n",
       "<ol class=list-inline><li>0</li><li>1</li><li>1</li><li>2</li><li>3</li><li>5</li><li>8</li><li>13</li><li>21</li><li>34</li></ol>\n"
      ],
      "text/latex": [
       "\\begin{enumerate*}\n",
       "\\item 0\n",
       "\\item 1\n",
       "\\item 1\n",
       "\\item 2\n",
       "\\item 3\n",
       "\\item 5\n",
       "\\item 8\n",
       "\\item 13\n",
       "\\item 21\n",
       "\\item 34\n",
       "\\end{enumerate*}\n"
      ],
      "text/markdown": [
       "1. 0\n",
       "2. 1\n",
       "3. 1\n",
       "4. 2\n",
       "5. 3\n",
       "6. 5\n",
       "7. 8\n",
       "8. 13\n",
       "9. 21\n",
       "10. 34\n",
       "\n",
       "\n"
      ],
      "text/plain": [
       " [1]  0  1  1  2  3  5  8 13 21 34"
      ]
     },
     "metadata": {},
     "output_type": "display_data"
    }
   ],
   "source": [
    "fib <- c(0, 1, 1, 2, 3, 5, 8, 13, 21, 34)\n",
    "\n",
    "fib"
   ]
  },
  {
   "cell_type": "code",
   "execution_count": 36,
   "id": "093a25cb-5161-44ec-9bb3-dfe54a6fc3ad",
   "metadata": {},
   "outputs": [
    {
     "data": {
      "text/html": [
       "0"
      ],
      "text/latex": [
       "0"
      ],
      "text/markdown": [
       "0"
      ],
      "text/plain": [
       "[1] 0"
      ]
     },
     "metadata": {},
     "output_type": "display_data"
    }
   ],
   "source": [
    "fib[1]"
   ]
  },
  {
   "cell_type": "code",
   "execution_count": 37,
   "id": "200d0818-6bcb-46d2-83d5-f6fc55bfcc49",
   "metadata": {},
   "outputs": [
    {
     "data": {
      "text/html": [
       "1"
      ],
      "text/latex": [
       "1"
      ],
      "text/markdown": [
       "1"
      ],
      "text/plain": [
       "[1] 1"
      ]
     },
     "metadata": {},
     "output_type": "display_data"
    }
   ],
   "source": [
    "fib[2]"
   ]
  },
  {
   "cell_type": "code",
   "execution_count": 38,
   "id": "c49b3728-1aec-4591-ae27-df7cb059f924",
   "metadata": {},
   "outputs": [
    {
     "data": {
      "text/html": [
       "1"
      ],
      "text/latex": [
       "1"
      ],
      "text/markdown": [
       "1"
      ],
      "text/plain": [
       "[1] 1"
      ]
     },
     "metadata": {},
     "output_type": "display_data"
    }
   ],
   "source": [
    "fib[3]"
   ]
  },
  {
   "cell_type": "code",
   "execution_count": 39,
   "id": "f69bacf3-347d-4690-8e79-432795461249",
   "metadata": {},
   "outputs": [
    {
     "data": {
      "text/html": [
       "3"
      ],
      "text/latex": [
       "3"
      ],
      "text/markdown": [
       "3"
      ],
      "text/plain": [
       "[1] 3"
      ]
     },
     "metadata": {},
     "output_type": "display_data"
    }
   ],
   "source": [
    "fib[5]"
   ]
  },
  {
   "cell_type": "code",
   "execution_count": 40,
   "id": "88732dff-1a27-4549-9122-6181770aeae5",
   "metadata": {},
   "outputs": [
    {
     "data": {
      "text/html": [
       "<style>\n",
       ".list-inline {list-style: none; margin:0; padding: 0}\n",
       ".list-inline>li {display: inline-block}\n",
       ".list-inline>li:not(:last-child)::after {content: \"\\00b7\"; padding: 0 .5ex}\n",
       "</style>\n",
       "<ol class=list-inline><li>0</li><li>1</li><li>1</li></ol>\n"
      ],
      "text/latex": [
       "\\begin{enumerate*}\n",
       "\\item 0\n",
       "\\item 1\n",
       "\\item 1\n",
       "\\end{enumerate*}\n"
      ],
      "text/markdown": [
       "1. 0\n",
       "2. 1\n",
       "3. 1\n",
       "\n",
       "\n"
      ],
      "text/plain": [
       "[1] 0 1 1"
      ]
     },
     "metadata": {},
     "output_type": "display_data"
    }
   ],
   "source": [
    "fib[1:3]"
   ]
  },
  {
   "cell_type": "code",
   "execution_count": 41,
   "id": "34b8aa73-0ccc-439a-af50-0a4c5ccdfc07",
   "metadata": {},
   "outputs": [
    {
     "data": {
      "text/html": [
       "<style>\n",
       ".list-inline {list-style: none; margin:0; padding: 0}\n",
       ".list-inline>li {display: inline-block}\n",
       ".list-inline>li:not(:last-child)::after {content: \"\\00b7\"; padding: 0 .5ex}\n",
       "</style>\n",
       "<ol class=list-inline><li>2</li><li>3</li><li>5</li><li>8</li><li>13</li><li>21</li></ol>\n"
      ],
      "text/latex": [
       "\\begin{enumerate*}\n",
       "\\item 2\n",
       "\\item 3\n",
       "\\item 5\n",
       "\\item 8\n",
       "\\item 13\n",
       "\\item 21\n",
       "\\end{enumerate*}\n"
      ],
      "text/markdown": [
       "1. 2\n",
       "2. 3\n",
       "3. 5\n",
       "4. 8\n",
       "5. 13\n",
       "6. 21\n",
       "\n",
       "\n"
      ],
      "text/plain": [
       "[1]  2  3  5  8 13 21"
      ]
     },
     "metadata": {},
     "output_type": "display_data"
    }
   ],
   "source": [
    "fib[4:9]"
   ]
  },
  {
   "cell_type": "code",
   "execution_count": 44,
   "id": "8d46ecd7-f905-4c60-ad1c-88f6c4485f38",
   "metadata": {},
   "outputs": [
    {
     "data": {
      "text/html": [
       "<style>\n",
       ".list-inline {list-style: none; margin:0; padding: 0}\n",
       ".list-inline>li {display: inline-block}\n",
       ".list-inline>li:not(:last-child)::after {content: \"\\00b7\"; padding: 0 .5ex}\n",
       "</style>\n",
       "<ol class=list-inline><li>0</li><li>1</li><li>2</li><li>13</li></ol>\n"
      ],
      "text/latex": [
       "\\begin{enumerate*}\n",
       "\\item 0\n",
       "\\item 1\n",
       "\\item 2\n",
       "\\item 13\n",
       "\\end{enumerate*}\n"
      ],
      "text/markdown": [
       "1. 0\n",
       "2. 1\n",
       "3. 2\n",
       "4. 13\n",
       "\n",
       "\n"
      ],
      "text/plain": [
       "[1]  0  1  2 13"
      ]
     },
     "metadata": {},
     "output_type": "display_data"
    }
   ],
   "source": [
    "fib[c(1, 2, 4, 8)]"
   ]
  },
  {
   "cell_type": "markdown",
   "id": "6132b41a-54a3-4bcf-be1c-bedc3ee14ab6",
   "metadata": {},
   "source": [
    "* Ko giống Python, code dưới đây có nghĩa là bỏ đi phần tử có index là 1, là lấy tất cả các phần tử thuộc các index còn lại"
   ]
  },
  {
   "cell_type": "code",
   "execution_count": 45,
   "id": "0275bce5-7b76-4e5f-87e3-937d40cdfa1e",
   "metadata": {},
   "outputs": [
    {
     "data": {
      "text/html": [
       "<style>\n",
       ".list-inline {list-style: none; margin:0; padding: 0}\n",
       ".list-inline>li {display: inline-block}\n",
       ".list-inline>li:not(:last-child)::after {content: \"\\00b7\"; padding: 0 .5ex}\n",
       "</style>\n",
       "<ol class=list-inline><li>1</li><li>1</li><li>2</li><li>3</li><li>5</li><li>8</li><li>13</li><li>21</li><li>34</li></ol>\n"
      ],
      "text/latex": [
       "\\begin{enumerate*}\n",
       "\\item 1\n",
       "\\item 1\n",
       "\\item 2\n",
       "\\item 3\n",
       "\\item 5\n",
       "\\item 8\n",
       "\\item 13\n",
       "\\item 21\n",
       "\\item 34\n",
       "\\end{enumerate*}\n"
      ],
      "text/markdown": [
       "1. 1\n",
       "2. 1\n",
       "3. 2\n",
       "4. 3\n",
       "5. 5\n",
       "6. 8\n",
       "7. 13\n",
       "8. 21\n",
       "9. 34\n",
       "\n",
       "\n"
      ],
      "text/plain": [
       "[1]  1  1  2  3  5  8 13 21 34"
      ]
     },
     "metadata": {},
     "output_type": "display_data"
    }
   ],
   "source": [
    "fib[-1]"
   ]
  },
  {
   "cell_type": "markdown",
   "id": "83021dcc-6751-47d9-9ccb-3673a0299585",
   "metadata": {},
   "source": [
    "* Code dưới đây có nghĩa là lấy tất cả các phần tử ngoại trừ phần tử có index nằm trong $[1, 3]$"
   ]
  },
  {
   "cell_type": "code",
   "execution_count": 46,
   "id": "b420d5ed-a50b-4bed-b25d-8321e9b29314",
   "metadata": {},
   "outputs": [
    {
     "data": {
      "text/html": [
       "<style>\n",
       ".list-inline {list-style: none; margin:0; padding: 0}\n",
       ".list-inline>li {display: inline-block}\n",
       ".list-inline>li:not(:last-child)::after {content: \"\\00b7\"; padding: 0 .5ex}\n",
       "</style>\n",
       "<ol class=list-inline><li>0</li><li>1</li><li>1</li></ol>\n"
      ],
      "text/latex": [
       "\\begin{enumerate*}\n",
       "\\item 0\n",
       "\\item 1\n",
       "\\item 1\n",
       "\\end{enumerate*}\n"
      ],
      "text/markdown": [
       "1. 0\n",
       "2. 1\n",
       "3. 1\n",
       "\n",
       "\n"
      ],
      "text/plain": [
       "[1] 0 1 1"
      ]
     },
     "metadata": {},
     "output_type": "display_data"
    }
   ],
   "source": [
    "fib[1:3]"
   ]
  },
  {
   "cell_type": "code",
   "execution_count": 47,
   "id": "9b920cd9-87c5-41a3-b5c1-e33eed265049",
   "metadata": {},
   "outputs": [
    {
     "data": {
      "text/html": [
       "<style>\n",
       ".list-inline {list-style: none; margin:0; padding: 0}\n",
       ".list-inline>li {display: inline-block}\n",
       ".list-inline>li:not(:last-child)::after {content: \"\\00b7\"; padding: 0 .5ex}\n",
       "</style>\n",
       "<ol class=list-inline><li>2</li><li>3</li><li>5</li><li>8</li><li>13</li><li>21</li><li>34</li></ol>\n"
      ],
      "text/latex": [
       "\\begin{enumerate*}\n",
       "\\item 2\n",
       "\\item 3\n",
       "\\item 5\n",
       "\\item 8\n",
       "\\item 13\n",
       "\\item 21\n",
       "\\item 34\n",
       "\\end{enumerate*}\n"
      ],
      "text/markdown": [
       "1. 2\n",
       "2. 3\n",
       "3. 5\n",
       "4. 8\n",
       "5. 13\n",
       "6. 21\n",
       "7. 34\n",
       "\n",
       "\n"
      ],
      "text/plain": [
       "[1]  2  3  5  8 13 21 34"
      ]
     },
     "metadata": {},
     "output_type": "display_data"
    }
   ],
   "source": [
    "fib[-(1:3)]"
   ]
  },
  {
   "cell_type": "markdown",
   "id": "7d845cc6-82d3-41f1-961b-ad439800a275",
   "metadata": {},
   "source": [
    "* Lọc dữ liệu"
   ]
  },
  {
   "cell_type": "code",
   "execution_count": 48,
   "id": "9c5be083-caff-4139-8e73-70f2ef049e7a",
   "metadata": {},
   "outputs": [
    {
     "data": {
      "text/html": [
       "<style>\n",
       ".list-inline {list-style: none; margin:0; padding: 0}\n",
       ".list-inline>li {display: inline-block}\n",
       ".list-inline>li:not(:last-child)::after {content: \"\\00b7\"; padding: 0 .5ex}\n",
       "</style>\n",
       "<ol class=list-inline><li>TRUE</li><li>TRUE</li><li>TRUE</li><li>TRUE</li><li>TRUE</li><li>TRUE</li><li>TRUE</li><li>FALSE</li><li>FALSE</li><li>FALSE</li></ol>\n"
      ],
      "text/latex": [
       "\\begin{enumerate*}\n",
       "\\item TRUE\n",
       "\\item TRUE\n",
       "\\item TRUE\n",
       "\\item TRUE\n",
       "\\item TRUE\n",
       "\\item TRUE\n",
       "\\item TRUE\n",
       "\\item FALSE\n",
       "\\item FALSE\n",
       "\\item FALSE\n",
       "\\end{enumerate*}\n"
      ],
      "text/markdown": [
       "1. TRUE\n",
       "2. TRUE\n",
       "3. TRUE\n",
       "4. TRUE\n",
       "5. TRUE\n",
       "6. TRUE\n",
       "7. TRUE\n",
       "8. FALSE\n",
       "9. FALSE\n",
       "10. FALSE\n",
       "\n",
       "\n"
      ],
      "text/plain": [
       " [1]  TRUE  TRUE  TRUE  TRUE  TRUE  TRUE  TRUE FALSE FALSE FALSE"
      ]
     },
     "metadata": {},
     "output_type": "display_data"
    }
   ],
   "source": [
    "fib < 10"
   ]
  },
  {
   "cell_type": "code",
   "execution_count": 49,
   "id": "c59bfd7f-f3d1-455e-826d-b5954ded8dde",
   "metadata": {},
   "outputs": [
    {
     "data": {
      "text/html": [
       "<style>\n",
       ".list-inline {list-style: none; margin:0; padding: 0}\n",
       ".list-inline>li {display: inline-block}\n",
       ".list-inline>li:not(:last-child)::after {content: \"\\00b7\"; padding: 0 .5ex}\n",
       "</style>\n",
       "<ol class=list-inline><li>0</li><li>1</li><li>1</li><li>2</li><li>3</li><li>5</li><li>8</li></ol>\n"
      ],
      "text/latex": [
       "\\begin{enumerate*}\n",
       "\\item 0\n",
       "\\item 1\n",
       "\\item 1\n",
       "\\item 2\n",
       "\\item 3\n",
       "\\item 5\n",
       "\\item 8\n",
       "\\end{enumerate*}\n"
      ],
      "text/markdown": [
       "1. 0\n",
       "2. 1\n",
       "3. 1\n",
       "4. 2\n",
       "5. 3\n",
       "6. 5\n",
       "7. 8\n",
       "\n",
       "\n"
      ],
      "text/plain": [
       "[1] 0 1 1 2 3 5 8"
      ]
     },
     "metadata": {},
     "output_type": "display_data"
    }
   ],
   "source": [
    "fib[fib < 10]"
   ]
  },
  {
   "cell_type": "code",
   "execution_count": 51,
   "id": "92c72bb5-0297-489a-a830-bbe47b566286",
   "metadata": {},
   "outputs": [
    {
     "data": {
      "text/html": [
       "<style>\n",
       ".list-inline {list-style: none; margin:0; padding: 0}\n",
       ".list-inline>li {display: inline-block}\n",
       ".list-inline>li:not(:last-child)::after {content: \"\\00b7\"; padding: 0 .5ex}\n",
       "</style>\n",
       "<ol class=list-inline><li>0</li><li>2</li><li>8</li><li>34</li></ol>\n"
      ],
      "text/latex": [
       "\\begin{enumerate*}\n",
       "\\item 0\n",
       "\\item 2\n",
       "\\item 8\n",
       "\\item 34\n",
       "\\end{enumerate*}\n"
      ],
      "text/markdown": [
       "1. 0\n",
       "2. 2\n",
       "3. 8\n",
       "4. 34\n",
       "\n",
       "\n"
      ],
      "text/plain": [
       "[1]  0  2  8 34"
      ]
     },
     "metadata": {},
     "output_type": "display_data"
    }
   ],
   "source": [
    "fib[fib %% 2 == 0]"
   ]
  },
  {
   "cell_type": "code",
   "execution_count": null,
   "id": "ea873cf2-f316-43b0-88e3-f36344fd1f3f",
   "metadata": {},
   "outputs": [],
   "source": []
  },
  {
   "cell_type": "code",
   "execution_count": 52,
   "id": "2b5ea93f-9a20-4424-8284-a727f2672395",
   "metadata": {},
   "outputs": [],
   "source": [
    "v = c(3, 6, 1, 9, 11, 16, 0, 3, 1, 45, 2, 8, 9, 6, -4)"
   ]
  },
  {
   "cell_type": "code",
   "execution_count": 53,
   "id": "d17f4929-17cc-4a53-93f4-ebb8b86201ff",
   "metadata": {},
   "outputs": [
    {
     "data": {
      "text/html": [
       "<style>\n",
       ".list-inline {list-style: none; margin:0; padding: 0}\n",
       ".list-inline>li {display: inline-block}\n",
       ".list-inline>li:not(:last-child)::after {content: \"\\00b7\"; padding: 0 .5ex}\n",
       "</style>\n",
       "<ol class=list-inline><li>9</li><li>11</li><li>16</li><li>45</li><li>8</li><li>9</li></ol>\n"
      ],
      "text/latex": [
       "\\begin{enumerate*}\n",
       "\\item 9\n",
       "\\item 11\n",
       "\\item 16\n",
       "\\item 45\n",
       "\\item 8\n",
       "\\item 9\n",
       "\\end{enumerate*}\n"
      ],
      "text/markdown": [
       "1. 9\n",
       "2. 11\n",
       "3. 16\n",
       "4. 45\n",
       "5. 8\n",
       "6. 9\n",
       "\n",
       "\n"
      ],
      "text/plain": [
       "[1]  9 11 16 45  8  9"
      ]
     },
     "metadata": {},
     "output_type": "display_data"
    }
   ],
   "source": [
    "v[v > median(v)]"
   ]
  },
  {
   "cell_type": "code",
   "execution_count": 54,
   "id": "bd50fea8-9645-4d02-be53-6931ddae84ad",
   "metadata": {},
   "outputs": [
    {
     "data": {
      "text/html": [
       "<style>\n",
       ".list-inline {list-style: none; margin:0; padding: 0}\n",
       ".list-inline>li {display: inline-block}\n",
       ".list-inline>li:not(:last-child)::after {content: \"\\00b7\"; padding: 0 .5ex}\n",
       "</style>\n",
       "<ol class=list-inline><li>45</li><li>-4</li></ol>\n"
      ],
      "text/latex": [
       "\\begin{enumerate*}\n",
       "\\item 45\n",
       "\\item -4\n",
       "\\end{enumerate*}\n"
      ],
      "text/markdown": [
       "1. 45\n",
       "2. -4\n",
       "\n",
       "\n"
      ],
      "text/plain": [
       "[1] 45 -4"
      ]
     },
     "metadata": {},
     "output_type": "display_data"
    }
   ],
   "source": [
    "v[v < quantile(v, 0.05) | (v > quantile(v, 0.95))]"
   ]
  },
  {
   "cell_type": "code",
   "execution_count": 55,
   "id": "efbaffc2-c630-4a7a-b49d-247e58076898",
   "metadata": {},
   "outputs": [
    {
     "data": {
      "text/html": [
       "<style>\n",
       ".list-inline {list-style: none; margin:0; padding: 0}\n",
       ".list-inline>li {display: inline-block}\n",
       ".list-inline>li:not(:last-child)::after {content: \"\\00b7\"; padding: 0 .5ex}\n",
       "</style>\n",
       "<ol class=list-inline><li>45</li><li>-4</li></ol>\n"
      ],
      "text/latex": [
       "\\begin{enumerate*}\n",
       "\\item 45\n",
       "\\item -4\n",
       "\\end{enumerate*}\n"
      ],
      "text/markdown": [
       "1. 45\n",
       "2. -4\n",
       "\n",
       "\n"
      ],
      "text/plain": [
       "[1] 45 -4"
      ]
     },
     "metadata": {},
     "output_type": "display_data"
    }
   ],
   "source": [
    "v[abs(v - mean(v)) > sd(v)]"
   ]
  },
  {
   "cell_type": "code",
   "execution_count": 56,
   "id": "608eb80e-32e0-4408-89eb-f406a89c2a1c",
   "metadata": {},
   "outputs": [
    {
     "data": {
      "text/html": [
       "<style>\n",
       ".list-inline {list-style: none; margin:0; padding: 0}\n",
       ".list-inline>li {display: inline-block}\n",
       ".list-inline>li:not(:last-child)::after {content: \"\\00b7\"; padding: 0 .5ex}\n",
       "</style>\n",
       "<ol class=list-inline><li>1</li><li>2</li><li>3</li><li>5</li></ol>\n"
      ],
      "text/latex": [
       "\\begin{enumerate*}\n",
       "\\item 1\n",
       "\\item 2\n",
       "\\item 3\n",
       "\\item 5\n",
       "\\end{enumerate*}\n"
      ],
      "text/markdown": [
       "1. 1\n",
       "2. 2\n",
       "3. 3\n",
       "4. 5\n",
       "\n",
       "\n"
      ],
      "text/plain": [
       "[1] 1 2 3 5"
      ]
     },
     "metadata": {},
     "output_type": "display_data"
    }
   ],
   "source": [
    "v = c(1, 2, 3, NA, 5)\n",
    "v[!is.na(v) & !is.null(v)]"
   ]
  },
  {
   "cell_type": "code",
   "execution_count": null,
   "id": "3b4fdc3e-6e82-4940-98d5-229f2ed7dff7",
   "metadata": {},
   "outputs": [],
   "source": []
  },
  {
   "cell_type": "markdown",
   "id": "50241fff-fd49-44ff-9699-73fa5654d31c",
   "metadata": {},
   "source": [
    "* Tính năng lập chỉ mục (index), thay vì chỉ mục là các số nguyên, vây giờ có thể là chuổi"
   ]
  },
  {
   "cell_type": "code",
   "execution_count": 58,
   "id": "5cf533f1-3a87-413c-8f6e-977886ff6465",
   "metadata": {},
   "outputs": [
    {
     "name": "stdout",
     "output_type": "stream",
     "text": [
      "Kennedy Johnson  Carter Clinton \n",
      "   1960    1964    1976    1994 \n"
     ]
    }
   ],
   "source": [
    "years = c(1960, 1964, 1976, 1994)\n",
    "names(years) = c(\"Kennedy\", \"Johnson\", \"Carter\", \"Clinton\")\n",
    "\n",
    "print(years)"
   ]
  },
  {
   "cell_type": "code",
   "execution_count": 59,
   "id": "3ce39847-a71d-40f2-bbb2-f14af77cd001",
   "metadata": {},
   "outputs": [
    {
     "data": {
      "text/html": [
       "<strong>Carter:</strong> 1976"
      ],
      "text/latex": [
       "\\textbf{Carter:} 1976"
      ],
      "text/markdown": [
       "**Carter:** 1976"
      ],
      "text/plain": [
       "Carter \n",
       "  1976 "
      ]
     },
     "metadata": {},
     "output_type": "display_data"
    }
   ],
   "source": [
    "years[\"Carter\"]"
   ]
  },
  {
   "cell_type": "code",
   "execution_count": 60,
   "id": "55ba45b0-addc-46fb-9cbc-452fcd13c700",
   "metadata": {},
   "outputs": [
    {
     "data": {
      "text/html": [
       "<strong>Clinton:</strong> 1994"
      ],
      "text/latex": [
       "\\textbf{Clinton:} 1994"
      ],
      "text/markdown": [
       "**Clinton:** 1994"
      ],
      "text/plain": [
       "Clinton \n",
       "   1994 "
      ]
     },
     "metadata": {},
     "output_type": "display_data"
    }
   ],
   "source": [
    "years['Clinton']"
   ]
  },
  {
   "cell_type": "code",
   "execution_count": 61,
   "id": "5963e8d4-f750-41de-a5ac-5f00e8841f01",
   "metadata": {},
   "outputs": [
    {
     "data": {
      "text/html": [
       "<style>\n",
       ".dl-inline {width: auto; margin:0; padding: 0}\n",
       ".dl-inline>dt, .dl-inline>dd {float: none; width: auto; display: inline-block}\n",
       ".dl-inline>dt::after {content: \":\\0020\"; padding-right: .5ex}\n",
       ".dl-inline>dt:not(:first-of-type) {padding-left: .5ex}\n",
       "</style><dl class=dl-inline><dt>Carter</dt><dd>1976</dd><dt>Clinton</dt><dd>1994</dd></dl>\n"
      ],
      "text/latex": [
       "\\begin{description*}\n",
       "\\item[Carter] 1976\n",
       "\\item[Clinton] 1994\n",
       "\\end{description*}\n"
      ],
      "text/markdown": [
       "Carter\n",
       ":   1976Clinton\n",
       ":   1994\n",
       "\n"
      ],
      "text/plain": [
       " Carter Clinton \n",
       "   1976    1994 "
      ]
     },
     "metadata": {},
     "output_type": "display_data"
    }
   ],
   "source": [
    "years[c('Carter', 'Clinton')]"
   ]
  },
  {
   "cell_type": "markdown",
   "id": "e5e20b84-b097-4c5a-b9d4-b3531c6d741d",
   "metadata": {},
   "source": [
    "# 10. Performing vector arithmetic"
   ]
  },
  {
   "cell_type": "code",
   "execution_count": 63,
   "id": "5982350d-f9de-4fc1-b00e-1aa40225b0b4",
   "metadata": {},
   "outputs": [],
   "source": [
    "v = c(11, 12, 13, 14, 15)\n",
    "w = c(1, 2, 3, 4, 5)"
   ]
  },
  {
   "cell_type": "code",
   "execution_count": 64,
   "id": "9ce84a0b-8e4d-4e7b-80d6-ef567dbffe71",
   "metadata": {},
   "outputs": [
    {
     "data": {
      "text/html": [
       "<style>\n",
       ".list-inline {list-style: none; margin:0; padding: 0}\n",
       ".list-inline>li {display: inline-block}\n",
       ".list-inline>li:not(:last-child)::after {content: \"\\00b7\"; padding: 0 .5ex}\n",
       "</style>\n",
       "<ol class=list-inline><li>12</li><li>14</li><li>16</li><li>18</li><li>20</li></ol>\n"
      ],
      "text/latex": [
       "\\begin{enumerate*}\n",
       "\\item 12\n",
       "\\item 14\n",
       "\\item 16\n",
       "\\item 18\n",
       "\\item 20\n",
       "\\end{enumerate*}\n"
      ],
      "text/markdown": [
       "1. 12\n",
       "2. 14\n",
       "3. 16\n",
       "4. 18\n",
       "5. 20\n",
       "\n",
       "\n"
      ],
      "text/plain": [
       "[1] 12 14 16 18 20"
      ]
     },
     "metadata": {},
     "output_type": "display_data"
    }
   ],
   "source": [
    "v + w"
   ]
  },
  {
   "cell_type": "code",
   "execution_count": 65,
   "id": "89abbec4-5ed6-4105-86a4-05ac8e3d8330",
   "metadata": {},
   "outputs": [
    {
     "data": {
      "text/html": [
       "<style>\n",
       ".list-inline {list-style: none; margin:0; padding: 0}\n",
       ".list-inline>li {display: inline-block}\n",
       ".list-inline>li:not(:last-child)::after {content: \"\\00b7\"; padding: 0 .5ex}\n",
       "</style>\n",
       "<ol class=list-inline><li>10</li><li>10</li><li>10</li><li>10</li><li>10</li></ol>\n"
      ],
      "text/latex": [
       "\\begin{enumerate*}\n",
       "\\item 10\n",
       "\\item 10\n",
       "\\item 10\n",
       "\\item 10\n",
       "\\item 10\n",
       "\\end{enumerate*}\n"
      ],
      "text/markdown": [
       "1. 10\n",
       "2. 10\n",
       "3. 10\n",
       "4. 10\n",
       "5. 10\n",
       "\n",
       "\n"
      ],
      "text/plain": [
       "[1] 10 10 10 10 10"
      ]
     },
     "metadata": {},
     "output_type": "display_data"
    }
   ],
   "source": [
    "v - w"
   ]
  },
  {
   "cell_type": "code",
   "execution_count": 66,
   "id": "ec493caa-39e8-4203-b866-bcd74ca968af",
   "metadata": {},
   "outputs": [
    {
     "data": {
      "text/html": [
       "<style>\n",
       ".list-inline {list-style: none; margin:0; padding: 0}\n",
       ".list-inline>li {display: inline-block}\n",
       ".list-inline>li:not(:last-child)::after {content: \"\\00b7\"; padding: 0 .5ex}\n",
       "</style>\n",
       "<ol class=list-inline><li>11</li><li>24</li><li>39</li><li>56</li><li>75</li></ol>\n"
      ],
      "text/latex": [
       "\\begin{enumerate*}\n",
       "\\item 11\n",
       "\\item 24\n",
       "\\item 39\n",
       "\\item 56\n",
       "\\item 75\n",
       "\\end{enumerate*}\n"
      ],
      "text/markdown": [
       "1. 11\n",
       "2. 24\n",
       "3. 39\n",
       "4. 56\n",
       "5. 75\n",
       "\n",
       "\n"
      ],
      "text/plain": [
       "[1] 11 24 39 56 75"
      ]
     },
     "metadata": {},
     "output_type": "display_data"
    }
   ],
   "source": [
    "v * w"
   ]
  },
  {
   "cell_type": "code",
   "execution_count": 67,
   "id": "511945f2-705c-4cb7-800a-de5e8acf28b1",
   "metadata": {},
   "outputs": [
    {
     "data": {
      "text/html": [
       "<style>\n",
       ".list-inline {list-style: none; margin:0; padding: 0}\n",
       ".list-inline>li {display: inline-block}\n",
       ".list-inline>li:not(:last-child)::after {content: \"\\00b7\"; padding: 0 .5ex}\n",
       "</style>\n",
       "<ol class=list-inline><li>11</li><li>6</li><li>4.33333333333333</li><li>3.5</li><li>3</li></ol>\n"
      ],
      "text/latex": [
       "\\begin{enumerate*}\n",
       "\\item 11\n",
       "\\item 6\n",
       "\\item 4.33333333333333\n",
       "\\item 3.5\n",
       "\\item 3\n",
       "\\end{enumerate*}\n"
      ],
      "text/markdown": [
       "1. 11\n",
       "2. 6\n",
       "3. 4.33333333333333\n",
       "4. 3.5\n",
       "5. 3\n",
       "\n",
       "\n"
      ],
      "text/plain": [
       "[1] 11.000000  6.000000  4.333333  3.500000  3.000000"
      ]
     },
     "metadata": {},
     "output_type": "display_data"
    }
   ],
   "source": [
    "v / w"
   ]
  },
  {
   "cell_type": "code",
   "execution_count": 68,
   "id": "55949d19-8b29-4f71-868e-f315e3f3c82a",
   "metadata": {},
   "outputs": [
    {
     "data": {
      "text/html": [
       "<style>\n",
       ".list-inline {list-style: none; margin:0; padding: 0}\n",
       ".list-inline>li {display: inline-block}\n",
       ".list-inline>li:not(:last-child)::after {content: \"\\00b7\"; padding: 0 .5ex}\n",
       "</style>\n",
       "<ol class=list-inline><li>11</li><li>144</li><li>2197</li><li>38416</li><li>759375</li></ol>\n"
      ],
      "text/latex": [
       "\\begin{enumerate*}\n",
       "\\item 11\n",
       "\\item 144\n",
       "\\item 2197\n",
       "\\item 38416\n",
       "\\item 759375\n",
       "\\end{enumerate*}\n"
      ],
      "text/markdown": [
       "1. 11\n",
       "2. 144\n",
       "3. 2197\n",
       "4. 38416\n",
       "5. 759375\n",
       "\n",
       "\n"
      ],
      "text/plain": [
       "[1]     11    144   2197  38416 759375"
      ]
     },
     "metadata": {},
     "output_type": "display_data"
    }
   ],
   "source": [
    "v^w"
   ]
  },
  {
   "cell_type": "code",
   "execution_count": null,
   "id": "27fbe0a0-35bb-47f0-ba98-176b99188390",
   "metadata": {},
   "outputs": [],
   "source": []
  },
  {
   "cell_type": "code",
   "execution_count": 69,
   "id": "fc6a037d-99ce-45f0-8278-fa9f3f665f45",
   "metadata": {},
   "outputs": [
    {
     "data": {
      "text/html": [
       "<style>\n",
       ".list-inline {list-style: none; margin:0; padding: 0}\n",
       ".list-inline>li {display: inline-block}\n",
       ".list-inline>li:not(:last-child)::after {content: \"\\00b7\"; padding: 0 .5ex}\n",
       "</style>\n",
       "<ol class=list-inline><li>1</li><li>2</li><li>3</li><li>4</li><li>5</li></ol>\n"
      ],
      "text/latex": [
       "\\begin{enumerate*}\n",
       "\\item 1\n",
       "\\item 2\n",
       "\\item 3\n",
       "\\item 4\n",
       "\\item 5\n",
       "\\end{enumerate*}\n"
      ],
      "text/markdown": [
       "1. 1\n",
       "2. 2\n",
       "3. 3\n",
       "4. 4\n",
       "5. 5\n",
       "\n",
       "\n"
      ],
      "text/plain": [
       "[1] 1 2 3 4 5"
      ]
     },
     "metadata": {},
     "output_type": "display_data"
    }
   ],
   "source": [
    "w"
   ]
  },
  {
   "cell_type": "code",
   "execution_count": 70,
   "id": "1b22cbc1-2ff7-4506-9971-73ebbc472416",
   "metadata": {},
   "outputs": [
    {
     "data": {
      "text/html": [
       "<style>\n",
       ".list-inline {list-style: none; margin:0; padding: 0}\n",
       ".list-inline>li {display: inline-block}\n",
       ".list-inline>li:not(:last-child)::after {content: \"\\00b7\"; padding: 0 .5ex}\n",
       "</style>\n",
       "<ol class=list-inline><li>3</li><li>4</li><li>5</li><li>6</li><li>7</li></ol>\n"
      ],
      "text/latex": [
       "\\begin{enumerate*}\n",
       "\\item 3\n",
       "\\item 4\n",
       "\\item 5\n",
       "\\item 6\n",
       "\\item 7\n",
       "\\end{enumerate*}\n"
      ],
      "text/markdown": [
       "1. 3\n",
       "2. 4\n",
       "3. 5\n",
       "4. 6\n",
       "5. 7\n",
       "\n",
       "\n"
      ],
      "text/plain": [
       "[1] 3 4 5 6 7"
      ]
     },
     "metadata": {},
     "output_type": "display_data"
    }
   ],
   "source": [
    "w + 2"
   ]
  },
  {
   "cell_type": "code",
   "execution_count": 71,
   "id": "880bb025-8fa7-44b3-8743-b7505d6b3d3a",
   "metadata": {},
   "outputs": [
    {
     "data": {
      "text/html": [
       "<style>\n",
       ".list-inline {list-style: none; margin:0; padding: 0}\n",
       ".list-inline>li {display: inline-block}\n",
       ".list-inline>li:not(:last-child)::after {content: \"\\00b7\"; padding: 0 .5ex}\n",
       "</style>\n",
       "<ol class=list-inline><li>-1</li><li>0</li><li>1</li><li>2</li><li>3</li></ol>\n"
      ],
      "text/latex": [
       "\\begin{enumerate*}\n",
       "\\item -1\n",
       "\\item 0\n",
       "\\item 1\n",
       "\\item 2\n",
       "\\item 3\n",
       "\\end{enumerate*}\n"
      ],
      "text/markdown": [
       "1. -1\n",
       "2. 0\n",
       "3. 1\n",
       "4. 2\n",
       "5. 3\n",
       "\n",
       "\n"
      ],
      "text/plain": [
       "[1] -1  0  1  2  3"
      ]
     },
     "metadata": {},
     "output_type": "display_data"
    }
   ],
   "source": [
    "w - 2"
   ]
  },
  {
   "cell_type": "code",
   "execution_count": 72,
   "id": "7dac65fa-d8a2-4ba8-bbb8-5c1b01d6fec9",
   "metadata": {},
   "outputs": [
    {
     "data": {
      "text/html": [
       "<style>\n",
       ".list-inline {list-style: none; margin:0; padding: 0}\n",
       ".list-inline>li {display: inline-block}\n",
       ".list-inline>li:not(:last-child)::after {content: \"\\00b7\"; padding: 0 .5ex}\n",
       "</style>\n",
       "<ol class=list-inline><li>2</li><li>4</li><li>6</li><li>8</li><li>10</li></ol>\n"
      ],
      "text/latex": [
       "\\begin{enumerate*}\n",
       "\\item 2\n",
       "\\item 4\n",
       "\\item 6\n",
       "\\item 8\n",
       "\\item 10\n",
       "\\end{enumerate*}\n"
      ],
      "text/markdown": [
       "1. 2\n",
       "2. 4\n",
       "3. 6\n",
       "4. 8\n",
       "5. 10\n",
       "\n",
       "\n"
      ],
      "text/plain": [
       "[1]  2  4  6  8 10"
      ]
     },
     "metadata": {},
     "output_type": "display_data"
    }
   ],
   "source": [
    "w * 2"
   ]
  },
  {
   "cell_type": "code",
   "execution_count": 73,
   "id": "b7c039d5-1c9c-4bd2-bc16-77cf04f80f6c",
   "metadata": {},
   "outputs": [
    {
     "data": {
      "text/html": [
       "<style>\n",
       ".list-inline {list-style: none; margin:0; padding: 0}\n",
       ".list-inline>li {display: inline-block}\n",
       ".list-inline>li:not(:last-child)::after {content: \"\\00b7\"; padding: 0 .5ex}\n",
       "</style>\n",
       "<ol class=list-inline><li>0.5</li><li>1</li><li>1.5</li><li>2</li><li>2.5</li></ol>\n"
      ],
      "text/latex": [
       "\\begin{enumerate*}\n",
       "\\item 0.5\n",
       "\\item 1\n",
       "\\item 1.5\n",
       "\\item 2\n",
       "\\item 2.5\n",
       "\\end{enumerate*}\n"
      ],
      "text/markdown": [
       "1. 0.5\n",
       "2. 1\n",
       "3. 1.5\n",
       "4. 2\n",
       "5. 2.5\n",
       "\n",
       "\n"
      ],
      "text/plain": [
       "[1] 0.5 1.0 1.5 2.0 2.5"
      ]
     },
     "metadata": {},
     "output_type": "display_data"
    }
   ],
   "source": [
    "w / 2"
   ]
  },
  {
   "cell_type": "code",
   "execution_count": 74,
   "id": "aca3cced-f8cb-408f-bd19-309f387d4cc4",
   "metadata": {},
   "outputs": [
    {
     "data": {
      "text/html": [
       "<style>\n",
       ".list-inline {list-style: none; margin:0; padding: 0}\n",
       ".list-inline>li {display: inline-block}\n",
       ".list-inline>li:not(:last-child)::after {content: \"\\00b7\"; padding: 0 .5ex}\n",
       "</style>\n",
       "<ol class=list-inline><li>1</li><li>2</li><li>3</li><li>4</li><li>5</li></ol>\n"
      ],
      "text/latex": [
       "\\begin{enumerate*}\n",
       "\\item 1\n",
       "\\item 2\n",
       "\\item 3\n",
       "\\item 4\n",
       "\\item 5\n",
       "\\end{enumerate*}\n"
      ],
      "text/markdown": [
       "1. 1\n",
       "2. 2\n",
       "3. 3\n",
       "4. 4\n",
       "5. 5\n",
       "\n",
       "\n"
      ],
      "text/plain": [
       "[1] 1 2 3 4 5"
      ]
     },
     "metadata": {},
     "output_type": "display_data"
    }
   ],
   "source": [
    "w"
   ]
  },
  {
   "cell_type": "code",
   "execution_count": 75,
   "id": "31d40cdb-b4e2-409c-ab40-5b1368bbd02b",
   "metadata": {},
   "outputs": [
    {
     "data": {
      "text/html": [
       "3"
      ],
      "text/latex": [
       "3"
      ],
      "text/markdown": [
       "3"
      ],
      "text/plain": [
       "[1] 3"
      ]
     },
     "metadata": {},
     "output_type": "display_data"
    }
   ],
   "source": [
    "mean(w)"
   ]
  },
  {
   "cell_type": "code",
   "execution_count": 76,
   "id": "4b634f44-c727-4d19-a090-e9d60981ceb2",
   "metadata": {},
   "outputs": [
    {
     "data": {
      "text/html": [
       "<style>\n",
       ".list-inline {list-style: none; margin:0; padding: 0}\n",
       ".list-inline>li {display: inline-block}\n",
       ".list-inline>li:not(:last-child)::after {content: \"\\00b7\"; padding: 0 .5ex}\n",
       "</style>\n",
       "<ol class=list-inline><li>-2</li><li>-1</li><li>0</li><li>1</li><li>2</li></ol>\n"
      ],
      "text/latex": [
       "\\begin{enumerate*}\n",
       "\\item -2\n",
       "\\item -1\n",
       "\\item 0\n",
       "\\item 1\n",
       "\\item 2\n",
       "\\end{enumerate*}\n"
      ],
      "text/markdown": [
       "1. -2\n",
       "2. -1\n",
       "3. 0\n",
       "4. 1\n",
       "5. 2\n",
       "\n",
       "\n"
      ],
      "text/plain": [
       "[1] -2 -1  0  1  2"
      ]
     },
     "metadata": {},
     "output_type": "display_data"
    }
   ],
   "source": [
    "w - mean(w)"
   ]
  },
  {
   "cell_type": "code",
   "execution_count": 77,
   "id": "513a2241-7793-4c40-a312-4a70b08adab3",
   "metadata": {},
   "outputs": [
    {
     "data": {
      "text/html": [
       "1.58113883008419"
      ],
      "text/latex": [
       "1.58113883008419"
      ],
      "text/markdown": [
       "1.58113883008419"
      ],
      "text/plain": [
       "[1] 1.581139"
      ]
     },
     "metadata": {},
     "output_type": "display_data"
    }
   ],
   "source": [
    "sd(w)"
   ]
  },
  {
   "cell_type": "code",
   "execution_count": 79,
   "id": "c40d553b-23e0-48d9-b1e9-02a68ee9fb6f",
   "metadata": {},
   "outputs": [
    {
     "data": {
      "text/html": [
       "<style>\n",
       ".list-inline {list-style: none; margin:0; padding: 0}\n",
       ".list-inline>li {display: inline-block}\n",
       ".list-inline>li:not(:last-child)::after {content: \"\\00b7\"; padding: 0 .5ex}\n",
       "</style>\n",
       "<ol class=list-inline><li>-1.26491106406735</li><li>-0.632455532033676</li><li>0</li><li>0.632455532033676</li><li>1.26491106406735</li></ol>\n"
      ],
      "text/latex": [
       "\\begin{enumerate*}\n",
       "\\item -1.26491106406735\n",
       "\\item -0.632455532033676\n",
       "\\item 0\n",
       "\\item 0.632455532033676\n",
       "\\item 1.26491106406735\n",
       "\\end{enumerate*}\n"
      ],
      "text/markdown": [
       "1. -1.26491106406735\n",
       "2. -0.632455532033676\n",
       "3. 0\n",
       "4. 0.632455532033676\n",
       "5. 1.26491106406735\n",
       "\n",
       "\n"
      ],
      "text/plain": [
       "[1] -1.2649111 -0.6324555  0.0000000  0.6324555  1.2649111"
      ]
     },
     "metadata": {},
     "output_type": "display_data"
    }
   ],
   "source": [
    "(w - mean(w)) / sd(w)"
   ]
  },
  {
   "cell_type": "code",
   "execution_count": 80,
   "id": "a25eef00-a9e7-4968-950d-73b3ad4aefb0",
   "metadata": {},
   "outputs": [],
   "source": [
    "w = 1:5"
   ]
  },
  {
   "cell_type": "code",
   "execution_count": 81,
   "id": "7f9f89d0-13f2-4fd7-920c-1b8728cee0c1",
   "metadata": {},
   "outputs": [
    {
     "data": {
      "text/html": [
       "<style>\n",
       ".list-inline {list-style: none; margin:0; padding: 0}\n",
       ".list-inline>li {display: inline-block}\n",
       ".list-inline>li:not(:last-child)::after {content: \"\\00b7\"; padding: 0 .5ex}\n",
       "</style>\n",
       "<ol class=list-inline><li>1</li><li>2</li><li>3</li><li>4</li><li>5</li></ol>\n"
      ],
      "text/latex": [
       "\\begin{enumerate*}\n",
       "\\item 1\n",
       "\\item 2\n",
       "\\item 3\n",
       "\\item 4\n",
       "\\item 5\n",
       "\\end{enumerate*}\n"
      ],
      "text/markdown": [
       "1. 1\n",
       "2. 2\n",
       "3. 3\n",
       "4. 4\n",
       "5. 5\n",
       "\n",
       "\n"
      ],
      "text/plain": [
       "[1] 1 2 3 4 5"
      ]
     },
     "metadata": {},
     "output_type": "display_data"
    }
   ],
   "source": [
    "w"
   ]
  },
  {
   "cell_type": "code",
   "execution_count": 82,
   "id": "145fe2a2-03a1-4d4b-abee-43350c517d43",
   "metadata": {},
   "outputs": [
    {
     "data": {
      "text/html": [
       "<style>\n",
       ".list-inline {list-style: none; margin:0; padding: 0}\n",
       ".list-inline>li {display: inline-block}\n",
       ".list-inline>li:not(:last-child)::after {content: \"\\00b7\"; padding: 0 .5ex}\n",
       "</style>\n",
       "<ol class=list-inline><li>1</li><li>1.4142135623731</li><li>1.73205080756888</li><li>2</li><li>2.23606797749979</li></ol>\n"
      ],
      "text/latex": [
       "\\begin{enumerate*}\n",
       "\\item 1\n",
       "\\item 1.4142135623731\n",
       "\\item 1.73205080756888\n",
       "\\item 2\n",
       "\\item 2.23606797749979\n",
       "\\end{enumerate*}\n"
      ],
      "text/markdown": [
       "1. 1\n",
       "2. 1.4142135623731\n",
       "3. 1.73205080756888\n",
       "4. 2\n",
       "5. 2.23606797749979\n",
       "\n",
       "\n"
      ],
      "text/plain": [
       "[1] 1.000000 1.414214 1.732051 2.000000 2.236068"
      ]
     },
     "metadata": {},
     "output_type": "display_data"
    }
   ],
   "source": [
    "sqrt(w)"
   ]
  },
  {
   "cell_type": "code",
   "execution_count": 83,
   "id": "b234fa28-6958-4fde-9588-8e3728755b33",
   "metadata": {},
   "outputs": [
    {
     "data": {
      "text/html": [
       "<style>\n",
       ".list-inline {list-style: none; margin:0; padding: 0}\n",
       ".list-inline>li {display: inline-block}\n",
       ".list-inline>li:not(:last-child)::after {content: \"\\00b7\"; padding: 0 .5ex}\n",
       "</style>\n",
       "<ol class=list-inline><li>0</li><li>0.693147180559945</li><li>1.09861228866811</li><li>1.38629436111989</li><li>1.6094379124341</li></ol>\n"
      ],
      "text/latex": [
       "\\begin{enumerate*}\n",
       "\\item 0\n",
       "\\item 0.693147180559945\n",
       "\\item 1.09861228866811\n",
       "\\item 1.38629436111989\n",
       "\\item 1.6094379124341\n",
       "\\end{enumerate*}\n"
      ],
      "text/markdown": [
       "1. 0\n",
       "2. 0.693147180559945\n",
       "3. 1.09861228866811\n",
       "4. 1.38629436111989\n",
       "5. 1.6094379124341\n",
       "\n",
       "\n"
      ],
      "text/plain": [
       "[1] 0.0000000 0.6931472 1.0986123 1.3862944 1.6094379"
      ]
     },
     "metadata": {},
     "output_type": "display_data"
    }
   ],
   "source": [
    "log(w)"
   ]
  },
  {
   "cell_type": "code",
   "execution_count": 84,
   "id": "0a551324-c6be-4325-9e51-7c95457deee6",
   "metadata": {},
   "outputs": [
    {
     "data": {
      "text/html": [
       "<style>\n",
       ".list-inline {list-style: none; margin:0; padding: 0}\n",
       ".list-inline>li {display: inline-block}\n",
       ".list-inline>li:not(:last-child)::after {content: \"\\00b7\"; padding: 0 .5ex}\n",
       "</style>\n",
       "<ol class=list-inline><li>0.841470984807897</li><li>0.909297426825682</li><li>0.141120008059867</li><li>-0.756802495307928</li><li>-0.958924274663138</li></ol>\n"
      ],
      "text/latex": [
       "\\begin{enumerate*}\n",
       "\\item 0.841470984807897\n",
       "\\item 0.909297426825682\n",
       "\\item 0.141120008059867\n",
       "\\item -0.756802495307928\n",
       "\\item -0.958924274663138\n",
       "\\end{enumerate*}\n"
      ],
      "text/markdown": [
       "1. 0.841470984807897\n",
       "2. 0.909297426825682\n",
       "3. 0.141120008059867\n",
       "4. -0.756802495307928\n",
       "5. -0.958924274663138\n",
       "\n",
       "\n"
      ],
      "text/plain": [
       "[1]  0.8414710  0.9092974  0.1411200 -0.7568025 -0.9589243"
      ]
     },
     "metadata": {},
     "output_type": "display_data"
    }
   ],
   "source": [
    "sin(w)"
   ]
  },
  {
   "cell_type": "markdown",
   "id": "d3961c67-acc8-4d12-8952-c8b398f9363a",
   "metadata": {},
   "source": [
    "# 11. Getting operator precedence right\n",
    "![](images/02_01.png)"
   ]
  },
  {
   "cell_type": "markdown",
   "id": "42d2e193-8440-4015-81ed-a74d8cc67a55",
   "metadata": {},
   "source": [
    "# 12. Typing less and accomplishing more "
   ]
  },
  {
   "cell_type": "markdown",
   "id": "b83510ca-c774-45a5-b3da-b1903ef46ec2",
   "metadata": {},
   "source": [
    "# 13. Creating a pipeline of function calls"
   ]
  },
  {
   "cell_type": "markdown",
   "id": "990a2253-4893-46ea-a492-1523fac852e2",
   "metadata": {},
   "source": [
    "# Chưa xong"
   ]
  },
  {
   "cell_type": "code",
   "execution_count": null,
   "id": "3de2812a-ac0c-429a-aa2d-ae2ddf925d6e",
   "metadata": {},
   "outputs": [],
   "source": []
  }
 ],
 "metadata": {
  "kernelspec": {
   "display_name": "R",
   "language": "R",
   "name": "ir"
  },
  "language_info": {
   "codemirror_mode": "r",
   "file_extension": ".r",
   "mimetype": "text/x-r-source",
   "name": "R",
   "pygments_lexer": "r",
   "version": "4.1.0"
  }
 },
 "nbformat": 4,
 "nbformat_minor": 5
}
