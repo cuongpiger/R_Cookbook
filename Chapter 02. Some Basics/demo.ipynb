{
 "cells": [
  {
   "cell_type": "markdown",
   "id": "e8469c0c-3c9c-4444-b1de-fd8ee5753a45",
   "metadata": {},
   "source": [
    "# 1. Printing something to the screen"
   ]
  },
  {
   "cell_type": "markdown",
   "id": "2d722366-7eb2-49f3-9fca-17b95f470ac1",
   "metadata": {},
   "source": [
    "**/> In ra giá trị $pi$ trong toán học**"
   ]
  },
  {
   "cell_type": "code",
   "execution_count": 1,
   "id": "814746c9-7b30-42ef-a0c9-2ff62e104228",
   "metadata": {},
   "outputs": [
    {
     "data": {
      "text/html": [
       "3.14159265358979"
      ],
      "text/latex": [
       "3.14159265358979"
      ],
      "text/markdown": [
       "3.14159265358979"
      ],
      "text/plain": [
       "[1] 3.141593"
      ]
     },
     "metadata": {},
     "output_type": "display_data"
    }
   ],
   "source": [
    "pi"
   ]
  },
  {
   "cell_type": "markdown",
   "id": "c7d5466a-11f9-49b9-b7f6-d411b98d6cf4",
   "metadata": {},
   "source": [
    "**/> In ra $\\sqrt{2}$**"
   ]
  },
  {
   "cell_type": "code",
   "execution_count": 2,
   "id": "19ac791b-6dc6-4dd3-af76-543e62df0544",
   "metadata": {},
   "outputs": [
    {
     "data": {
      "text/html": [
       "1.4142135623731"
      ],
      "text/latex": [
       "1.4142135623731"
      ],
      "text/markdown": [
       "1.4142135623731"
      ],
      "text/plain": [
       "[1] 1.414214"
      ]
     },
     "metadata": {},
     "output_type": "display_data"
    }
   ],
   "source": [
    "sqrt(2)"
   ]
  },
  {
   "cell_type": "markdown",
   "id": "3b0a3a80-c389-49aa-b9dc-3bfa0a9edd23",
   "metadata": {},
   "source": [
    "**/> Sử dụng hàm `print()`**\n",
    "* Hàm `print()` có một nhược điểm là nó chỉ có thể in ra duy nhất một object tại một thời điểm."
   ]
  },
  {
   "cell_type": "code",
   "execution_count": 4,
   "id": "7b0ad826-ff3c-4d6b-82e7-c1432fe9c574",
   "metadata": {},
   "outputs": [
    {
     "name": "stdout",
     "output_type": "stream",
     "text": [
      "[1] 3.141593\n"
     ]
    }
   ],
   "source": [
    "print(pi)"
   ]
  },
  {
   "cell_type": "code",
   "execution_count": 5,
   "id": "d00cccb0-d7de-4a74-8314-1da6b77f4d63",
   "metadata": {},
   "outputs": [
    {
     "name": "stdout",
     "output_type": "stream",
     "text": [
      "[1] 1.414214\n"
     ]
    }
   ],
   "source": [
    "print(sqrt(2))"
   ]
  },
  {
   "cell_type": "code",
   "execution_count": 6,
   "id": "2c215ff5-7ff9-42de-8876-f8b197258d0c",
   "metadata": {},
   "outputs": [
    {
     "name": "stdout",
     "output_type": "stream",
     "text": [
      "     [,1] [,2]\n",
      "[1,]    1    3\n",
      "[2,]    2    4\n"
     ]
    }
   ],
   "source": [
    "print(matrix(c(1, 2, 3, 4), 2, 2))"
   ]
  },
  {
   "cell_type": "code",
   "execution_count": 8,
   "id": "8ecbc464-8daa-4e46-ad9c-ac5240bf15ac",
   "metadata": {},
   "outputs": [
    {
     "name": "stdout",
     "output_type": "stream",
     "text": [
      "[[1]]\n",
      "[1] \"a\"\n",
      "\n",
      "[[2]]\n",
      "[1] \"b\"\n",
      "\n",
      "[[3]]\n",
      "[1] \"c\"\n",
      "\n"
     ]
    }
   ],
   "source": [
    "print(list(\"a\", \"b\", \"c\"))"
   ]
  },
  {
   "cell_type": "markdown",
   "id": "c45e3533-6da0-493f-9538-4ce3f6c80f98",
   "metadata": {},
   "source": []
  }
 ],
 "metadata": {
  "kernelspec": {
   "display_name": "R",
   "language": "R",
   "name": "ir"
  },
  "language_info": {
   "codemirror_mode": "r",
   "file_extension": ".r",
   "mimetype": "text/x-r-source",
   "name": "R",
   "pygments_lexer": "r",
   "version": "4.1.0"
  }
 },
 "nbformat": 4,
 "nbformat_minor": 5
}
