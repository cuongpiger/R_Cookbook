{
 "cells": [
  {
   "cell_type": "markdown",
   "id": "008b4bb0-4936-40ed-a808-39ac38501655",
   "metadata": {},
   "source": [
    "# 1. Entering Data from the Keyboard"
   ]
  },
  {
   "cell_type": "code",
   "execution_count": 3,
   "id": "060becc3-4565-4bb4-ae81-60d60486f3e8",
   "metadata": {},
   "outputs": [
    {
     "name": "stdout",
     "output_type": "stream",
     "text": [
      "61 66 90 88 100"
     ]
    }
   ],
   "source": [
    "scores = c(61, 66, 90, 88, 100)\n",
    "\n",
    "cat(scores)"
   ]
  },
  {
   "cell_type": "code",
   "execution_count": null,
   "id": "b63beb5d-4148-4a5e-b41b-f3a616c046d2",
   "metadata": {},
   "outputs": [],
   "source": []
  },
  {
   "cell_type": "code",
   "execution_count": 4,
   "id": "9233b159-517b-45ca-9a67-710ddb539be6",
   "metadata": {},
   "outputs": [
    {
     "name": "stdout",
     "output_type": "stream",
     "text": [
      "  label lbound ubound\n",
      "1   Low   0.00   0.67\n",
      "2   Mid   0.67   1.64\n",
      "3  High   1.64   2.33\n"
     ]
    }
   ],
   "source": [
    "points = data.frame(\n",
    "    label = c('Low', 'Mid', 'High'),\n",
    "    lbound = c(0, 0.67, 1.64),\n",
    "    ubound = c(0.67, 1.64, 2.33)\n",
    ")\n",
    "\n",
    "print(points)"
   ]
  },
  {
   "cell_type": "markdown",
   "id": "eb53c49a-6885-4e34-b291-d72798b20c5e",
   "metadata": {},
   "source": [
    "# 2. Printing Fewer Digits (or More Digits)"
   ]
  },
  {
   "cell_type": "code",
   "execution_count": 6,
   "id": "50c2984c-227a-4650-bf31-ad4128436aa3",
   "metadata": {},
   "outputs": [
    {
     "name": "stdout",
     "output_type": "stream",
     "text": [
      "[1] 3.142\n"
     ]
    }
   ],
   "source": [
    "print(pi, digits=4)"
   ]
  },
  {
   "cell_type": "code",
   "execution_count": 7,
   "id": "eefe1446-fcd3-401d-bc1c-04e14c2e655b",
   "metadata": {},
   "outputs": [
    {
     "name": "stdout",
     "output_type": "stream",
     "text": [
      "3.142"
     ]
    }
   ],
   "source": [
    "cat(format(pi, digits=4))"
   ]
  },
  {
   "cell_type": "code",
   "execution_count": 8,
   "id": "447d973f-7840-49a3-aa74-1ea90a5a41ee",
   "metadata": {},
   "outputs": [
    {
     "name": "stdout",
     "output_type": "stream",
     "text": [
      "[1] 0.0013 0.0228 0.1587 0.5000 0.8413 0.9772 0.9987\n"
     ]
    }
   ],
   "source": [
    "print(pnorm(-3:3), digits=2)"
   ]
  },
  {
   "cell_type": "code",
   "execution_count": 9,
   "id": "eace0cd5-425c-4a67-b3a3-bb72e7993b98",
   "metadata": {},
   "outputs": [
    {
     "data": {
      "text/html": [
       "<style>\n",
       ".list-inline {list-style: none; margin:0; padding: 0}\n",
       ".list-inline>li {display: inline-block}\n",
       ".list-inline>li:not(:last-child)::after {content: \"\\00b7\"; padding: 0 .5ex}\n",
       "</style>\n",
       "<ol class=list-inline><li>'0.0013'</li><li>'0.0228'</li><li>'0.1587'</li><li>'0.5000'</li><li>'0.8413'</li><li>'0.9772'</li><li>'0.9987'</li></ol>\n"
      ],
      "text/latex": [
       "\\begin{enumerate*}\n",
       "\\item '0.0013'\n",
       "\\item '0.0228'\n",
       "\\item '0.1587'\n",
       "\\item '0.5000'\n",
       "\\item '0.8413'\n",
       "\\item '0.9772'\n",
       "\\item '0.9987'\n",
       "\\end{enumerate*}\n"
      ],
      "text/markdown": [
       "1. '0.0013'\n",
       "2. '0.0228'\n",
       "3. '0.1587'\n",
       "4. '0.5000'\n",
       "5. '0.8413'\n",
       "6. '0.9772'\n",
       "7. '0.9987'\n",
       "\n",
       "\n"
      ],
      "text/plain": [
       "[1] \"0.0013\" \"0.0228\" \"0.1587\" \"0.5000\" \"0.8413\" \"0.9772\" \"0.9987\""
      ]
     },
     "metadata": {},
     "output_type": "display_data"
    }
   ],
   "source": [
    "format(pnorm(-3:3), digits=2)"
   ]
  },
  {
   "cell_type": "code",
   "execution_count": 11,
   "id": "f0e0e017-a6fa-47d4-b7b3-9df6c70b5674",
   "metadata": {},
   "outputs": [
    {
     "data": {
      "text/html": [
       "<table class=\"dataframe\">\n",
       "<caption>A data.frame: 7 × 3</caption>\n",
       "<thead>\n",
       "\t<tr><th scope=col>Quant</th><th scope=col>Lower</th><th scope=col>Upper</th></tr>\n",
       "\t<tr><th scope=col>&lt;dbl&gt;</th><th scope=col>&lt;dbl&gt;</th><th scope=col>&lt;dbl&gt;</th></tr>\n",
       "</thead>\n",
       "<tbody>\n",
       "\t<tr><td>0.0</td><td>0.500000000</td><td>0.5000000</td></tr>\n",
       "\t<tr><td>0.5</td><td>0.308537539</td><td>0.6914625</td></tr>\n",
       "\t<tr><td>1.0</td><td>0.158655254</td><td>0.8413447</td></tr>\n",
       "\t<tr><td>1.5</td><td>0.066807201</td><td>0.9331928</td></tr>\n",
       "\t<tr><td>2.0</td><td>0.022750132</td><td>0.9772499</td></tr>\n",
       "\t<tr><td>2.5</td><td>0.006209665</td><td>0.9937903</td></tr>\n",
       "\t<tr><td>3.0</td><td>0.001349898</td><td>0.9986501</td></tr>\n",
       "</tbody>\n",
       "</table>\n"
      ],
      "text/latex": [
       "A data.frame: 7 × 3\n",
       "\\begin{tabular}{lll}\n",
       " Quant & Lower & Upper\\\\\n",
       " <dbl> & <dbl> & <dbl>\\\\\n",
       "\\hline\n",
       "\t 0.0 & 0.500000000 & 0.5000000\\\\\n",
       "\t 0.5 & 0.308537539 & 0.6914625\\\\\n",
       "\t 1.0 & 0.158655254 & 0.8413447\\\\\n",
       "\t 1.5 & 0.066807201 & 0.9331928\\\\\n",
       "\t 2.0 & 0.022750132 & 0.9772499\\\\\n",
       "\t 2.5 & 0.006209665 & 0.9937903\\\\\n",
       "\t 3.0 & 0.001349898 & 0.9986501\\\\\n",
       "\\end{tabular}\n"
      ],
      "text/markdown": [
       "\n",
       "A data.frame: 7 × 3\n",
       "\n",
       "| Quant &lt;dbl&gt; | Lower &lt;dbl&gt; | Upper &lt;dbl&gt; |\n",
       "|---|---|---|\n",
       "| 0.0 | 0.500000000 | 0.5000000 |\n",
       "| 0.5 | 0.308537539 | 0.6914625 |\n",
       "| 1.0 | 0.158655254 | 0.8413447 |\n",
       "| 1.5 | 0.066807201 | 0.9331928 |\n",
       "| 2.0 | 0.022750132 | 0.9772499 |\n",
       "| 2.5 | 0.006209665 | 0.9937903 |\n",
       "| 3.0 | 0.001349898 | 0.9986501 |\n",
       "\n"
      ],
      "text/plain": [
       "  Quant Lower       Upper    \n",
       "1 0.0   0.500000000 0.5000000\n",
       "2 0.5   0.308537539 0.6914625\n",
       "3 1.0   0.158655254 0.8413447\n",
       "4 1.5   0.066807201 0.9331928\n",
       "5 2.0   0.022750132 0.9772499\n",
       "6 2.5   0.006209665 0.9937903\n",
       "7 3.0   0.001349898 0.9986501"
      ]
     },
     "metadata": {},
     "output_type": "display_data"
    }
   ],
   "source": [
    "q = seq(0, 3, .5)\n",
    "tbl = data.frame(Quant = q,\n",
    "                Lower = pnorm(-q),\n",
    "                Upper = pnorm(q))\n",
    "\n",
    "tbl"
   ]
  },
  {
   "cell_type": "code",
   "execution_count": 12,
   "id": "ee449aaa-a199-4644-9e03-da4b8cc65a52",
   "metadata": {},
   "outputs": [
    {
     "name": "stdout",
     "output_type": "stream",
     "text": [
      "  Quant  Lower Upper\n",
      "1   0.0 0.5000  0.50\n",
      "2   0.5 0.3085  0.69\n",
      "3   1.0 0.1587  0.84\n",
      "4   1.5 0.0668  0.93\n",
      "5   2.0 0.0228  0.98\n",
      "6   2.5 0.0062  0.99\n",
      "7   3.0 0.0013  1.00\n"
     ]
    }
   ],
   "source": [
    "print(tbl, digits=2)"
   ]
  },
  {
   "cell_type": "markdown",
   "id": "31ae759b-2625-42d7-be08-efe629cec905",
   "metadata": {},
   "source": [
    "# 3. Redirecting output to file"
   ]
  },
  {
   "cell_type": "markdown",
   "id": "d8c96f0c-6458-4c79-81b6-47e7c5fcda80",
   "metadata": {},
   "source": [
    "* Xem sách"
   ]
  },
  {
   "cell_type": "markdown",
   "id": "13a64b96-628d-4593-b50d-f2a7092d01e0",
   "metadata": {},
   "source": [
    "# 4. Listing files"
   ]
  },
  {
   "cell_type": "code",
   "execution_count": 13,
   "id": "e667a9db-6c54-4970-a749-d4e083481241",
   "metadata": {},
   "outputs": [
    {
     "data": {
      "text/html": [
       "<style>\n",
       ".list-inline {list-style: none; margin:0; padding: 0}\n",
       ".list-inline>li {display: inline-block}\n",
       ".list-inline>li:not(:last-child)::after {content: \"\\00b7\"; padding: 0 .5ex}\n",
       "</style>\n",
       "<ol class=list-inline><li>'demo.ipynb'</li><li>'images'</li></ol>\n"
      ],
      "text/latex": [
       "\\begin{enumerate*}\n",
       "\\item 'demo.ipynb'\n",
       "\\item 'images'\n",
       "\\end{enumerate*}\n"
      ],
      "text/markdown": [
       "1. 'demo.ipynb'\n",
       "2. 'images'\n",
       "\n",
       "\n"
      ],
      "text/plain": [
       "[1] \"demo.ipynb\" \"images\"    "
      ]
     },
     "metadata": {},
     "output_type": "display_data"
    }
   ],
   "source": [
    "list.files()"
   ]
  },
  {
   "cell_type": "code",
   "execution_count": 16,
   "id": "211e023d-9529-4acd-9a1e-7ef056810f97",
   "metadata": {},
   "outputs": [
    {
     "data": {
      "text/html": [],
      "text/latex": [],
      "text/markdown": [],
      "text/plain": [
       "character(0)"
      ]
     },
     "metadata": {},
     "output_type": "display_data"
    }
   ],
   "source": [
    "list.files(path=\"./images/\")"
   ]
  },
  {
   "cell_type": "code",
   "execution_count": null,
   "id": "475a8147-4b75-42a6-9593-9122a63e89f4",
   "metadata": {},
   "outputs": [],
   "source": []
  }
 ],
 "metadata": {
  "kernelspec": {
   "display_name": "R",
   "language": "R",
   "name": "ir"
  },
  "language_info": {
   "codemirror_mode": "r",
   "file_extension": ".r",
   "mimetype": "text/x-r-source",
   "name": "R",
   "pygments_lexer": "r",
   "version": "4.1.0"
  }
 },
 "nbformat": 4,
 "nbformat_minor": 5
}
