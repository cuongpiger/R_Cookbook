{
 "cells": [
  {
   "cell_type": "markdown",
   "id": "40c09b80-8f4f-46ef-b1ce-f86bb7e98209",
   "metadata": {},
   "source": [
    "# 1. Appending Data to a Vector"
   ]
  },
  {
   "cell_type": "code",
   "execution_count": 2,
   "id": "39a75486-4daf-4b68-b8b1-04bca2ccc1e7",
   "metadata": {},
   "outputs": [
    {
     "name": "stdout",
     "output_type": "stream",
     "text": [
      "Naruto Sasuke Sakura \n",
      "    10     20     30 \n"
     ]
    }
   ],
   "source": [
    "v = c(10, 20, 30)\n",
    "names(v) = c('Naruto', 'Sasuke', 'Sakura')\n",
    "\n",
    "print(v)"
   ]
  },
  {
   "cell_type": "code",
   "execution_count": 3,
   "id": "a8c20f24-f4ae-4ce3-ad5e-27c91df7eeaf",
   "metadata": {},
   "outputs": [
    {
     "data": {
      "text/html": [
       "20"
      ],
      "text/latex": [
       "20"
      ],
      "text/markdown": [
       "20"
      ],
      "text/plain": [
       "[1] 20"
      ]
     },
     "metadata": {},
     "output_type": "display_data"
    }
   ],
   "source": [
    "v[['Sasuke']]"
   ]
  },
  {
   "cell_type": "code",
   "execution_count": 4,
   "id": "5ac2c102-5be1-4e0d-8951-29744a1e0084",
   "metadata": {},
   "outputs": [
    {
     "data": {
      "text/html": [
       "<strong>Naruto:</strong> 10"
      ],
      "text/latex": [
       "\\textbf{Naruto:} 10"
      ],
      "text/markdown": [
       "**Naruto:** 10"
      ],
      "text/plain": [
       "Naruto \n",
       "    10 "
      ]
     },
     "metadata": {},
     "output_type": "display_data"
    }
   ],
   "source": [
    "v['Naruto']"
   ]
  },
  {
   "cell_type": "markdown",
   "id": "e3bc40e8-e4e2-4a5a-a968-38962dd7d4b4",
   "metadata": {},
   "source": [
    "* Nối 2 vector lại với nhau"
   ]
  },
  {
   "cell_type": "code",
   "execution_count": 7,
   "id": "49c1ccf6-91a9-41ae-a4e7-a88cd0c76e6f",
   "metadata": {},
   "outputs": [
    {
     "name": "stdout",
     "output_type": "stream",
     "text": [
      "1 2 3 6 7 8"
     ]
    }
   ],
   "source": [
    "v = c(1, 2, 3)\n",
    "new_items = c(6, 7, 8)\n",
    "new_vector = c(v, new_items)\n",
    "\n",
    "cat(new_vector)"
   ]
  },
  {
   "cell_type": "markdown",
   "id": "e1323b41-b6e3-4582-9a48-09a00fa00d4d",
   "metadata": {},
   "source": [
    "* Thêm một phần tử vào vector"
   ]
  },
  {
   "cell_type": "code",
   "execution_count": 9,
   "id": "66e4dd48-1090-45bb-a1cf-6d9ba29e3327",
   "metadata": {},
   "outputs": [
    {
     "name": "stdout",
     "output_type": "stream",
     "text": [
      "1 2 3 42"
     ]
    }
   ],
   "source": [
    "v = c(1, 2, 3)\n",
    "v[length(v) + 1] = 42\n",
    "\n",
    "cat(v)"
   ]
  },
  {
   "cell_type": "markdown",
   "id": "f20edd98-6602-4f49-b269-4a745785e247",
   "metadata": {},
   "source": [
    "* Tuy nhiên, theo nhiều thử nghiệm, để thêm phần tử vào vector thì cách dưới đây work nhanh nhất"
   ]
  },
  {
   "cell_type": "code",
   "execution_count": 10,
   "id": "0b63a324-3192-43c7-81e9-d32510bdbdd8",
   "metadata": {},
   "outputs": [
    {
     "name": "stdout",
     "output_type": "stream",
     "text": [
      "1 2 3 4"
     ]
    }
   ],
   "source": [
    "v = c(1, 2, 3)\n",
    "v = c(v, 4)\n",
    "\n",
    "cat(v)"
   ]
  },
  {
   "cell_type": "code",
   "execution_count": 11,
   "id": "d1e07ccb-152b-402a-843c-cb60cd2724cf",
   "metadata": {},
   "outputs": [
    {
     "name": "stdout",
     "output_type": "stream",
     "text": [
      "1 2 3 4 5 6 7 8"
     ]
    }
   ],
   "source": [
    "w = c(5, 6, 7, 8)\n",
    "v = c(v, w)\n",
    "\n",
    "cat(v)"
   ]
  },
  {
   "cell_type": "markdown",
   "id": "7b89cbaf-91f1-4ff9-8e81-16d92eccf80f",
   "metadata": {},
   "source": [
    "* Có thể thay đổi giá trị tại một index chỉ định trong vector"
   ]
  },
  {
   "cell_type": "code",
   "execution_count": 12,
   "id": "27310884-1d20-4488-813f-ca6fbcb3f025",
   "metadata": {},
   "outputs": [
    {
     "data": {
      "text/html": [
       "<style>\n",
       ".list-inline {list-style: none; margin:0; padding: 0}\n",
       ".list-inline>li {display: inline-block}\n",
       ".list-inline>li:not(:last-child)::after {content: \"\\00b7\"; padding: 0 .5ex}\n",
       "</style>\n",
       "<ol class=list-inline><li>10</li><li>2</li><li>3</li></ol>\n"
      ],
      "text/latex": [
       "\\begin{enumerate*}\n",
       "\\item 10\n",
       "\\item 2\n",
       "\\item 3\n",
       "\\end{enumerate*}\n"
      ],
      "text/markdown": [
       "1. 10\n",
       "2. 2\n",
       "3. 3\n",
       "\n",
       "\n"
      ],
      "text/plain": [
       "[1] 10  2  3"
      ]
     },
     "metadata": {},
     "output_type": "display_data"
    }
   ],
   "source": [
    "v = c(1, 2, 3)\n",
    "v[1] = 10\n",
    "\n",
    "v"
   ]
  },
  {
   "cell_type": "code",
   "execution_count": 13,
   "id": "97e3e944-933e-4d09-a1ba-e5971d8df375",
   "metadata": {},
   "outputs": [
    {
     "data": {
      "text/html": [
       "<style>\n",
       ".list-inline {list-style: none; margin:0; padding: 0}\n",
       ".list-inline>li {display: inline-block}\n",
       ".list-inline>li:not(:last-child)::after {content: \"\\00b7\"; padding: 0 .5ex}\n",
       "</style>\n",
       "<ol class=list-inline><li>10</li><li>2</li><li>3</li><li>&lt;NA&gt;</li><li>&lt;NA&gt;</li><li>&lt;NA&gt;</li><li>&lt;NA&gt;</li><li>&lt;NA&gt;</li><li>&lt;NA&gt;</li><li>9</li></ol>\n"
      ],
      "text/latex": [
       "\\begin{enumerate*}\n",
       "\\item 10\n",
       "\\item 2\n",
       "\\item 3\n",
       "\\item <NA>\n",
       "\\item <NA>\n",
       "\\item <NA>\n",
       "\\item <NA>\n",
       "\\item <NA>\n",
       "\\item <NA>\n",
       "\\item 9\n",
       "\\end{enumerate*}\n"
      ],
      "text/markdown": [
       "1. 10\n",
       "2. 2\n",
       "3. 3\n",
       "4. &lt;NA&gt;\n",
       "5. &lt;NA&gt;\n",
       "6. &lt;NA&gt;\n",
       "7. &lt;NA&gt;\n",
       "8. &lt;NA&gt;\n",
       "9. &lt;NA&gt;\n",
       "10. 9\n",
       "\n",
       "\n"
      ],
      "text/plain": [
       " [1] 10  2  3 NA NA NA NA NA NA  9"
      ]
     },
     "metadata": {},
     "output_type": "display_data"
    }
   ],
   "source": [
    "v[10] = 9\n",
    "v"
   ]
  },
  {
   "cell_type": "markdown",
   "id": "160dc6c3-8e0e-4e42-9ef3-cb4451ebbee7",
   "metadata": {},
   "source": [
    "# 2. Inserting data into a vector\n",
    "* Sử dụng hàm `append(<vector>, <giá trị thêm vào>, after=<thêm sau index nào>)`"
   ]
  },
  {
   "cell_type": "code",
   "execution_count": 14,
   "id": "4cb2485c-cc45-4eb0-84d3-c393c1dc677b",
   "metadata": {},
   "outputs": [
    {
     "data": {
      "text/html": [
       "<style>\n",
       ".list-inline {list-style: none; margin:0; padding: 0}\n",
       ".list-inline>li {display: inline-block}\n",
       ".list-inline>li:not(:last-child)::after {content: \"\\00b7\"; padding: 0 .5ex}\n",
       "</style>\n",
       "<ol class=list-inline><li>1</li><li>2</li><li>3</li><li>4</li><li>5</li><li>99</li><li>6</li><li>7</li><li>8</li><li>9</li><li>10</li></ol>\n"
      ],
      "text/latex": [
       "\\begin{enumerate*}\n",
       "\\item 1\n",
       "\\item 2\n",
       "\\item 3\n",
       "\\item 4\n",
       "\\item 5\n",
       "\\item 99\n",
       "\\item 6\n",
       "\\item 7\n",
       "\\item 8\n",
       "\\item 9\n",
       "\\item 10\n",
       "\\end{enumerate*}\n"
      ],
      "text/markdown": [
       "1. 1\n",
       "2. 2\n",
       "3. 3\n",
       "4. 4\n",
       "5. 5\n",
       "6. 99\n",
       "7. 6\n",
       "8. 7\n",
       "9. 8\n",
       "10. 9\n",
       "11. 10\n",
       "\n",
       "\n"
      ],
      "text/plain": [
       " [1]  1  2  3  4  5 99  6  7  8  9 10"
      ]
     },
     "metadata": {},
     "output_type": "display_data"
    }
   ],
   "source": [
    "append(1:10, 99, after=5)"
   ]
  },
  {
   "cell_type": "code",
   "execution_count": 17,
   "id": "6a8e3c06-aac6-46ea-8f4f-1e04704c01a6",
   "metadata": {},
   "outputs": [
    {
     "data": {
      "text/html": [
       "<style>\n",
       ".list-inline {list-style: none; margin:0; padding: 0}\n",
       ".list-inline>li {display: inline-block}\n",
       ".list-inline>li:not(:last-child)::after {content: \"\\00b7\"; padding: 0 .5ex}\n",
       "</style>\n",
       "<ol class=list-inline><li>99</li><li>1</li><li>2</li><li>3</li><li>4</li><li>5</li><li>6</li><li>7</li><li>8</li><li>9</li><li>10</li></ol>\n"
      ],
      "text/latex": [
       "\\begin{enumerate*}\n",
       "\\item 99\n",
       "\\item 1\n",
       "\\item 2\n",
       "\\item 3\n",
       "\\item 4\n",
       "\\item 5\n",
       "\\item 6\n",
       "\\item 7\n",
       "\\item 8\n",
       "\\item 9\n",
       "\\item 10\n",
       "\\end{enumerate*}\n"
      ],
      "text/markdown": [
       "1. 99\n",
       "2. 1\n",
       "3. 2\n",
       "4. 3\n",
       "5. 4\n",
       "6. 5\n",
       "7. 6\n",
       "8. 7\n",
       "9. 8\n",
       "10. 9\n",
       "11. 10\n",
       "\n",
       "\n"
      ],
      "text/plain": [
       " [1] 99  1  2  3  4  5  6  7  8  9 10"
      ]
     },
     "metadata": {},
     "output_type": "display_data"
    }
   ],
   "source": [
    "append(1:10, 99, after=0) # thêm vào đầu"
   ]
  },
  {
   "cell_type": "code",
   "execution_count": 16,
   "id": "35add5b4-c291-416a-9ef1-2cf22e7a5e50",
   "metadata": {},
   "outputs": [
    {
     "data": {
      "text/html": [
       "<style>\n",
       ".list-inline {list-style: none; margin:0; padding: 0}\n",
       ".list-inline>li {display: inline-block}\n",
       ".list-inline>li:not(:last-child)::after {content: \"\\00b7\"; padding: 0 .5ex}\n",
       "</style>\n",
       "<ol class=list-inline><li>1</li><li>99</li><li>2</li><li>3</li><li>4</li><li>5</li><li>6</li><li>7</li><li>8</li><li>9</li><li>10</li></ol>\n"
      ],
      "text/latex": [
       "\\begin{enumerate*}\n",
       "\\item 1\n",
       "\\item 99\n",
       "\\item 2\n",
       "\\item 3\n",
       "\\item 4\n",
       "\\item 5\n",
       "\\item 6\n",
       "\\item 7\n",
       "\\item 8\n",
       "\\item 9\n",
       "\\item 10\n",
       "\\end{enumerate*}\n"
      ],
      "text/markdown": [
       "1. 1\n",
       "2. 99\n",
       "3. 2\n",
       "4. 3\n",
       "5. 4\n",
       "6. 5\n",
       "7. 6\n",
       "8. 7\n",
       "9. 8\n",
       "10. 9\n",
       "11. 10\n",
       "\n",
       "\n"
      ],
      "text/plain": [
       " [1]  1 99  2  3  4  5  6  7  8  9 10"
      ]
     },
     "metadata": {},
     "output_type": "display_data"
    }
   ],
   "source": [
    "append(1:10, 99, after=1)"
   ]
  },
  {
   "cell_type": "markdown",
   "id": "fa56ee0a-964d-441f-9665-2e768a31923d",
   "metadata": {},
   "source": [
    "# 3. Understanding the recycling rule"
   ]
  },
  {
   "cell_type": "code",
   "execution_count": 18,
   "id": "95647aac-3bbc-40d7-acaf-e0fae6990dfd",
   "metadata": {},
   "outputs": [
    {
     "data": {
      "text/html": [
       "<style>\n",
       ".list-inline {list-style: none; margin:0; padding: 0}\n",
       ".list-inline>li {display: inline-block}\n",
       ".list-inline>li:not(:last-child)::after {content: \"\\00b7\"; padding: 0 .5ex}\n",
       "</style>\n",
       "<ol class=list-inline><li>1</li><li>2</li><li>3</li><li>4</li><li>5</li><li>6</li></ol>\n"
      ],
      "text/latex": [
       "\\begin{enumerate*}\n",
       "\\item 1\n",
       "\\item 2\n",
       "\\item 3\n",
       "\\item 4\n",
       "\\item 5\n",
       "\\item 6\n",
       "\\end{enumerate*}\n"
      ],
      "text/markdown": [
       "1. 1\n",
       "2. 2\n",
       "3. 3\n",
       "4. 4\n",
       "5. 5\n",
       "6. 6\n",
       "\n",
       "\n"
      ],
      "text/plain": [
       "[1] 1 2 3 4 5 6"
      ]
     },
     "metadata": {},
     "output_type": "display_data"
    }
   ],
   "source": [
    "1:6"
   ]
  },
  {
   "cell_type": "code",
   "execution_count": 19,
   "id": "e461374e-1cda-431c-9840-7bc70e89b272",
   "metadata": {},
   "outputs": [
    {
     "data": {
      "text/html": [
       "<style>\n",
       ".list-inline {list-style: none; margin:0; padding: 0}\n",
       ".list-inline>li {display: inline-block}\n",
       ".list-inline>li:not(:last-child)::after {content: \"\\00b7\"; padding: 0 .5ex}\n",
       "</style>\n",
       "<ol class=list-inline><li>1</li><li>2</li><li>3</li></ol>\n"
      ],
      "text/latex": [
       "\\begin{enumerate*}\n",
       "\\item 1\n",
       "\\item 2\n",
       "\\item 3\n",
       "\\end{enumerate*}\n"
      ],
      "text/markdown": [
       "1. 1\n",
       "2. 2\n",
       "3. 3\n",
       "\n",
       "\n"
      ],
      "text/plain": [
       "[1] 1 2 3"
      ]
     },
     "metadata": {},
     "output_type": "display_data"
    }
   ],
   "source": [
    "1:3"
   ]
  },
  {
   "cell_type": "code",
   "execution_count": 20,
   "id": "861b0360-d274-4135-b2e1-06c3acabd408",
   "metadata": {},
   "outputs": [
    {
     "data": {
      "text/html": [
       "<style>\n",
       ".list-inline {list-style: none; margin:0; padding: 0}\n",
       ".list-inline>li {display: inline-block}\n",
       ".list-inline>li:not(:last-child)::after {content: \"\\00b7\"; padding: 0 .5ex}\n",
       "</style>\n",
       "<ol class=list-inline><li>2</li><li>4</li><li>6</li><li>5</li><li>7</li><li>9</li></ol>\n"
      ],
      "text/latex": [
       "\\begin{enumerate*}\n",
       "\\item 2\n",
       "\\item 4\n",
       "\\item 6\n",
       "\\item 5\n",
       "\\item 7\n",
       "\\item 9\n",
       "\\end{enumerate*}\n"
      ],
      "text/markdown": [
       "1. 2\n",
       "2. 4\n",
       "3. 6\n",
       "4. 5\n",
       "5. 7\n",
       "6. 9\n",
       "\n",
       "\n"
      ],
      "text/plain": [
       "[1] 2 4 6 5 7 9"
      ]
     },
     "metadata": {},
     "output_type": "display_data"
    }
   ],
   "source": [
    "1:6 + 1:3"
   ]
  },
  {
   "cell_type": "code",
   "execution_count": 24,
   "id": "20eb1457-3133-40c5-8816-6d558dc68db9",
   "metadata": {},
   "outputs": [
    {
     "name": "stdout",
     "output_type": "stream",
     "text": [
      "     [,1]\n",
      "[1,]    1\n",
      "[2,]    2\n",
      "[3,]    3\n",
      "[4,]    4\n",
      "[5,]    5\n",
      "[6,]    6\n"
     ]
    }
   ],
   "source": [
    "print(cbind(1:6))"
   ]
  },
  {
   "cell_type": "code",
   "execution_count": 25,
   "id": "93477c60-68b0-4554-9ecc-720479e47c99",
   "metadata": {},
   "outputs": [
    {
     "name": "stdout",
     "output_type": "stream",
     "text": [
      "     [,1]\n",
      "[1,]    1\n",
      "[2,]    2\n",
      "[3,]    3\n"
     ]
    }
   ],
   "source": [
    "print(cbind(1:3))"
   ]
  },
  {
   "cell_type": "code",
   "execution_count": 26,
   "id": "7654146c-6086-4cbc-8eff-784b1cf343b0",
   "metadata": {},
   "outputs": [
    {
     "name": "stdout",
     "output_type": "stream",
     "text": [
      "     [,1] [,2]\n",
      "[1,]    1    1\n",
      "[2,]    2    2\n",
      "[3,]    3    3\n",
      "[4,]    4    1\n",
      "[5,]    5    2\n",
      "[6,]    6    3\n"
     ]
    }
   ],
   "source": [
    "print(cbind(1:6, 1:3))"
   ]
  },
  {
   "cell_type": "code",
   "execution_count": 27,
   "id": "08b67abc-01af-4d54-93a2-5a0600ae1289",
   "metadata": {},
   "outputs": [
    {
     "name": "stderr",
     "output_type": "stream",
     "text": [
      "Warning message in cbind(1:7, 1:3):\n",
      "“number of rows of result is not a multiple of vector length (arg 2)”\n"
     ]
    },
    {
     "name": "stdout",
     "output_type": "stream",
     "text": [
      "     [,1] [,2]\n",
      "[1,]    1    1\n",
      "[2,]    2    2\n",
      "[3,]    3    3\n",
      "[4,]    4    1\n",
      "[5,]    5    2\n",
      "[6,]    6    3\n",
      "[7,]    7    1\n"
     ]
    }
   ],
   "source": [
    "print(cbind(1:7, 1:3))"
   ]
  },
  {
   "cell_type": "markdown",
   "id": "4c1a643e-09d6-4be6-80ad-a1be5445a7c9",
   "metadata": {},
   "source": [
    "# 4. Creating a factor (Categorical variable)\n",
    "* Cơ bản là vector nhưng mang thêm một vài tính chất của `set()` trong Python dc lưu trữ trong trường `level`"
   ]
  },
  {
   "cell_type": "code",
   "execution_count": 1,
   "id": "9825db58-ebb0-4967-8f90-2436f13ce5ef",
   "metadata": {},
   "outputs": [
    {
     "data": {
      "text/html": [
       "<style>\n",
       ".list-inline {list-style: none; margin:0; padding: 0}\n",
       ".list-inline>li {display: inline-block}\n",
       ".list-inline>li:not(:last-child)::after {content: \"\\00b7\"; padding: 0 .5ex}\n",
       "</style>\n",
       "<ol class=list-inline><li>Win</li><li>Win</li><li>Lose</li><li>Tie</li><li>Win</li><li>Lose</li></ol>\n",
       "\n",
       "<details>\n",
       "\t<summary style=display:list-item;cursor:pointer>\n",
       "\t\t<strong>Levels</strong>:\n",
       "\t</summary>\n",
       "\t<style>\n",
       "\t.list-inline {list-style: none; margin:0; padding: 0}\n",
       "\t.list-inline>li {display: inline-block}\n",
       "\t.list-inline>li:not(:last-child)::after {content: \"\\00b7\"; padding: 0 .5ex}\n",
       "\t</style>\n",
       "\t<ol class=list-inline><li>'Lose'</li><li>'Tie'</li><li>'Win'</li></ol>\n",
       "</details>"
      ],
      "text/latex": [
       "\\begin{enumerate*}\n",
       "\\item Win\n",
       "\\item Win\n",
       "\\item Lose\n",
       "\\item Tie\n",
       "\\item Win\n",
       "\\item Lose\n",
       "\\end{enumerate*}\n",
       "\n",
       "\\emph{Levels}: \\begin{enumerate*}\n",
       "\\item 'Lose'\n",
       "\\item 'Tie'\n",
       "\\item 'Win'\n",
       "\\end{enumerate*}\n"
      ],
      "text/markdown": [
       "1. Win\n",
       "2. Win\n",
       "3. Lose\n",
       "4. Tie\n",
       "5. Win\n",
       "6. Lose\n",
       "\n",
       "\n",
       "\n",
       "**Levels**: 1. 'Lose'\n",
       "2. 'Tie'\n",
       "3. 'Win'\n",
       "\n",
       "\n"
      ],
      "text/plain": [
       "[1] Win  Win  Lose Tie  Win  Lose\n",
       "Levels: Lose Tie Win"
      ]
     },
     "metadata": {},
     "output_type": "display_data"
    }
   ],
   "source": [
    "f = factor(c(\"Win\", \"Win\", \"Lose\", \"Tie\", \"Win\", \"Lose\"))\n",
    "\n",
    "f"
   ]
  },
  {
   "cell_type": "code",
   "execution_count": null,
   "id": "85c01382-2c4a-40fa-8e16-d5625222266c",
   "metadata": {},
   "outputs": [],
   "source": []
  },
  {
   "cell_type": "code",
   "execution_count": 2,
   "id": "6cfb99c2-e707-4dcc-bcac-1930d1e68793",
   "metadata": {},
   "outputs": [
    {
     "data": {
      "text/html": [
       "<style>\n",
       ".list-inline {list-style: none; margin:0; padding: 0}\n",
       ".list-inline>li {display: inline-block}\n",
       ".list-inline>li:not(:last-child)::after {content: \"\\00b7\"; padding: 0 .5ex}\n",
       "</style>\n",
       "<ol class=list-inline><li>Wed</li><li>Thu</li><li>Mon</li><li>Wed</li><li>Thu</li><li>Thu</li><li>Thu</li><li>Tue</li><li>Thu</li><li>Tue</li></ol>\n",
       "\n",
       "<details>\n",
       "\t<summary style=display:list-item;cursor:pointer>\n",
       "\t\t<strong>Levels</strong>:\n",
       "\t</summary>\n",
       "\t<style>\n",
       "\t.list-inline {list-style: none; margin:0; padding: 0}\n",
       "\t.list-inline>li {display: inline-block}\n",
       "\t.list-inline>li:not(:last-child)::after {content: \"\\00b7\"; padding: 0 .5ex}\n",
       "\t</style>\n",
       "\t<ol class=list-inline><li>'Mon'</li><li>'Thu'</li><li>'Tue'</li><li>'Wed'</li></ol>\n",
       "</details>"
      ],
      "text/latex": [
       "\\begin{enumerate*}\n",
       "\\item Wed\n",
       "\\item Thu\n",
       "\\item Mon\n",
       "\\item Wed\n",
       "\\item Thu\n",
       "\\item Thu\n",
       "\\item Thu\n",
       "\\item Tue\n",
       "\\item Thu\n",
       "\\item Tue\n",
       "\\end{enumerate*}\n",
       "\n",
       "\\emph{Levels}: \\begin{enumerate*}\n",
       "\\item 'Mon'\n",
       "\\item 'Thu'\n",
       "\\item 'Tue'\n",
       "\\item 'Wed'\n",
       "\\end{enumerate*}\n"
      ],
      "text/markdown": [
       "1. Wed\n",
       "2. Thu\n",
       "3. Mon\n",
       "4. Wed\n",
       "5. Thu\n",
       "6. Thu\n",
       "7. Thu\n",
       "8. Tue\n",
       "9. Thu\n",
       "10. Tue\n",
       "\n",
       "\n",
       "\n",
       "**Levels**: 1. 'Mon'\n",
       "2. 'Thu'\n",
       "3. 'Tue'\n",
       "4. 'Wed'\n",
       "\n",
       "\n"
      ],
      "text/plain": [
       " [1] Wed Thu Mon Wed Thu Thu Thu Tue Thu Tue\n",
       "Levels: Mon Thu Tue Wed"
      ]
     },
     "metadata": {},
     "output_type": "display_data"
    }
   ],
   "source": [
    "wday = c(\"Wed\", \"Thu\", \"Mon\", \"Wed\", \"Thu\", \"Thu\", \"Thu\", \"Tue\", \"Thu\", \"Tue\")\n",
    "f = factor(wday)\n",
    "\n",
    "f"
   ]
  },
  {
   "cell_type": "code",
   "execution_count": 3,
   "id": "8df00b1f-7d46-4ed0-8a69-7c792534fd96",
   "metadata": {},
   "outputs": [
    {
     "data": {
      "text/html": [
       "<style>\n",
       ".list-inline {list-style: none; margin:0; padding: 0}\n",
       ".list-inline>li {display: inline-block}\n",
       ".list-inline>li:not(:last-child)::after {content: \"\\00b7\"; padding: 0 .5ex}\n",
       "</style>\n",
       "<ol class=list-inline><li>Wed</li><li>Thu</li><li>Mon</li><li>Wed</li><li>Thu</li><li>Thu</li><li>Thu</li><li>Tue</li><li>Thu</li><li>Tue</li></ol>\n",
       "\n",
       "<details>\n",
       "\t<summary style=display:list-item;cursor:pointer>\n",
       "\t\t<strong>Levels</strong>:\n",
       "\t</summary>\n",
       "\t<style>\n",
       "\t.list-inline {list-style: none; margin:0; padding: 0}\n",
       "\t.list-inline>li {display: inline-block}\n",
       "\t.list-inline>li:not(:last-child)::after {content: \"\\00b7\"; padding: 0 .5ex}\n",
       "\t</style>\n",
       "\t<ol class=list-inline><li>'Mon'</li><li>'Tue'</li><li>'Wed'</li><li>'Thu'</li><li>'Fri'</li></ol>\n",
       "</details>"
      ],
      "text/latex": [
       "\\begin{enumerate*}\n",
       "\\item Wed\n",
       "\\item Thu\n",
       "\\item Mon\n",
       "\\item Wed\n",
       "\\item Thu\n",
       "\\item Thu\n",
       "\\item Thu\n",
       "\\item Tue\n",
       "\\item Thu\n",
       "\\item Tue\n",
       "\\end{enumerate*}\n",
       "\n",
       "\\emph{Levels}: \\begin{enumerate*}\n",
       "\\item 'Mon'\n",
       "\\item 'Tue'\n",
       "\\item 'Wed'\n",
       "\\item 'Thu'\n",
       "\\item 'Fri'\n",
       "\\end{enumerate*}\n"
      ],
      "text/markdown": [
       "1. Wed\n",
       "2. Thu\n",
       "3. Mon\n",
       "4. Wed\n",
       "5. Thu\n",
       "6. Thu\n",
       "7. Thu\n",
       "8. Tue\n",
       "9. Thu\n",
       "10. Tue\n",
       "\n",
       "\n",
       "\n",
       "**Levels**: 1. 'Mon'\n",
       "2. 'Tue'\n",
       "3. 'Wed'\n",
       "4. 'Thu'\n",
       "5. 'Fri'\n",
       "\n",
       "\n"
      ],
      "text/plain": [
       " [1] Wed Thu Mon Wed Thu Thu Thu Tue Thu Tue\n",
       "Levels: Mon Tue Wed Thu Fri"
      ]
     },
     "metadata": {},
     "output_type": "display_data"
    }
   ],
   "source": [
    "f = factor(wday, levels=c(\"Mon\", \"Tue\", \"Wed\", \"Thu\", \"Fri\"))\n",
    "f"
   ]
  },
  {
   "cell_type": "markdown",
   "id": "bc79109e-6839-4424-a188-8be1e0f38eb8",
   "metadata": {},
   "source": [
    "# 5. Combining multiple vectors into one vector an a factor"
   ]
  },
  {
   "cell_type": "code",
   "execution_count": 6,
   "id": "a102e57c-7c5a-4526-b42e-b926607cc886",
   "metadata": {},
   "outputs": [
    {
     "name": "stdout",
     "output_type": "stream",
     "text": [
      "   values   ind\n",
      "1       1 fresh\n",
      "2       2 fresh\n",
      "3       1 fresh\n",
      "4       1 fresh\n",
      "5       5 fresh\n",
      "6       3  soph\n",
      "7       2  soph\n",
      "8       3  soph\n",
      "9       3  soph\n",
      "10      5  soph\n",
      "11      5   jrs\n",
      "12      3   jrs\n",
      "13      4   jrs\n",
      "14      3   jrs\n",
      "15      3   jrs\n"
     ]
    }
   ],
   "source": [
    "freshmen = c(1, 2, 1, 1, 5)\n",
    "sophomores = c(3, 2, 3, 3, 5)\n",
    "juniors = c(5, 3, 4, 3, 3)\n",
    "\n",
    "comb = stack(list(fresh=freshmen,\n",
    "                 soph=sophomores,\n",
    "                 jrs=juniors))\n",
    "\n",
    "print(comb)"
   ]
  },
  {
   "cell_type": "code",
   "execution_count": 7,
   "id": "5b95b29b-18e2-4c54-bf25-a2c16bb278ed",
   "metadata": {},
   "outputs": [
    {
     "data": {
      "text/plain": [
       "Call:\n",
       "   aov(formula = values ~ ind, data = comb)\n",
       "\n",
       "Terms:\n",
       "                      ind Residuals\n",
       "Sum of Squares   6.933333 20.000000\n",
       "Deg. of Freedom         2        12\n",
       "\n",
       "Residual standard error: 1.290994\n",
       "Estimated effects may be unbalanced"
      ]
     },
     "metadata": {},
     "output_type": "display_data"
    }
   ],
   "source": [
    "aov(values~ind, data=comb)"
   ]
  },
  {
   "cell_type": "markdown",
   "id": "74e42ec4-8dd8-45d5-b183-12417c6d0b79",
   "metadata": {},
   "source": [
    "# 6. Creating a List"
   ]
  },
  {
   "cell_type": "code",
   "execution_count": 8,
   "id": "2505efdc-cfa7-49d2-b12f-49c49b7a2a5e",
   "metadata": {},
   "outputs": [
    {
     "data": {
      "text/html": [
       "<ol>\n",
       "\t<li>0.5</li>\n",
       "\t<li>0.841</li>\n",
       "\t<li>0.977</li>\n",
       "</ol>\n"
      ],
      "text/latex": [
       "\\begin{enumerate}\n",
       "\\item 0.5\n",
       "\\item 0.841\n",
       "\\item 0.977\n",
       "\\end{enumerate}\n"
      ],
      "text/markdown": [
       "1. 0.5\n",
       "2. 0.841\n",
       "3. 0.977\n",
       "\n",
       "\n"
      ],
      "text/plain": [
       "[[1]]\n",
       "[1] 0.5\n",
       "\n",
       "[[2]]\n",
       "[1] 0.841\n",
       "\n",
       "[[3]]\n",
       "[1] 0.977\n"
      ]
     },
     "metadata": {},
     "output_type": "display_data"
    }
   ],
   "source": [
    "lst = list(0.5, 0.841, 0.977)\n",
    "lst"
   ]
  },
  {
   "cell_type": "code",
   "execution_count": null,
   "id": "23b0b2fd-c9d7-4f45-8dfd-8bd31ba494c0",
   "metadata": {},
   "outputs": [],
   "source": []
  },
  {
   "cell_type": "code",
   "execution_count": 12,
   "id": "9a4cb93b-0757-463d-ab0c-debb7b9df245",
   "metadata": {},
   "outputs": [
    {
     "data": {
      "text/html": [
       "<ol>\n",
       "\t<li>3.14</li>\n",
       "\t<li>'Moe'</li>\n",
       "\t<li><style>\n",
       ".list-inline {list-style: none; margin:0; padding: 0}\n",
       ".list-inline>li {display: inline-block}\n",
       ".list-inline>li:not(:last-child)::after {content: \"\\00b7\"; padding: 0 .5ex}\n",
       "</style>\n",
       "<ol class=list-inline><li>1</li><li>1</li><li>3</li></ol>\n",
       "</li>\n",
       "\t<li><pre class=language-r><code>function (x, ...) \n",
       "UseMethod(\"mean\")</code></pre></li>\n",
       "</ol>\n"
      ],
      "text/latex": [
       "\\begin{enumerate}\n",
       "\\item 3.14\n",
       "\\item 'Moe'\n",
       "\\item \\begin{enumerate*}\n",
       "\\item 1\n",
       "\\item 1\n",
       "\\item 3\n",
       "\\end{enumerate*}\n",
       "\n",
       "\\item \\begin{minted}{r}\n",
       "function (x, ...) \n",
       "UseMethod(\"mean\")\n",
       "\\end{minted}\n",
       "\\end{enumerate}\n"
      ],
      "text/markdown": [
       "1. 3.14\n",
       "2. 'Moe'\n",
       "3. 1. 1\n",
       "2. 1\n",
       "3. 3\n",
       "\n",
       "\n",
       "\n",
       "4. ```r\n",
       "function (x, ...) \n",
       "UseMethod(\"mean\")\n",
       "```\n",
       "\n",
       "\n"
      ],
      "text/plain": [
       "[[1]]\n",
       "[1] 3.14\n",
       "\n",
       "[[2]]\n",
       "[1] \"Moe\"\n",
       "\n",
       "[[3]]\n",
       "[1] 1 1 3\n",
       "\n",
       "[[4]]\n",
       "function (x, ...) \n",
       "UseMethod(\"mean\")\n",
       "<bytecode: 0x561c278243a8>\n",
       "<environment: namespace:base>\n"
      ]
     },
     "metadata": {},
     "output_type": "display_data"
    }
   ],
   "source": [
    "lst = list(3.14, \"Moe\", c(1, 1, 3), mean)\n",
    "lst"
   ]
  },
  {
   "cell_type": "code",
   "execution_count": null,
   "id": "94d1b11b-610b-4032-b1aa-c2fdea49c2dd",
   "metadata": {},
   "outputs": [],
   "source": []
  },
  {
   "cell_type": "code",
   "execution_count": 13,
   "id": "ab8bb6d5-b786-443b-b6de-7d7fb6ebae42",
   "metadata": {},
   "outputs": [
    {
     "data": {
      "text/html": [
       "<ol>\n",
       "\t<li>3.14</li>\n",
       "\t<li>'Moe'</li>\n",
       "\t<li><style>\n",
       ".list-inline {list-style: none; margin:0; padding: 0}\n",
       ".list-inline>li {display: inline-block}\n",
       ".list-inline>li:not(:last-child)::after {content: \"\\00b7\"; padding: 0 .5ex}\n",
       "</style>\n",
       "<ol class=list-inline><li>1</li><li>1</li><li>2</li><li>3</li></ol>\n",
       "</li>\n",
       "\t<li><pre class=language-r><code>function (x, ...) \n",
       "UseMethod(\"mean\")</code></pre></li>\n",
       "</ol>\n"
      ],
      "text/latex": [
       "\\begin{enumerate}\n",
       "\\item 3.14\n",
       "\\item 'Moe'\n",
       "\\item \\begin{enumerate*}\n",
       "\\item 1\n",
       "\\item 1\n",
       "\\item 2\n",
       "\\item 3\n",
       "\\end{enumerate*}\n",
       "\n",
       "\\item \\begin{minted}{r}\n",
       "function (x, ...) \n",
       "UseMethod(\"mean\")\n",
       "\\end{minted}\n",
       "\\end{enumerate}\n"
      ],
      "text/markdown": [
       "1. 3.14\n",
       "2. 'Moe'\n",
       "3. 1. 1\n",
       "2. 1\n",
       "3. 2\n",
       "4. 3\n",
       "\n",
       "\n",
       "\n",
       "4. ```r\n",
       "function (x, ...) \n",
       "UseMethod(\"mean\")\n",
       "```\n",
       "\n",
       "\n"
      ],
      "text/plain": [
       "[[1]]\n",
       "[1] 3.14\n",
       "\n",
       "[[2]]\n",
       "[1] \"Moe\"\n",
       "\n",
       "[[3]]\n",
       "[1] 1 1 2 3\n",
       "\n",
       "[[4]]\n",
       "function (x, ...) \n",
       "UseMethod(\"mean\")\n",
       "<bytecode: 0x561c278243a8>\n",
       "<environment: namespace:base>\n"
      ]
     },
     "metadata": {},
     "output_type": "display_data"
    }
   ],
   "source": [
    "lst = list()\n",
    "lst[[1]] = 3.14\n",
    "lst[[2]] = \"Moe\"\n",
    "lst[[3]] = c(1, 1, 2, 3)\n",
    "lst[[4]] = mean\n",
    "\n",
    "lst"
   ]
  },
  {
   "cell_type": "code",
   "execution_count": null,
   "id": "5a7ea013-eac7-425f-8575-f1a4b0e0866f",
   "metadata": {},
   "outputs": [],
   "source": []
  },
  {
   "cell_type": "code",
   "execution_count": 14,
   "id": "9a9ba98b-354b-425c-babd-f95759179a28",
   "metadata": {},
   "outputs": [
    {
     "data": {
      "text/html": [
       "<dl>\n",
       "\t<dt>$mid</dt>\n",
       "\t\t<dd>0.5</dd>\n",
       "\t<dt>$right</dt>\n",
       "\t\t<dd>0.841</dd>\n",
       "\t<dt>$far.right</dt>\n",
       "\t\t<dd>0.977</dd>\n",
       "</dl>\n"
      ],
      "text/latex": [
       "\\begin{description}\n",
       "\\item[\\$mid] 0.5\n",
       "\\item[\\$right] 0.841\n",
       "\\item[\\$far.right] 0.977\n",
       "\\end{description}\n"
      ],
      "text/markdown": [
       "$mid\n",
       ":   0.5\n",
       "$right\n",
       ":   0.841\n",
       "$far.right\n",
       ":   0.977\n",
       "\n",
       "\n"
      ],
      "text/plain": [
       "$mid\n",
       "[1] 0.5\n",
       "\n",
       "$right\n",
       "[1] 0.841\n",
       "\n",
       "$far.right\n",
       "[1] 0.977\n"
      ]
     },
     "metadata": {},
     "output_type": "display_data"
    }
   ],
   "source": [
    "lst = list(mid=0.5, right=0.841, far.right=0.977)\n",
    "\n",
    "lst"
   ]
  },
  {
   "cell_type": "markdown",
   "id": "ea28fcbb-c604-4be4-bf80-50305d23e120",
   "metadata": {},
   "source": [
    "# 7. Selecting List elements by Position"
   ]
  },
  {
   "cell_type": "code",
   "execution_count": 15,
   "id": "19868d89-6da1-4c62-a0e6-db0bda45596c",
   "metadata": {},
   "outputs": [
    {
     "data": {
      "text/html": [
       "<ol>\n",
       "\t<li>1960</li>\n",
       "\t<li>1964</li>\n",
       "\t<li>1976</li>\n",
       "\t<li>1994</li>\n",
       "</ol>\n"
      ],
      "text/latex": [
       "\\begin{enumerate}\n",
       "\\item 1960\n",
       "\\item 1964\n",
       "\\item 1976\n",
       "\\item 1994\n",
       "\\end{enumerate}\n"
      ],
      "text/markdown": [
       "1. 1960\n",
       "2. 1964\n",
       "3. 1976\n",
       "4. 1994\n",
       "\n",
       "\n"
      ],
      "text/plain": [
       "[[1]]\n",
       "[1] 1960\n",
       "\n",
       "[[2]]\n",
       "[1] 1964\n",
       "\n",
       "[[3]]\n",
       "[1] 1976\n",
       "\n",
       "[[4]]\n",
       "[1] 1994\n"
      ]
     },
     "metadata": {},
     "output_type": "display_data"
    }
   ],
   "source": [
    "years = list(1960, 1964, 1976, 1994)\n",
    "\n",
    "years"
   ]
  },
  {
   "cell_type": "code",
   "execution_count": 16,
   "id": "0dfbba41-f292-42a6-9521-5f6401cc5302",
   "metadata": {},
   "outputs": [
    {
     "data": {
      "text/html": [
       "1960"
      ],
      "text/latex": [
       "1960"
      ],
      "text/markdown": [
       "1960"
      ],
      "text/plain": [
       "[1] 1960"
      ]
     },
     "metadata": {},
     "output_type": "display_data"
    }
   ],
   "source": [
    "years[[1]]"
   ]
  },
  {
   "cell_type": "code",
   "execution_count": 17,
   "id": "badd9e70-0fe8-480e-99ec-4497816edd1f",
   "metadata": {},
   "outputs": [
    {
     "data": {
      "text/html": [
       "<ol>\n",
       "\t<li>1960</li>\n",
       "\t<li>1964</li>\n",
       "</ol>\n"
      ],
      "text/latex": [
       "\\begin{enumerate}\n",
       "\\item 1960\n",
       "\\item 1964\n",
       "\\end{enumerate}\n"
      ],
      "text/markdown": [
       "1. 1960\n",
       "2. 1964\n",
       "\n",
       "\n"
      ],
      "text/plain": [
       "[[1]]\n",
       "[1] 1960\n",
       "\n",
       "[[2]]\n",
       "[1] 1964\n"
      ]
     },
     "metadata": {},
     "output_type": "display_data"
    }
   ],
   "source": [
    "years[c(1, 2)]"
   ]
  },
  {
   "cell_type": "code",
   "execution_count": 18,
   "id": "997f3d4c-e547-475d-b7a6-b29566132895",
   "metadata": {},
   "outputs": [
    {
     "data": {
      "text/html": [
       "'numeric'"
      ],
      "text/latex": [
       "'numeric'"
      ],
      "text/markdown": [
       "'numeric'"
      ],
      "text/plain": [
       "[1] \"numeric\""
      ]
     },
     "metadata": {},
     "output_type": "display_data"
    }
   ],
   "source": [
    "class(years[[1]])"
   ]
  },
  {
   "cell_type": "code",
   "execution_count": 19,
   "id": "36f046b0-6565-4f84-b1d7-70b482e3ce2c",
   "metadata": {},
   "outputs": [
    {
     "data": {
      "text/html": [
       "'list'"
      ],
      "text/latex": [
       "'list'"
      ],
      "text/markdown": [
       "'list'"
      ],
      "text/plain": [
       "[1] \"list\""
      ]
     },
     "metadata": {},
     "output_type": "display_data"
    }
   ],
   "source": [
    "class(years[1])"
   ]
  },
  {
   "cell_type": "code",
   "execution_count": null,
   "id": "c9c01edf-8dad-47e4-96bd-6c98fbd83969",
   "metadata": {},
   "outputs": [],
   "source": []
  },
  {
   "cell_type": "code",
   "execution_count": 20,
   "id": "7e7b760e-abca-4377-a416-f7c035aa0c95",
   "metadata": {},
   "outputs": [
    {
     "name": "stdout",
     "output_type": "stream",
     "text": [
      "1960 Ahjhj"
     ]
    }
   ],
   "source": [
    "cat(years[[1]], \"Ahjhj\")"
   ]
  },
  {
   "cell_type": "code",
   "execution_count": 21,
   "id": "13e4768e-73b1-44f9-a2c7-392b824c1224",
   "metadata": {},
   "outputs": [
    {
     "ename": "ERROR",
     "evalue": "Error in cat(years[1], \"Ahjhj\"): argument 1 (type 'list') cannot be handled by 'cat'\n",
     "output_type": "error",
     "traceback": [
      "Error in cat(years[1], \"Ahjhj\"): argument 1 (type 'list') cannot be handled by 'cat'\nTraceback:\n",
      "1. cat(years[1], \"Ahjhj\")"
     ]
    }
   ],
   "source": [
    "cat(years[1], \"Ahjhj\")"
   ]
  },
  {
   "cell_type": "markdown",
   "id": "c81a6fd4-cd88-4574-a573-550048eaf9f3",
   "metadata": {},
   "source": [
    "# 8. Selecting List element by Name"
   ]
  },
  {
   "cell_type": "code",
   "execution_count": 22,
   "id": "a11a3039-db4a-49dc-87ae-53011a8061a3",
   "metadata": {},
   "outputs": [
    {
     "data": {
      "text/html": [
       "1960"
      ],
      "text/latex": [
       "1960"
      ],
      "text/markdown": [
       "1960"
      ],
      "text/plain": [
       "[1] 1960"
      ]
     },
     "metadata": {},
     "output_type": "display_data"
    }
   ],
   "source": [
    "years <- list(Kennedy = 1960, Johnson = 1964, Carter = 1976, Clinton = 1994)\n",
    "\n",
    "years[['Kennedy']]"
   ]
  },
  {
   "cell_type": "code",
   "execution_count": 23,
   "id": "d0045e59-dbbe-4f05-aa33-4486cd6664d5",
   "metadata": {},
   "outputs": [
    {
     "data": {
      "text/html": [
       "1960"
      ],
      "text/latex": [
       "1960"
      ],
      "text/markdown": [
       "1960"
      ],
      "text/plain": [
       "[1] 1960"
      ]
     },
     "metadata": {},
     "output_type": "display_data"
    }
   ],
   "source": [
    "years$Kennedy"
   ]
  },
  {
   "cell_type": "code",
   "execution_count": 28,
   "id": "065582a9-0a0e-46a5-a033-1db277e69a56",
   "metadata": {},
   "outputs": [
    {
     "data": {
      "text/html": [
       "<dl>\n",
       "\t<dt>$Kennedy</dt>\n",
       "\t\t<dd>1960</dd>\n",
       "\t<dt>$Johnson</dt>\n",
       "\t\t<dd>1964</dd>\n",
       "</dl>\n"
      ],
      "text/latex": [
       "\\begin{description}\n",
       "\\item[\\$Kennedy] 1960\n",
       "\\item[\\$Johnson] 1964\n",
       "\\end{description}\n"
      ],
      "text/markdown": [
       "$Kennedy\n",
       ":   1960\n",
       "$Johnson\n",
       ":   1964\n",
       "\n",
       "\n"
      ],
      "text/plain": [
       "$Kennedy\n",
       "[1] 1960\n",
       "\n",
       "$Johnson\n",
       "[1] 1964\n"
      ]
     },
     "metadata": {},
     "output_type": "display_data"
    }
   ],
   "source": [
    "years[c('Kennedy', 'Johnson')]"
   ]
  },
  {
   "cell_type": "code",
   "execution_count": 25,
   "id": "f9ae8910-7c70-421a-9e93-55d542795bf1",
   "metadata": {},
   "outputs": [
    {
     "data": {
      "text/html": [
       "<strong>$Carter</strong> = 1976"
      ],
      "text/latex": [
       "\\textbf{\\$Carter} = 1976"
      ],
      "text/markdown": [
       "**$Carter** = 1976"
      ],
      "text/plain": [
       "$Carter\n",
       "[1] 1976\n"
      ]
     },
     "metadata": {},
     "output_type": "display_data"
    }
   ],
   "source": [
    "years['Carter']"
   ]
  },
  {
   "cell_type": "markdown",
   "id": "e39044da-4c23-43ed-8a01-8b68fcf13991",
   "metadata": {},
   "source": [
    "# 9. Building a Name/Value Association List"
   ]
  },
  {
   "cell_type": "code",
   "execution_count": 29,
   "id": "f3aaf5a3-7e16-49e5-8c88-77e58c709ba0",
   "metadata": {},
   "outputs": [
    {
     "data": {
      "text/html": [
       "<dl>\n",
       "\t<dt>$a</dt>\n",
       "\t\t<dd>1</dd>\n",
       "\t<dt>$b</dt>\n",
       "\t\t<dd>2</dd>\n",
       "\t<dt>$c</dt>\n",
       "\t\t<dd>3</dd>\n",
       "</dl>\n"
      ],
      "text/latex": [
       "\\begin{description}\n",
       "\\item[\\$a] 1\n",
       "\\item[\\$b] 2\n",
       "\\item[\\$c] 3\n",
       "\\end{description}\n"
      ],
      "text/markdown": [
       "$a\n",
       ":   1\n",
       "$b\n",
       ":   2\n",
       "$c\n",
       ":   3\n",
       "\n",
       "\n"
      ],
      "text/plain": [
       "$a\n",
       "[1] 1\n",
       "\n",
       "$b\n",
       "[1] 2\n",
       "\n",
       "$c\n",
       "[1] 3\n"
      ]
     },
     "metadata": {},
     "output_type": "display_data"
    }
   ],
   "source": [
    "values <- c(1, 2, 3)\n",
    "names <- c(\"a\", \"b\", \"c\")\n",
    "lst <- list()\n",
    "lst[names] <- values\n",
    "\n",
    "lst"
   ]
  },
  {
   "cell_type": "code",
   "execution_count": null,
   "id": "18827ea8-cb4f-4da5-a791-9dd748e091cb",
   "metadata": {},
   "outputs": [],
   "source": []
  },
  {
   "cell_type": "code",
   "execution_count": 30,
   "id": "868a6e46-ccb9-4c56-a175-524c6b48a916",
   "metadata": {},
   "outputs": [
    {
     "data": {
      "text/html": [
       "<dl>\n",
       "\t<dt>$far.left</dt>\n",
       "\t\t<dd>0.023</dd>\n",
       "\t<dt>$left</dt>\n",
       "\t\t<dd>0.159</dd>\n",
       "\t<dt>$mid</dt>\n",
       "\t\t<dd>0.5</dd>\n",
       "\t<dt>$right</dt>\n",
       "\t\t<dd>0.841</dd>\n",
       "\t<dt>$far.right</dt>\n",
       "\t\t<dd>0.977</dd>\n",
       "</dl>\n"
      ],
      "text/latex": [
       "\\begin{description}\n",
       "\\item[\\$far.left] 0.023\n",
       "\\item[\\$left] 0.159\n",
       "\\item[\\$mid] 0.5\n",
       "\\item[\\$right] 0.841\n",
       "\\item[\\$far.right] 0.977\n",
       "\\end{description}\n"
      ],
      "text/markdown": [
       "$far.left\n",
       ":   0.023\n",
       "$left\n",
       ":   0.159\n",
       "$mid\n",
       ":   0.5\n",
       "$right\n",
       ":   0.841\n",
       "$far.right\n",
       ":   0.977\n",
       "\n",
       "\n"
      ],
      "text/plain": [
       "$far.left\n",
       "[1] 0.023\n",
       "\n",
       "$left\n",
       "[1] 0.159\n",
       "\n",
       "$mid\n",
       "[1] 0.5\n",
       "\n",
       "$right\n",
       "[1] 0.841\n",
       "\n",
       "$far.right\n",
       "[1] 0.977\n"
      ]
     },
     "metadata": {},
     "output_type": "display_data"
    }
   ],
   "source": [
    "lst <- list(\n",
    "    far.left = 0.023,\n",
    "    left = 0.159,\n",
    "    mid = 0.500,\n",
    "    right = 0.841,\n",
    "    far.right = 0.977\n",
    ")\n",
    "\n",
    "lst"
   ]
  },
  {
   "cell_type": "code",
   "execution_count": null,
   "id": "cddb9c4a-fa9b-4241-9e9e-133cdbc34a43",
   "metadata": {},
   "outputs": [],
   "source": []
  },
  {
   "cell_type": "code",
   "execution_count": 31,
   "id": "834bbef8-eb91-4b8a-83c4-3dba3153412c",
   "metadata": {},
   "outputs": [
    {
     "data": {
      "text/html": [
       "<dl>\n",
       "\t<dt>$far.left</dt>\n",
       "\t\t<dd>0.023</dd>\n",
       "\t<dt>$left</dt>\n",
       "\t\t<dd>0.159</dd>\n",
       "\t<dt>$mid</dt>\n",
       "\t\t<dd>0.5</dd>\n",
       "\t<dt>$right</dt>\n",
       "\t\t<dd>0.841</dd>\n",
       "\t<dt>$far.right</dt>\n",
       "\t\t<dd>0.977</dd>\n",
       "</dl>\n"
      ],
      "text/latex": [
       "\\begin{description}\n",
       "\\item[\\$far.left] 0.023\n",
       "\\item[\\$left] 0.159\n",
       "\\item[\\$mid] 0.5\n",
       "\\item[\\$right] 0.841\n",
       "\\item[\\$far.right] 0.977\n",
       "\\end{description}\n"
      ],
      "text/markdown": [
       "$far.left\n",
       ":   0.023\n",
       "$left\n",
       ":   0.159\n",
       "$mid\n",
       ":   0.5\n",
       "$right\n",
       ":   0.841\n",
       "$far.right\n",
       ":   0.977\n",
       "\n",
       "\n"
      ],
      "text/plain": [
       "$far.left\n",
       "[1] 0.023\n",
       "\n",
       "$left\n",
       "[1] 0.159\n",
       "\n",
       "$mid\n",
       "[1] 0.5\n",
       "\n",
       "$right\n",
       "[1] 0.841\n",
       "\n",
       "$far.right\n",
       "[1] 0.977\n"
      ]
     },
     "metadata": {},
     "output_type": "display_data"
    }
   ],
   "source": [
    "lst <- list()\n",
    "\n",
    "lst$far.left <- 0.023\n",
    "lst$left <- 0.159\n",
    "lst$mid <- 0.500\n",
    "lst$right <- 0.841\n",
    "lst$far.right <- 0.977\n",
    "\n",
    "lst"
   ]
  },
  {
   "cell_type": "code",
   "execution_count": null,
   "id": "81ff01f3-2d03-4112-90bc-e363b476a53e",
   "metadata": {},
   "outputs": [],
   "source": []
  },
  {
   "cell_type": "code",
   "execution_count": 32,
   "id": "5d179af7-b5db-4211-85eb-1771d7d46975",
   "metadata": {},
   "outputs": [
    {
     "data": {
      "text/html": [
       "<dl>\n",
       "\t<dt>$far.left</dt>\n",
       "\t\t<dd>-2</dd>\n",
       "\t<dt>$left</dt>\n",
       "\t\t<dd>-1</dd>\n",
       "\t<dt>$mid</dt>\n",
       "\t\t<dd>0</dd>\n",
       "\t<dt>$right</dt>\n",
       "\t\t<dd>1</dd>\n",
       "\t<dt>$far.right</dt>\n",
       "\t\t<dd>2</dd>\n",
       "</dl>\n"
      ],
      "text/latex": [
       "\\begin{description}\n",
       "\\item[\\$far.left] -2\n",
       "\\item[\\$left] -1\n",
       "\\item[\\$mid] 0\n",
       "\\item[\\$right] 1\n",
       "\\item[\\$far.right] 2\n",
       "\\end{description}\n"
      ],
      "text/markdown": [
       "$far.left\n",
       ":   -2\n",
       "$left\n",
       ":   -1\n",
       "$mid\n",
       ":   0\n",
       "$right\n",
       ":   1\n",
       "$far.right\n",
       ":   2\n",
       "\n",
       "\n"
      ],
      "text/plain": [
       "$far.left\n",
       "[1] -2\n",
       "\n",
       "$left\n",
       "[1] -1\n",
       "\n",
       "$mid\n",
       "[1] 0\n",
       "\n",
       "$right\n",
       "[1] 1\n",
       "\n",
       "$far.right\n",
       "[1] 2\n"
      ]
     },
     "metadata": {},
     "output_type": "display_data"
    }
   ],
   "source": [
    "values <- -2:2\n",
    "names <- c(\"far.left\", \"left\", \"mid\", \"right\", \"far.right\")\n",
    "\n",
    "lst <- list()\n",
    "lst[names] <- values\n",
    "\n",
    "lst"
   ]
  },
  {
   "cell_type": "code",
   "execution_count": 33,
   "id": "6c4e0f58-0abc-4a2c-9bbc-b19666a092cd",
   "metadata": {},
   "outputs": [
    {
     "name": "stdout",
     "output_type": "stream",
     "text": [
      "The left limit is -1 \n"
     ]
    }
   ],
   "source": [
    "cat(\"The left limit is\", lst[[\"left\"]], \"\\n\")"
   ]
  },
  {
   "cell_type": "code",
   "execution_count": 34,
   "id": "04ac6093-da2b-401d-a7db-16446bc3bbac",
   "metadata": {},
   "outputs": [
    {
     "name": "stdout",
     "output_type": "stream",
     "text": [
      "The right limit is 1 \n"
     ]
    }
   ],
   "source": [
    "cat(\"The right limit is\", lst[[\"right\"]], \"\\n\")"
   ]
  },
  {
   "cell_type": "code",
   "execution_count": 36,
   "id": "c98b85e8-11b6-4718-bbf0-ec04f8a9a85a",
   "metadata": {},
   "outputs": [
    {
     "name": "stdout",
     "output_type": "stream",
     "text": [
      "The far.left limit is -2 \n",
      "The left limit is -1 \n",
      "The mid limit is 0 \n",
      "The right limit is 1 \n",
      "The far.right limit is 2 \n"
     ]
    }
   ],
   "source": [
    "for (nm in names(lst)) \n",
    "    cat(\"The\", nm, \"limit is\", lst[[nm]], \"\\n\")"
   ]
  },
  {
   "cell_type": "markdown",
   "id": "217857bb-194a-47eb-acee-cd539dc58398",
   "metadata": {},
   "source": [
    "# 10. Removing an Element from a List"
   ]
  },
  {
   "cell_type": "code",
   "execution_count": 37,
   "id": "d9b7e71a-d40b-4574-ab36-f2aa6f402d72",
   "metadata": {},
   "outputs": [
    {
     "data": {
      "text/html": [
       "<dl>\n",
       "\t<dt>$Kennedy</dt>\n",
       "\t\t<dd>1960</dd>\n",
       "\t<dt>$Johnson</dt>\n",
       "\t\t<dd>1964</dd>\n",
       "\t<dt>$Carter</dt>\n",
       "\t\t<dd>1976</dd>\n",
       "\t<dt>$Clinton</dt>\n",
       "\t\t<dd>1994</dd>\n",
       "</dl>\n"
      ],
      "text/latex": [
       "\\begin{description}\n",
       "\\item[\\$Kennedy] 1960\n",
       "\\item[\\$Johnson] 1964\n",
       "\\item[\\$Carter] 1976\n",
       "\\item[\\$Clinton] 1994\n",
       "\\end{description}\n"
      ],
      "text/markdown": [
       "$Kennedy\n",
       ":   1960\n",
       "$Johnson\n",
       ":   1964\n",
       "$Carter\n",
       ":   1976\n",
       "$Clinton\n",
       ":   1994\n",
       "\n",
       "\n"
      ],
      "text/plain": [
       "$Kennedy\n",
       "[1] 1960\n",
       "\n",
       "$Johnson\n",
       "[1] 1964\n",
       "\n",
       "$Carter\n",
       "[1] 1976\n",
       "\n",
       "$Clinton\n",
       "[1] 1994\n"
      ]
     },
     "metadata": {},
     "output_type": "display_data"
    }
   ],
   "source": [
    "years <- list(Kennedy = 1960, Johnson = 1964, Carter = 1976, Clinton = 1994)\n",
    "years"
   ]
  },
  {
   "cell_type": "code",
   "execution_count": 38,
   "id": "3469d71e-184e-4a89-ab23-995a8c9f06e5",
   "metadata": {},
   "outputs": [
    {
     "data": {
      "text/html": [
       "<dl>\n",
       "\t<dt>$Kennedy</dt>\n",
       "\t\t<dd>1960</dd>\n",
       "\t<dt>$Carter</dt>\n",
       "\t\t<dd>1976</dd>\n",
       "\t<dt>$Clinton</dt>\n",
       "\t\t<dd>1994</dd>\n",
       "</dl>\n"
      ],
      "text/latex": [
       "\\begin{description}\n",
       "\\item[\\$Kennedy] 1960\n",
       "\\item[\\$Carter] 1976\n",
       "\\item[\\$Clinton] 1994\n",
       "\\end{description}\n"
      ],
      "text/markdown": [
       "$Kennedy\n",
       ":   1960\n",
       "$Carter\n",
       ":   1976\n",
       "$Clinton\n",
       ":   1994\n",
       "\n",
       "\n"
      ],
      "text/plain": [
       "$Kennedy\n",
       "[1] 1960\n",
       "\n",
       "$Carter\n",
       "[1] 1976\n",
       "\n",
       "$Clinton\n",
       "[1] 1994\n"
      ]
     },
     "metadata": {},
     "output_type": "display_data"
    }
   ],
   "source": [
    "years[[\"Johnson\"]] <- NULL # Remove the element labeled \"Johnson\"\n",
    "\n",
    "years"
   ]
  },
  {
   "cell_type": "code",
   "execution_count": 39,
   "id": "b1adb159-431a-452d-b1d0-df5ae8e94ee4",
   "metadata": {},
   "outputs": [
    {
     "data": {
      "text/html": [
       "<strong>$Kennedy</strong> = 1960"
      ],
      "text/latex": [
       "\\textbf{\\$Kennedy} = 1960"
      ],
      "text/markdown": [
       "**$Kennedy** = 1960"
      ],
      "text/plain": [
       "$Kennedy\n",
       "[1] 1960\n"
      ]
     },
     "metadata": {},
     "output_type": "display_data"
    }
   ],
   "source": [
    "years[c(\"Carter\", \"Clinton\")] <- NULL # Remove two elements\n",
    "\n",
    "years"
   ]
  },
  {
   "cell_type": "markdown",
   "id": "d9916b6b-ebfd-4baa-824b-8c8220e14ae6",
   "metadata": {},
   "source": [
    "# 11. Flattening a List into a Vector"
   ]
  },
  {
   "cell_type": "code",
   "execution_count": 40,
   "id": "1fec8a27-b514-4b2e-a00e-896ba7518dcb",
   "metadata": {},
   "outputs": [
    {
     "name": "stderr",
     "output_type": "stream",
     "text": [
      "Warning message in mean.default(iq.scores):\n",
      "“argument is not numeric or logical: returning NA”\n"
     ]
    },
    {
     "data": {
      "text/html": [
       "&lt;NA&gt;"
      ],
      "text/latex": [
       "<NA>"
      ],
      "text/markdown": [
       "&lt;NA&gt;"
      ],
      "text/plain": [
       "[1] NA"
      ]
     },
     "metadata": {},
     "output_type": "display_data"
    }
   ],
   "source": [
    "iq.scores = list(100, 120, 103, 80, 99)\n",
    "mean(iq.scores)"
   ]
  },
  {
   "cell_type": "markdown",
   "id": "9de823d4-4c30-4f4f-9967-cf46a61db778",
   "metadata": {},
   "source": [
    "> * Ko thể tính dc do `iq.scrores` ko phải là vector"
   ]
  },
  {
   "cell_type": "code",
   "execution_count": 41,
   "id": "21dcc87d-4c64-45af-b2df-205ffe8d014c",
   "metadata": {},
   "outputs": [
    {
     "data": {
      "text/html": [
       "100.4"
      ],
      "text/latex": [
       "100.4"
      ],
      "text/markdown": [
       "100.4"
      ],
      "text/plain": [
       "[1] 100.4"
      ]
     },
     "metadata": {},
     "output_type": "display_data"
    }
   ],
   "source": [
    "mean(unlist(iq.scores))"
   ]
  },
  {
   "cell_type": "code",
   "execution_count": 42,
   "id": "25837132-7a8b-4773-9f9e-fd9843627cd7",
   "metadata": {},
   "outputs": [
    {
     "ename": "ERROR",
     "evalue": "Error in cat(iq.scores, \"\\n\"): argument 1 (type 'list') cannot be handled by 'cat'\n",
     "output_type": "error",
     "traceback": [
      "Error in cat(iq.scores, \"\\n\"): argument 1 (type 'list') cannot be handled by 'cat'\nTraceback:\n",
      "1. cat(iq.scores, \"\\n\")"
     ]
    }
   ],
   "source": [
    "cat(iq.scores, \"\\n\")"
   ]
  },
  {
   "cell_type": "code",
   "execution_count": 44,
   "id": "2b43996a-d340-4f65-9c02-9153a86702da",
   "metadata": {},
   "outputs": [
    {
     "name": "stdout",
     "output_type": "stream",
     "text": [
      "100 120 103 80 99 are elements from list"
     ]
    }
   ],
   "source": [
    "cat(unlist(iq.scores), \"are elements from list\")"
   ]
  },
  {
   "cell_type": "markdown",
   "id": "6c84d22e-7c5d-4826-be24-c935949c4503",
   "metadata": {},
   "source": [
    "# 12. Removing NULL elements from a list"
   ]
  },
  {
   "cell_type": "code",
   "execution_count": 45,
   "id": "ce53179d-c1d5-40c6-bb31-589e99f04d39",
   "metadata": {},
   "outputs": [],
   "source": [
    "library(purrr)"
   ]
  },
  {
   "cell_type": "code",
   "execution_count": 46,
   "id": "68820907-79b6-4e76-9364-fd286273f0a9",
   "metadata": {},
   "outputs": [
    {
     "data": {
      "text/html": [
       "<ol>\n",
       "\t<li>'Moe'</li>\n",
       "\t<li>NULL</li>\n",
       "\t<li>'Curly'</li>\n",
       "</ol>\n"
      ],
      "text/latex": [
       "\\begin{enumerate}\n",
       "\\item 'Moe'\n",
       "\\item NULL\n",
       "\\item 'Curly'\n",
       "\\end{enumerate}\n"
      ],
      "text/markdown": [
       "1. 'Moe'\n",
       "2. NULL\n",
       "3. 'Curly'\n",
       "\n",
       "\n"
      ],
      "text/plain": [
       "[[1]]\n",
       "[1] \"Moe\"\n",
       "\n",
       "[[2]]\n",
       "NULL\n",
       "\n",
       "[[3]]\n",
       "[1] \"Curly\"\n"
      ]
     },
     "metadata": {},
     "output_type": "display_data"
    }
   ],
   "source": [
    "lst = list(\"Moe\", NULL, \"Curly\")\n",
    "lst"
   ]
  },
  {
   "cell_type": "code",
   "execution_count": 47,
   "id": "a61c0476-dc55-4d28-b58c-78dde05524fc",
   "metadata": {},
   "outputs": [
    {
     "data": {
      "text/html": [
       "<ol>\n",
       "\t<li>'Moe'</li>\n",
       "\t<li>'Curly'</li>\n",
       "</ol>\n"
      ],
      "text/latex": [
       "\\begin{enumerate}\n",
       "\\item 'Moe'\n",
       "\\item 'Curly'\n",
       "\\end{enumerate}\n"
      ],
      "text/markdown": [
       "1. 'Moe'\n",
       "2. 'Curly'\n",
       "\n",
       "\n"
      ],
      "text/plain": [
       "[[1]]\n",
       "[1] \"Moe\"\n",
       "\n",
       "[[2]]\n",
       "[1] \"Curly\"\n"
      ]
     },
     "metadata": {},
     "output_type": "display_data"
    }
   ],
   "source": [
    "compact(lst)"
   ]
  },
  {
   "cell_type": "markdown",
   "id": "e2bfcc0b-d4ce-4e9a-91b9-05c1ca7f7d37",
   "metadata": {},
   "source": [
    "# 13. Removing List elements using a condition"
   ]
  },
  {
   "cell_type": "code",
   "execution_count": 48,
   "id": "fef76bf1-8e1f-473e-bda9-cb80616a6f0d",
   "metadata": {},
   "outputs": [
    {
     "data": {
      "text/html": [
       "<ol>\n",
       "\t<li>0</li>\n",
       "\t<li>1</li>\n",
       "\t<li>2</li>\n",
       "</ol>\n"
      ],
      "text/latex": [
       "\\begin{enumerate}\n",
       "\\item 0\n",
       "\\item 1\n",
       "\\item 2\n",
       "\\end{enumerate}\n"
      ],
      "text/markdown": [
       "1. 0\n",
       "2. 1\n",
       "3. 2\n",
       "\n",
       "\n"
      ],
      "text/plain": [
       "[[1]]\n",
       "[1] 0\n",
       "\n",
       "[[2]]\n",
       "[1] 1\n",
       "\n",
       "[[3]]\n",
       "[1] 2\n"
      ]
     },
     "metadata": {},
     "output_type": "display_data"
    }
   ],
   "source": [
    "lst = list(NA, 0, NA, 1, 2)\n",
    "\n",
    "lst %>% discard(is.na)"
   ]
  },
  {
   "cell_type": "code",
   "execution_count": null,
   "id": "1f5316a2-ca24-4781-a810-d5f459187f67",
   "metadata": {},
   "outputs": [],
   "source": []
  },
  {
   "cell_type": "code",
   "execution_count": 51,
   "id": "e41024c5-6a0e-4827-9844-0df48ddfde69",
   "metadata": {},
   "outputs": [
    {
     "data": {
      "text/html": [
       "<ol>\n",
       "\t<li>3</li>\n",
       "\t<li>2</li>\n",
       "\t<li>1</li>\n",
       "</ol>\n"
      ],
      "text/latex": [
       "\\begin{enumerate}\n",
       "\\item 3\n",
       "\\item 2\n",
       "\\item 1\n",
       "\\end{enumerate}\n"
      ],
      "text/markdown": [
       "1. 3\n",
       "2. 2\n",
       "3. 1\n",
       "\n",
       "\n"
      ],
      "text/plain": [
       "[[1]]\n",
       "[1] 3\n",
       "\n",
       "[[2]]\n",
       "[1] 2\n",
       "\n",
       "[[3]]\n",
       "[1] 1\n"
      ]
     },
     "metadata": {},
     "output_type": "display_data"
    }
   ],
   "source": [
    "lst <- list(3, \"dog\", 2, \"cat\", 1)\n",
    "lst %>% discard(is.character)"
   ]
  },
  {
   "cell_type": "code",
   "execution_count": null,
   "id": "09ab66d9-3d23-4a7c-b8aa-711b993a0447",
   "metadata": {},
   "outputs": [],
   "source": []
  },
  {
   "cell_type": "code",
   "execution_count": 53,
   "id": "b4685736-910c-4835-a9b3-f13ed6ed8245",
   "metadata": {},
   "outputs": [
    {
     "data": {
      "text/html": [
       "<ol>\n",
       "\t<li>1</li>\n",
       "\t<li>2</li>\n",
       "\t<li>3</li>\n",
       "</ol>\n"
      ],
      "text/latex": [
       "\\begin{enumerate}\n",
       "\\item 1\n",
       "\\item 2\n",
       "\\item 3\n",
       "\\end{enumerate}\n"
      ],
      "text/markdown": [
       "1. 1\n",
       "2. 2\n",
       "3. 3\n",
       "\n",
       "\n"
      ],
      "text/plain": [
       "[[1]]\n",
       "[1] 1\n",
       "\n",
       "[[2]]\n",
       "[1] 2\n",
       "\n",
       "[[3]]\n",
       "[1] 3\n"
      ]
     },
     "metadata": {},
     "output_type": "display_data"
    }
   ],
   "source": [
    "is_na_or_null = function(x) {\n",
    "    is.na(x) || is.null(x)\n",
    "} \n",
    "\n",
    "lst = list(1, NA, 2, NULL, 3)\n",
    "\n",
    "lst %>% discard(is_na_or_null)"
   ]
  },
  {
   "cell_type": "markdown",
   "id": "8605219e-26bb-4855-afea-fe8ba111a7cc",
   "metadata": {},
   "source": [
    "# 14. Initializing a Matrix"
   ]
  },
  {
   "cell_type": "code",
   "execution_count": 57,
   "id": "9f266403-adb0-44e4-846b-f703d93521e6",
   "metadata": {},
   "outputs": [
    {
     "name": "stdout",
     "output_type": "stream",
     "text": [
      "     [,1] [,2] [,3]\n",
      "[1,]    1    3    5\n",
      "[2,]    2    4    6\n"
     ]
    }
   ],
   "source": [
    "vec = 1:6\n",
    "\n",
    "print(matrix(vec, 2, 3))"
   ]
  },
  {
   "cell_type": "code",
   "execution_count": null,
   "id": "19cef7a7-895f-4aae-a709-5460cb30900c",
   "metadata": {},
   "outputs": [],
   "source": []
  },
  {
   "cell_type": "code",
   "execution_count": 59,
   "id": "b49fc5b5-cea5-4837-a358-850c67edc3b7",
   "metadata": {},
   "outputs": [
    {
     "name": "stdout",
     "output_type": "stream",
     "text": [
      "     [,1] [,2] [,3]\n",
      "[1,]    0    0    0\n",
      "[2,]    0    0    0\n"
     ]
    }
   ],
   "source": [
    "print(matrix(0, 2, 3))"
   ]
  },
  {
   "cell_type": "code",
   "execution_count": null,
   "id": "bacb3188-e60f-4c4d-af34-263159f152c7",
   "metadata": {},
   "outputs": [],
   "source": []
  },
  {
   "cell_type": "code",
   "execution_count": 60,
   "id": "d5e2fafd-1236-431e-8029-5d7b8358a3e8",
   "metadata": {},
   "outputs": [
    {
     "name": "stdout",
     "output_type": "stream",
     "text": [
      "[1] NA\n"
     ]
    }
   ],
   "source": [
    "print(NA, 2, 3)"
   ]
  },
  {
   "cell_type": "code",
   "execution_count": null,
   "id": "e85cda1e-889e-4ce0-96cd-f34d0f192b5b",
   "metadata": {},
   "outputs": [],
   "source": []
  },
  {
   "cell_type": "code",
   "execution_count": 61,
   "id": "47383b31-d185-4c9f-a8ed-679472e28808",
   "metadata": {},
   "outputs": [
    {
     "name": "stdout",
     "output_type": "stream",
     "text": [
      "     [,1] [,2] [,3]\n",
      "[1,]  1.1  1.3  2.2\n",
      "[2,]  1.2  2.1  2.3\n"
     ]
    }
   ],
   "source": [
    "mat <- matrix(c(1.1, 1.2, 1.3, 2.1, 2.2, 2.3), 2, 3)\n",
    "\n",
    "print(mat)"
   ]
  },
  {
   "cell_type": "code",
   "execution_count": null,
   "id": "464c4750-54ef-4a08-9697-6ce29b21fa27",
   "metadata": {},
   "outputs": [],
   "source": []
  },
  {
   "cell_type": "code",
   "execution_count": 63,
   "id": "3682d3dd-7e9e-48c9-ace9-fe9b557fea33",
   "metadata": {},
   "outputs": [
    {
     "name": "stdout",
     "output_type": "stream",
     "text": [
      "     [,1] [,2] [,3]\n",
      "[1,]  1.1  1.2  1.3\n",
      "[2,]  2.1  2.2  2.3\n"
     ]
    }
   ],
   "source": [
    "theData <- c(1.1, 1.2, 1.3, 2.1, 2.2, 2.3)\n",
    "mat <- matrix(theData, 2, 3, byrow = TRUE)\n",
    "\n",
    "print(mat)"
   ]
  },
  {
   "cell_type": "code",
   "execution_count": null,
   "id": "b3097b4f-2205-431a-bb86-de3703e17e53",
   "metadata": {},
   "outputs": [],
   "source": []
  },
  {
   "cell_type": "code",
   "execution_count": 66,
   "id": "ee79d964-9f3f-4ea5-b464-65b013053eeb",
   "metadata": {},
   "outputs": [
    {
     "name": "stdout",
     "output_type": "stream",
     "text": [
      "     [,1] [,2] [,3]\n",
      "[1,]  1.1  1.3  2.2\n",
      "[2,]  1.2  2.1  2.3\n"
     ]
    }
   ],
   "source": [
    "v <- c(1.1, 1.2, 1.3, 2.1, 2.2, 2.3)\n",
    "dim(v) <- c(2, 3)\n",
    "\n",
    "print(v)"
   ]
  },
  {
   "cell_type": "code",
   "execution_count": 67,
   "id": "4432354a-6c95-413b-b3c6-920b0bee0874",
   "metadata": {},
   "outputs": [
    {
     "data": {
      "text/html": [
       "<style>\n",
       ".list-inline {list-style: none; margin:0; padding: 0}\n",
       ".list-inline>li {display: inline-block}\n",
       ".list-inline>li:not(:last-child)::after {content: \"\\00b7\"; padding: 0 .5ex}\n",
       "</style>\n",
       "<ol class=list-inline><li>'matrix'</li><li>'array'</li></ol>\n"
      ],
      "text/latex": [
       "\\begin{enumerate*}\n",
       "\\item 'matrix'\n",
       "\\item 'array'\n",
       "\\end{enumerate*}\n"
      ],
      "text/markdown": [
       "1. 'matrix'\n",
       "2. 'array'\n",
       "\n",
       "\n"
      ],
      "text/plain": [
       "[1] \"matrix\" \"array\" "
      ]
     },
     "metadata": {},
     "output_type": "display_data"
    }
   ],
   "source": [
    "class(v)"
   ]
  },
  {
   "cell_type": "markdown",
   "id": "f8f1d6c8-b2d8-44c7-a596-db223f78a869",
   "metadata": {},
   "source": [
    "# 15. Performing matrix operations"
   ]
  },
  {
   "cell_type": "code",
   "execution_count": 6,
   "id": "d9a5a25f-998a-4cb5-95a9-53a4690b3c29",
   "metadata": {},
   "outputs": [
    {
     "name": "stdout",
     "output_type": "stream",
     "text": [
      "     [,1] [,2] [,3]\n",
      "[1,]    2    3    2\n",
      "[2,]    1    2    1\n",
      "[3,]    1    1    2\n"
     ]
    }
   ],
   "source": [
    "mat = matrix(c(2, 1, 1, 3, 2, 1, 2, 1, 2), nrow = 3, ncol = 3)\n",
    "\n",
    "print(mat)"
   ]
  },
  {
   "cell_type": "code",
   "execution_count": 7,
   "id": "e061cac6-63c0-4cab-9cf1-f412c73d2584",
   "metadata": {},
   "outputs": [
    {
     "name": "stdout",
     "output_type": "stream",
     "text": [
      "     [,1] [,2] [,3]\n",
      "[1,]    2    1    1\n",
      "[2,]    3    2    1\n",
      "[3,]    2    1    2\n"
     ]
    }
   ],
   "source": [
    "print(t(mat))"
   ]
  },
  {
   "cell_type": "code",
   "execution_count": 9,
   "id": "bd5e8e8f-cc64-4b42-b9f9-6473b83caba1",
   "metadata": {},
   "outputs": [
    {
     "name": "stdout",
     "output_type": "stream",
     "text": [
      "     [,1] [,2] [,3]\n",
      "[1,]    3   -4   -1\n",
      "[2,]   -1    2    0\n",
      "[3,]   -1    1    1\n"
     ]
    }
   ],
   "source": [
    "print(solve(mat)) # ma trận nghịch đảo"
   ]
  },
  {
   "cell_type": "code",
   "execution_count": 12,
   "id": "ba816e37-ec3d-433d-a96f-40c9942f6a1d",
   "metadata": {},
   "outputs": [
    {
     "name": "stdout",
     "output_type": "stream",
     "text": [
      "     [,1] [,2] [,3]\n",
      "[1,]    1    0    0\n",
      "[2,]    0    1    0\n",
      "[3,]    0    0    1\n"
     ]
    }
   ],
   "source": [
    "print(mat %*% solve(mat))"
   ]
  },
  {
   "cell_type": "code",
   "execution_count": 15,
   "id": "453be43b-5b87-4317-a9cf-ac727f05fe26",
   "metadata": {},
   "outputs": [
    {
     "name": "stdout",
     "output_type": "stream",
     "text": [
      "     [,1] [,2] [,3] [,4] [,5]\n",
      "[1,]    1    0    0    0    0\n",
      "[2,]    0    1    0    0    0\n",
      "[3,]    0    0    1    0    0\n",
      "[4,]    0    0    0    1    0\n",
      "[5,]    0    0    0    0    1\n"
     ]
    }
   ],
   "source": [
    "print(diag(5)) # ma trận đơn vị"
   ]
  },
  {
   "cell_type": "markdown",
   "id": "c8998175-6bf7-47a1-89ca-22f69aa64b8a",
   "metadata": {},
   "source": [
    "# 16. Giving Descriptive Names to the Rows and Columns of a Matrix _(đặt tên cho hàng và cột của ma trận)_"
   ]
  },
  {
   "cell_type": "code",
   "execution_count": 16,
   "id": "d4c28835-2aa7-4d58-8832-626025d0eda2",
   "metadata": {},
   "outputs": [
    {
     "name": "stdout",
     "output_type": "stream",
     "text": [
      "     [,1] [,2] [,3]\n",
      "[1,]    1    4    7\n",
      "[2,]    2    5    8\n",
      "[3,]    3    6    9\n"
     ]
    }
   ],
   "source": [
    "mat = matrix(1:9, nrow=3, ncol=3)\n",
    "\n",
    "print(mat)"
   ]
  },
  {
   "cell_type": "code",
   "execution_count": 17,
   "id": "85f9a062-c528-49ae-973f-f8f8c95a9cfe",
   "metadata": {},
   "outputs": [
    {
     "name": "stdout",
     "output_type": "stream",
     "text": [
      "      col_1 col_2 col_3\n",
      "row_1     1     4     7\n",
      "row_2     2     5     8\n",
      "row_3     3     6     9\n"
     ]
    }
   ],
   "source": [
    "rownames(mat) = c(\"row_1\", \"row_2\", \"row_3\")\n",
    "colnames(mat) = c(\"col_1\", \"col_2\", \"col_3\")\n",
    "\n",
    "print(mat)"
   ]
  },
  {
   "cell_type": "code",
   "execution_count": 18,
   "id": "efd09154-ae64-4cf3-a773-2731266862d6",
   "metadata": {},
   "outputs": [
    {
     "data": {
      "text/html": [
       "1"
      ],
      "text/latex": [
       "1"
      ],
      "text/markdown": [
       "1"
      ],
      "text/plain": [
       "[1] 1"
      ]
     },
     "metadata": {},
     "output_type": "display_data"
    }
   ],
   "source": [
    "mat['row_1', 'col_1']"
   ]
  },
  {
   "cell_type": "markdown",
   "id": "d827bda5-3908-43e5-9004-4fe48a8947e8",
   "metadata": {},
   "source": [
    "# 17. Selecting One Row or Column from a Matrix _(chọn một hàng hoặc cột trong ma trận)_"
   ]
  },
  {
   "cell_type": "code",
   "execution_count": 19,
   "id": "711183e1-51b7-4f6a-a617-0c45e9080a0f",
   "metadata": {},
   "outputs": [
    {
     "name": "stdout",
     "output_type": "stream",
     "text": [
      "     [,1] [,2] [,3]\n",
      "[1,]    1    4    7\n",
      "[2,]    2    5    8\n",
      "[3,]    3    6    9\n"
     ]
    }
   ],
   "source": [
    "mat = matrix(1:9, nrow=3, ncol=3)\n",
    "\n",
    "print(mat)"
   ]
  },
  {
   "cell_type": "markdown",
   "id": "5e86c13b-52a3-4087-af56-9e14706bcdd7",
   "metadata": {},
   "source": [
    "* Chọn dòng đầu tiên"
   ]
  },
  {
   "cell_type": "code",
   "execution_count": 20,
   "id": "3816fa11-b136-43b8-8ddd-f6e65e56efa4",
   "metadata": {},
   "outputs": [
    {
     "data": {
      "text/html": [
       "<style>\n",
       ".list-inline {list-style: none; margin:0; padding: 0}\n",
       ".list-inline>li {display: inline-block}\n",
       ".list-inline>li:not(:last-child)::after {content: \"\\00b7\"; padding: 0 .5ex}\n",
       "</style>\n",
       "<ol class=list-inline><li>1</li><li>4</li><li>7</li></ol>\n"
      ],
      "text/latex": [
       "\\begin{enumerate*}\n",
       "\\item 1\n",
       "\\item 4\n",
       "\\item 7\n",
       "\\end{enumerate*}\n"
      ],
      "text/markdown": [
       "1. 1\n",
       "2. 4\n",
       "3. 7\n",
       "\n",
       "\n"
      ],
      "text/plain": [
       "[1] 1 4 7"
      ]
     },
     "metadata": {},
     "output_type": "display_data"
    }
   ],
   "source": [
    "mat[1,]"
   ]
  },
  {
   "cell_type": "markdown",
   "id": "1b9abe09-c155-43ff-b5b4-71fa2d701e9c",
   "metadata": {},
   "source": [
    "* Chọn cột thứ ba"
   ]
  },
  {
   "cell_type": "code",
   "execution_count": 21,
   "id": "91f6f597-4f98-4a5b-a0a6-886824eb3c2c",
   "metadata": {},
   "outputs": [
    {
     "data": {
      "text/html": [
       "<style>\n",
       ".list-inline {list-style: none; margin:0; padding: 0}\n",
       ".list-inline>li {display: inline-block}\n",
       ".list-inline>li:not(:last-child)::after {content: \"\\00b7\"; padding: 0 .5ex}\n",
       "</style>\n",
       "<ol class=list-inline><li>7</li><li>8</li><li>9</li></ol>\n"
      ],
      "text/latex": [
       "\\begin{enumerate*}\n",
       "\\item 7\n",
       "\\item 8\n",
       "\\item 9\n",
       "\\end{enumerate*}\n"
      ],
      "text/markdown": [
       "1. 7\n",
       "2. 8\n",
       "3. 9\n",
       "\n",
       "\n"
      ],
      "text/plain": [
       "[1] 7 8 9"
      ]
     },
     "metadata": {},
     "output_type": "display_data"
    }
   ],
   "source": [
    "mat[, 3]"
   ]
  },
  {
   "cell_type": "markdown",
   "id": "0e93fad3-8918-4962-b67c-7fa2bc5b5158",
   "metadata": {},
   "source": [
    "* Trả về ma trận con bao gồm một hàng bằng cách chỉ định đối số `drop=FALSE`"
   ]
  },
  {
   "cell_type": "code",
   "execution_count": 23,
   "id": "7bf13902-e6a2-4ddb-8521-01f1db567d5a",
   "metadata": {},
   "outputs": [
    {
     "data": {
      "text/html": [
       "<table class=\"dataframe\">\n",
       "<caption>A matrix: 1 × 3 of type int</caption>\n",
       "<tbody>\n",
       "\t<tr><td>1</td><td>4</td><td>7</td></tr>\n",
       "</tbody>\n",
       "</table>\n"
      ],
      "text/latex": [
       "A matrix: 1 × 3 of type int\n",
       "\\begin{tabular}{lll}\n",
       "\t 1 & 4 & 7\\\\\n",
       "\\end{tabular}\n"
      ],
      "text/markdown": [
       "\n",
       "A matrix: 1 × 3 of type int\n",
       "\n",
       "| 1 | 4 | 7 |\n",
       "\n"
      ],
      "text/plain": [
       "     [,1] [,2] [,3]\n",
       "[1,] 1    4    7   "
      ]
     },
     "metadata": {},
     "output_type": "display_data"
    }
   ],
   "source": [
    "mat[1,, drop=FALSE]"
   ]
  },
  {
   "cell_type": "markdown",
   "id": "c164dbf2-be91-43f7-a909-84c751dbed4f",
   "metadata": {},
   "source": [
    "* Trả về ma trận con bao gồm một dòng"
   ]
  },
  {
   "cell_type": "code",
   "execution_count": 24,
   "id": "e16dd772-dc9c-45d6-bddb-abb165766790",
   "metadata": {},
   "outputs": [
    {
     "data": {
      "text/html": [
       "<table class=\"dataframe\">\n",
       "<caption>A matrix: 3 × 1 of type int</caption>\n",
       "<tbody>\n",
       "\t<tr><td>7</td></tr>\n",
       "\t<tr><td>8</td></tr>\n",
       "\t<tr><td>9</td></tr>\n",
       "</tbody>\n",
       "</table>\n"
      ],
      "text/latex": [
       "A matrix: 3 × 1 of type int\n",
       "\\begin{tabular}{l}\n",
       "\t 7\\\\\n",
       "\t 8\\\\\n",
       "\t 9\\\\\n",
       "\\end{tabular}\n"
      ],
      "text/markdown": [
       "\n",
       "A matrix: 3 × 1 of type int\n",
       "\n",
       "| 7 |\n",
       "| 8 |\n",
       "| 9 |\n",
       "\n"
      ],
      "text/plain": [
       "     [,1]\n",
       "[1,] 7   \n",
       "[2,] 8   \n",
       "[3,] 9   "
      ]
     },
     "metadata": {},
     "output_type": "display_data"
    }
   ],
   "source": [
    "mat[, 3, drop=FALSE]"
   ]
  },
  {
   "cell_type": "markdown",
   "id": "5a94b74d-e4cb-4ccf-9a7f-270aa79ae890",
   "metadata": {},
   "source": [
    "# 18. Initializing a Data Frame from Column Data _(khởi tạo dữ liệu cho dataframe)_"
   ]
  },
  {
   "cell_type": "markdown",
   "id": "665ecd12-e3ae-4be4-a8ca-211e7ad09a20",
   "metadata": {},
   "source": [
    "* Khởi tạo ko chỉ định tên cột"
   ]
  },
  {
   "cell_type": "code",
   "execution_count": 25,
   "id": "17b33f6e-7a59-4af7-b956-a7c464a04b9b",
   "metadata": {},
   "outputs": [
    {
     "data": {
      "text/html": [
       "<table class=\"dataframe\">\n",
       "<caption>A data.frame: 3 × 3</caption>\n",
       "<thead>\n",
       "\t<tr><th scope=col>X1.3</th><th scope=col>X4.6</th><th scope=col>X7.9</th></tr>\n",
       "\t<tr><th scope=col>&lt;int&gt;</th><th scope=col>&lt;int&gt;</th><th scope=col>&lt;int&gt;</th></tr>\n",
       "</thead>\n",
       "<tbody>\n",
       "\t<tr><td>1</td><td>4</td><td>7</td></tr>\n",
       "\t<tr><td>2</td><td>5</td><td>8</td></tr>\n",
       "\t<tr><td>3</td><td>6</td><td>9</td></tr>\n",
       "</tbody>\n",
       "</table>\n"
      ],
      "text/latex": [
       "A data.frame: 3 × 3\n",
       "\\begin{tabular}{lll}\n",
       " X1.3 & X4.6 & X7.9\\\\\n",
       " <int> & <int> & <int>\\\\\n",
       "\\hline\n",
       "\t 1 & 4 & 7\\\\\n",
       "\t 2 & 5 & 8\\\\\n",
       "\t 3 & 6 & 9\\\\\n",
       "\\end{tabular}\n"
      ],
      "text/markdown": [
       "\n",
       "A data.frame: 3 × 3\n",
       "\n",
       "| X1.3 &lt;int&gt; | X4.6 &lt;int&gt; | X7.9 &lt;int&gt; |\n",
       "|---|---|---|\n",
       "| 1 | 4 | 7 |\n",
       "| 2 | 5 | 8 |\n",
       "| 3 | 6 | 9 |\n",
       "\n"
      ],
      "text/plain": [
       "  X1.3 X4.6 X7.9\n",
       "1 1    4    7   \n",
       "2 2    5    8   \n",
       "3 3    6    9   "
      ]
     },
     "metadata": {},
     "output_type": "display_data"
    }
   ],
   "source": [
    "df = data.frame(1:3, 4:6, 7:9)\n",
    "\n",
    "df"
   ]
  },
  {
   "cell_type": "markdown",
   "id": "ff7e0449-ec2d-4d74-85d0-ef4883c40c42",
   "metadata": {},
   "source": [
    "* Khởi tạo có chỉ định tên cột"
   ]
  },
  {
   "cell_type": "code",
   "execution_count": 26,
   "id": "a3cf3c70-929a-4c97-8b6d-66b5212cd4b7",
   "metadata": {},
   "outputs": [
    {
     "data": {
      "text/html": [
       "<table class=\"dataframe\">\n",
       "<caption>A data.frame: 3 × 3</caption>\n",
       "<thead>\n",
       "\t<tr><th scope=col>col_1</th><th scope=col>col_2</th><th scope=col>col_3</th></tr>\n",
       "\t<tr><th scope=col>&lt;int&gt;</th><th scope=col>&lt;int&gt;</th><th scope=col>&lt;int&gt;</th></tr>\n",
       "</thead>\n",
       "<tbody>\n",
       "\t<tr><td>1</td><td>4</td><td>7</td></tr>\n",
       "\t<tr><td>2</td><td>5</td><td>8</td></tr>\n",
       "\t<tr><td>3</td><td>6</td><td>9</td></tr>\n",
       "</tbody>\n",
       "</table>\n"
      ],
      "text/latex": [
       "A data.frame: 3 × 3\n",
       "\\begin{tabular}{lll}\n",
       " col\\_1 & col\\_2 & col\\_3\\\\\n",
       " <int> & <int> & <int>\\\\\n",
       "\\hline\n",
       "\t 1 & 4 & 7\\\\\n",
       "\t 2 & 5 & 8\\\\\n",
       "\t 3 & 6 & 9\\\\\n",
       "\\end{tabular}\n"
      ],
      "text/markdown": [
       "\n",
       "A data.frame: 3 × 3\n",
       "\n",
       "| col_1 &lt;int&gt; | col_2 &lt;int&gt; | col_3 &lt;int&gt; |\n",
       "|---|---|---|\n",
       "| 1 | 4 | 7 |\n",
       "| 2 | 5 | 8 |\n",
       "| 3 | 6 | 9 |\n",
       "\n"
      ],
      "text/plain": [
       "  col_1 col_2 col_3\n",
       "1 1     4     7    \n",
       "2 2     5     8    \n",
       "3 3     6     9    "
      ]
     },
     "metadata": {},
     "output_type": "display_data"
    }
   ],
   "source": [
    "df = data.frame(col_1=1:3, col_2=4:6, col_3=7:9)\n",
    "\n",
    "df"
   ]
  },
  {
   "cell_type": "markdown",
   "id": "169a8b89-8ad3-4e1a-9d04-95c7e9ac27ba",
   "metadata": {},
   "source": [
    "* Tạo dataframe từ list các vector"
   ]
  },
  {
   "cell_type": "code",
   "execution_count": 2,
   "id": "850b5856-9933-44a4-bdff-21e89925a39f",
   "metadata": {},
   "outputs": [
    {
     "data": {
      "text/html": [
       "<table class=\"dataframe\">\n",
       "<caption>A data.frame: 10 × 3</caption>\n",
       "<thead>\n",
       "\t<tr><th scope=col>p1</th><th scope=col>p2</th><th scope=col>p3</th></tr>\n",
       "\t<tr><th scope=col>&lt;int&gt;</th><th scope=col>&lt;int&gt;</th><th scope=col>&lt;int&gt;</th></tr>\n",
       "</thead>\n",
       "<tbody>\n",
       "\t<tr><td> 1</td><td>11</td><td>21</td></tr>\n",
       "\t<tr><td> 2</td><td>12</td><td>22</td></tr>\n",
       "\t<tr><td> 3</td><td>13</td><td>23</td></tr>\n",
       "\t<tr><td> 4</td><td>14</td><td>24</td></tr>\n",
       "\t<tr><td> 5</td><td>15</td><td>25</td></tr>\n",
       "\t<tr><td> 6</td><td>16</td><td>26</td></tr>\n",
       "\t<tr><td> 7</td><td>17</td><td>27</td></tr>\n",
       "\t<tr><td> 8</td><td>18</td><td>28</td></tr>\n",
       "\t<tr><td> 9</td><td>19</td><td>29</td></tr>\n",
       "\t<tr><td>10</td><td>20</td><td>30</td></tr>\n",
       "</tbody>\n",
       "</table>\n"
      ],
      "text/latex": [
       "A data.frame: 10 × 3\n",
       "\\begin{tabular}{lll}\n",
       " p1 & p2 & p3\\\\\n",
       " <int> & <int> & <int>\\\\\n",
       "\\hline\n",
       "\t  1 & 11 & 21\\\\\n",
       "\t  2 & 12 & 22\\\\\n",
       "\t  3 & 13 & 23\\\\\n",
       "\t  4 & 14 & 24\\\\\n",
       "\t  5 & 15 & 25\\\\\n",
       "\t  6 & 16 & 26\\\\\n",
       "\t  7 & 17 & 27\\\\\n",
       "\t  8 & 18 & 28\\\\\n",
       "\t  9 & 19 & 29\\\\\n",
       "\t 10 & 20 & 30\\\\\n",
       "\\end{tabular}\n"
      ],
      "text/markdown": [
       "\n",
       "A data.frame: 10 × 3\n",
       "\n",
       "| p1 &lt;int&gt; | p2 &lt;int&gt; | p3 &lt;int&gt; |\n",
       "|---|---|---|\n",
       "|  1 | 11 | 21 |\n",
       "|  2 | 12 | 22 |\n",
       "|  3 | 13 | 23 |\n",
       "|  4 | 14 | 24 |\n",
       "|  5 | 15 | 25 |\n",
       "|  6 | 16 | 26 |\n",
       "|  7 | 17 | 27 |\n",
       "|  8 | 18 | 28 |\n",
       "|  9 | 19 | 29 |\n",
       "| 10 | 20 | 30 |\n",
       "\n"
      ],
      "text/plain": [
       "   p1 p2 p3\n",
       "1   1 11 21\n",
       "2   2 12 22\n",
       "3   3 13 23\n",
       "4   4 14 24\n",
       "5   5 15 25\n",
       "6   6 16 26\n",
       "7   7 17 27\n",
       "8   8 18 28\n",
       "9   9 19 29\n",
       "10 10 20 30"
      ]
     },
     "metadata": {},
     "output_type": "display_data"
    }
   ],
   "source": [
    "lst_of_vectors = list(p1=1:10, p2=11:20, p3=21:30)\n",
    "df = as.data.frame(lst_of_vectors)\n",
    "\n",
    "df"
   ]
  },
  {
   "cell_type": "markdown",
   "id": "bfb9d87a-6aa5-4ca3-994f-00b9b474c355",
   "metadata": {},
   "source": [
    "# 19. Initializing a Data Frame from Row Data _(tạo dataframe từ các dòng dữ liệu)_"
   ]
  },
  {
   "cell_type": "code",
   "execution_count": 4,
   "id": "87cb3a1b-6cad-45c3-b6c6-7f314caedab8",
   "metadata": {},
   "outputs": [
    {
     "data": {
      "text/html": [
       "<table class=\"dataframe\">\n",
       "<caption>A data.frame: 3 × 3</caption>\n",
       "<thead>\n",
       "\t<tr><th scope=col>a</th><th scope=col>b</th><th scope=col>c</th></tr>\n",
       "\t<tr><th scope=col>&lt;dbl&gt;</th><th scope=col>&lt;dbl&gt;</th><th scope=col>&lt;chr&gt;</th></tr>\n",
       "</thead>\n",
       "<tbody>\n",
       "\t<tr><td>1</td><td>2</td><td>X</td></tr>\n",
       "\t<tr><td>3</td><td>4</td><td>Y</td></tr>\n",
       "\t<tr><td>5</td><td>6</td><td>Z</td></tr>\n",
       "</tbody>\n",
       "</table>\n"
      ],
      "text/latex": [
       "A data.frame: 3 × 3\n",
       "\\begin{tabular}{lll}\n",
       " a & b & c\\\\\n",
       " <dbl> & <dbl> & <chr>\\\\\n",
       "\\hline\n",
       "\t 1 & 2 & X\\\\\n",
       "\t 3 & 4 & Y\\\\\n",
       "\t 5 & 6 & Z\\\\\n",
       "\\end{tabular}\n"
      ],
      "text/markdown": [
       "\n",
       "A data.frame: 3 × 3\n",
       "\n",
       "| a &lt;dbl&gt; | b &lt;dbl&gt; | c &lt;chr&gt; |\n",
       "|---|---|---|\n",
       "| 1 | 2 | X |\n",
       "| 3 | 4 | Y |\n",
       "| 5 | 6 | Z |\n",
       "\n"
      ],
      "text/plain": [
       "  a b c\n",
       "1 1 2 X\n",
       "2 3 4 Y\n",
       "3 5 6 Z"
      ]
     },
     "metadata": {},
     "output_type": "display_data"
    }
   ],
   "source": [
    "r1 <- data.frame(a = 1, b = 2, c = \"X\")\n",
    "r2 <- data.frame(a = 3, b = 4, c = \"Y\")\n",
    "r3 <- data.frame(a = 5, b = 6, c = \"Z\")\n",
    "\n",
    "rbind(r1, r2, r3)"
   ]
  },
  {
   "cell_type": "code",
   "execution_count": null,
   "id": "874aa465-dac5-4547-a6b1-60691d08af41",
   "metadata": {},
   "outputs": [],
   "source": []
  },
  {
   "cell_type": "code",
   "execution_count": 8,
   "id": "797baa5f-f78a-4dc7-9f19-33626cb7db5a",
   "metadata": {},
   "outputs": [
    {
     "data": {
      "text/html": [
       "<table class=\"dataframe\">\n",
       "<caption>A data.frame: 3 × 3</caption>\n",
       "<thead>\n",
       "\t<tr><th scope=col>a</th><th scope=col>b</th><th scope=col>c</th></tr>\n",
       "\t<tr><th scope=col>&lt;dbl&gt;</th><th scope=col>&lt;dbl&gt;</th><th scope=col>&lt;chr&gt;</th></tr>\n",
       "</thead>\n",
       "<tbody>\n",
       "\t<tr><td>1</td><td>2</td><td>X</td></tr>\n",
       "\t<tr><td>3</td><td>4</td><td>Y</td></tr>\n",
       "\t<tr><td>5</td><td>6</td><td>Z</td></tr>\n",
       "</tbody>\n",
       "</table>\n"
      ],
      "text/latex": [
       "A data.frame: 3 × 3\n",
       "\\begin{tabular}{lll}\n",
       " a & b & c\\\\\n",
       " <dbl> & <dbl> & <chr>\\\\\n",
       "\\hline\n",
       "\t 1 & 2 & X\\\\\n",
       "\t 3 & 4 & Y\\\\\n",
       "\t 5 & 6 & Z\\\\\n",
       "\\end{tabular}\n"
      ],
      "text/markdown": [
       "\n",
       "A data.frame: 3 × 3\n",
       "\n",
       "| a &lt;dbl&gt; | b &lt;dbl&gt; | c &lt;chr&gt; |\n",
       "|---|---|---|\n",
       "| 1 | 2 | X |\n",
       "| 3 | 4 | Y |\n",
       "| 5 | 6 | Z |\n",
       "\n"
      ],
      "text/plain": [
       "  a b c\n",
       "1 1 2 X\n",
       "2 3 4 Y\n",
       "3 5 6 Z"
      ]
     },
     "metadata": {},
     "output_type": "display_data"
    }
   ],
   "source": [
    "library(dplyr)\n",
    "\n",
    "lst_of_rows = list(r1, r2, r3)\n",
    "\n",
    "bind_rows(lst_of_rows)"
   ]
  },
  {
   "cell_type": "code",
   "execution_count": null,
   "id": "d29bf973-847f-42f6-b01b-72f67f389ddc",
   "metadata": {},
   "outputs": [],
   "source": []
  },
  {
   "cell_type": "code",
   "execution_count": 9,
   "id": "334299cd-38be-467b-8387-de8d7e547451",
   "metadata": {},
   "outputs": [
    {
     "data": {
      "text/html": [
       "<table class=\"dataframe\">\n",
       "<caption>A tibble: 3 × 3</caption>\n",
       "<thead>\n",
       "\t<tr><th scope=col>a</th><th scope=col>b</th><th scope=col>c</th></tr>\n",
       "\t<tr><th scope=col>&lt;dbl&gt;</th><th scope=col>&lt;dbl&gt;</th><th scope=col>&lt;chr&gt;</th></tr>\n",
       "</thead>\n",
       "<tbody>\n",
       "\t<tr><td>1</td><td>2</td><td>X</td></tr>\n",
       "\t<tr><td>3</td><td>4</td><td>Y</td></tr>\n",
       "\t<tr><td>5</td><td>6</td><td>Z</td></tr>\n",
       "</tbody>\n",
       "</table>\n"
      ],
      "text/latex": [
       "A tibble: 3 × 3\n",
       "\\begin{tabular}{lll}\n",
       " a & b & c\\\\\n",
       " <dbl> & <dbl> & <chr>\\\\\n",
       "\\hline\n",
       "\t 1 & 2 & X\\\\\n",
       "\t 3 & 4 & Y\\\\\n",
       "\t 5 & 6 & Z\\\\\n",
       "\\end{tabular}\n"
      ],
      "text/markdown": [
       "\n",
       "A tibble: 3 × 3\n",
       "\n",
       "| a &lt;dbl&gt; | b &lt;dbl&gt; | c &lt;chr&gt; |\n",
       "|---|---|---|\n",
       "| 1 | 2 | X |\n",
       "| 3 | 4 | Y |\n",
       "| 5 | 6 | Z |\n",
       "\n"
      ],
      "text/plain": [
       "  a b c\n",
       "1 1 2 X\n",
       "2 3 4 Y\n",
       "3 5 6 Z"
      ]
     },
     "metadata": {},
     "output_type": "display_data"
    }
   ],
   "source": [
    "l1 <- list(a = 1, b = 2, c = \"X\")\n",
    "l2 <- list(a = 3, b = 4, c = \"Y\")\n",
    "l3 <- list(a = 5, b = 6, c = \"Z\")\n",
    "list.of.lists <- list(l1, l2, l3)\n",
    "\n",
    "bind_rows(list.of.lists)"
   ]
  },
  {
   "cell_type": "markdown",
   "id": "c6d66bec-00ba-4dfd-8606-1308b7b3b969",
   "metadata": {},
   "source": [
    "* `factor` trong dataframe"
   ]
  },
  {
   "cell_type": "code",
   "execution_count": 10,
   "id": "1c041fac-9611-4535-b30c-6d5f38690d82",
   "metadata": {},
   "outputs": [
    {
     "data": {
      "text/html": [
       "<table class=\"dataframe\">\n",
       "<caption>A data.frame: 1 × 3</caption>\n",
       "<thead>\n",
       "\t<tr><th scope=col>a</th><th scope=col>b</th><th scope=col>c</th></tr>\n",
       "\t<tr><th scope=col>&lt;dbl&gt;</th><th scope=col>&lt;dbl&gt;</th><th scope=col>&lt;chr&gt;</th></tr>\n",
       "</thead>\n",
       "<tbody>\n",
       "\t<tr><td>1</td><td>2</td><td>a</td></tr>\n",
       "</tbody>\n",
       "</table>\n"
      ],
      "text/latex": [
       "A data.frame: 1 × 3\n",
       "\\begin{tabular}{lll}\n",
       " a & b & c\\\\\n",
       " <dbl> & <dbl> & <chr>\\\\\n",
       "\\hline\n",
       "\t 1 & 2 & a\\\\\n",
       "\\end{tabular}\n"
      ],
      "text/markdown": [
       "\n",
       "A data.frame: 1 × 3\n",
       "\n",
       "| a &lt;dbl&gt; | b &lt;dbl&gt; | c &lt;chr&gt; |\n",
       "|---|---|---|\n",
       "| 1 | 2 | a |\n",
       "\n"
      ],
      "text/plain": [
       "  a b c\n",
       "1 1 2 a"
      ]
     },
     "metadata": {},
     "output_type": "display_data"
    }
   ],
   "source": [
    "data.frame(a = 1, b = 2, c = \"a\", stringsAsFactors = FALSE)"
   ]
  },
  {
   "cell_type": "code",
   "execution_count": null,
   "id": "cb31f475-2eaf-419d-bfae-44810d86f598",
   "metadata": {},
   "outputs": [],
   "source": []
  },
  {
   "cell_type": "code",
   "execution_count": 11,
   "id": "0bd45757-4916-4d47-9fa7-3c50e44249c1",
   "metadata": {},
   "outputs": [],
   "source": [
    "l1 <- list( a=1, b=2, c='X' )\n",
    "l2 <- list( a=3, b=4, c='Y' )\n",
    "l3 <- list( a=5, b=6, c='Z' )\n",
    "obs <- list(l1, l2, l3)\n",
    "df <- do.call(rbind, Map(as.data.frame, obs))"
   ]
  },
  {
   "cell_type": "code",
   "execution_count": 12,
   "id": "8e397a48-56ff-4dcb-abe7-b940fdf52fc5",
   "metadata": {},
   "outputs": [
    {
     "data": {
      "text/html": [
       "<table class=\"dataframe\">\n",
       "<caption>A data.frame: 3 × 3</caption>\n",
       "<thead>\n",
       "\t<tr><th scope=col>a</th><th scope=col>b</th><th scope=col>c</th></tr>\n",
       "\t<tr><th scope=col>&lt;dbl&gt;</th><th scope=col>&lt;dbl&gt;</th><th scope=col>&lt;chr&gt;</th></tr>\n",
       "</thead>\n",
       "<tbody>\n",
       "\t<tr><td>1</td><td>2</td><td>X</td></tr>\n",
       "\t<tr><td>3</td><td>4</td><td>Y</td></tr>\n",
       "\t<tr><td>5</td><td>6</td><td>Z</td></tr>\n",
       "</tbody>\n",
       "</table>\n"
      ],
      "text/latex": [
       "A data.frame: 3 × 3\n",
       "\\begin{tabular}{lll}\n",
       " a & b & c\\\\\n",
       " <dbl> & <dbl> & <chr>\\\\\n",
       "\\hline\n",
       "\t 1 & 2 & X\\\\\n",
       "\t 3 & 4 & Y\\\\\n",
       "\t 5 & 6 & Z\\\\\n",
       "\\end{tabular}\n"
      ],
      "text/markdown": [
       "\n",
       "A data.frame: 3 × 3\n",
       "\n",
       "| a &lt;dbl&gt; | b &lt;dbl&gt; | c &lt;chr&gt; |\n",
       "|---|---|---|\n",
       "| 1 | 2 | X |\n",
       "| 3 | 4 | Y |\n",
       "| 5 | 6 | Z |\n",
       "\n"
      ],
      "text/plain": [
       "  a b c\n",
       "1 1 2 X\n",
       "2 3 4 Y\n",
       "3 5 6 Z"
      ]
     },
     "metadata": {},
     "output_type": "display_data"
    }
   ],
   "source": [
    "df"
   ]
  },
  {
   "cell_type": "code",
   "execution_count": 13,
   "id": "ed1dd7ce-14d4-4227-bbdd-ffcd3788a046",
   "metadata": {},
   "outputs": [
    {
     "data": {
      "text/html": [
       "<table class=\"dataframe\">\n",
       "<caption>A data.frame: 3 × 3</caption>\n",
       "<thead>\n",
       "\t<tr><th scope=col>a</th><th scope=col>b</th><th scope=col>c</th></tr>\n",
       "\t<tr><th scope=col>&lt;dbl&gt;</th><th scope=col>&lt;dbl&gt;</th><th scope=col>&lt;chr&gt;</th></tr>\n",
       "</thead>\n",
       "<tbody>\n",
       "\t<tr><td>1</td><td>2</td><td>X</td></tr>\n",
       "\t<tr><td>3</td><td>4</td><td>Y</td></tr>\n",
       "\t<tr><td>5</td><td>6</td><td>Z</td></tr>\n",
       "</tbody>\n",
       "</table>\n"
      ],
      "text/latex": [
       "A data.frame: 3 × 3\n",
       "\\begin{tabular}{lll}\n",
       " a & b & c\\\\\n",
       " <dbl> & <dbl> & <chr>\\\\\n",
       "\\hline\n",
       "\t 1 & 2 & X\\\\\n",
       "\t 3 & 4 & Y\\\\\n",
       "\t 5 & 6 & Z\\\\\n",
       "\\end{tabular}\n"
      ],
      "text/markdown": [
       "\n",
       "A data.frame: 3 × 3\n",
       "\n",
       "| a &lt;dbl&gt; | b &lt;dbl&gt; | c &lt;chr&gt; |\n",
       "|---|---|---|\n",
       "| 1 | 2 | X |\n",
       "| 3 | 4 | Y |\n",
       "| 5 | 6 | Z |\n",
       "\n"
      ],
      "text/plain": [
       "  a b c\n",
       "1 1 2 X\n",
       "2 3 4 Y\n",
       "3 5 6 Z"
      ]
     },
     "metadata": {},
     "output_type": "display_data"
    }
   ],
   "source": [
    "i <- sapply(df, is.factor)\n",
    "df[i] <- lapply(df[i], as.character)\n",
    "\n",
    "df"
   ]
  },
  {
   "cell_type": "code",
   "execution_count": null,
   "id": "fb663e45-bccf-4d12-bd67-394c496e104c",
   "metadata": {},
   "outputs": [],
   "source": []
  }
 ],
 "metadata": {
  "kernelspec": {
   "display_name": "R",
   "language": "R",
   "name": "ir"
  },
  "language_info": {
   "codemirror_mode": "r",
   "file_extension": ".r",
   "mimetype": "text/x-r-source",
   "name": "R",
   "pygments_lexer": "r",
   "version": "4.1.0"
  }
 },
 "nbformat": 4,
 "nbformat_minor": 5
}
