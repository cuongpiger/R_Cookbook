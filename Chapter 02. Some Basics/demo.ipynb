{
 "cells": [
  {
   "cell_type": "markdown",
   "id": "e8469c0c-3c9c-4444-b1de-fd8ee5753a45",
   "metadata": {},
   "source": [
    "# 1. Printing something to the screen"
   ]
  },
  {
   "cell_type": "markdown",
   "id": "2d722366-7eb2-49f3-9fca-17b95f470ac1",
   "metadata": {},
   "source": [
    "**/> In ra giá trị $pi$ trong toán học**"
   ]
  },
  {
   "cell_type": "code",
   "execution_count": 1,
   "id": "814746c9-7b30-42ef-a0c9-2ff62e104228",
   "metadata": {},
   "outputs": [
    {
     "data": {
      "text/html": [
       "3.14159265358979"
      ],
      "text/latex": [
       "3.14159265358979"
      ],
      "text/markdown": [
       "3.14159265358979"
      ],
      "text/plain": [
       "[1] 3.141593"
      ]
     },
     "metadata": {},
     "output_type": "display_data"
    }
   ],
   "source": [
    "pi"
   ]
  },
  {
   "cell_type": "markdown",
   "id": "c7d5466a-11f9-49b9-b7f6-d411b98d6cf4",
   "metadata": {},
   "source": [
    "**/> In ra $\\sqrt{2}$**"
   ]
  },
  {
   "cell_type": "code",
   "execution_count": 2,
   "id": "19ac791b-6dc6-4dd3-af76-543e62df0544",
   "metadata": {},
   "outputs": [
    {
     "data": {
      "text/html": [
       "1.4142135623731"
      ],
      "text/latex": [
       "1.4142135623731"
      ],
      "text/markdown": [
       "1.4142135623731"
      ],
      "text/plain": [
       "[1] 1.414214"
      ]
     },
     "metadata": {},
     "output_type": "display_data"
    }
   ],
   "source": [
    "sqrt(2)"
   ]
  },
  {
   "cell_type": "markdown",
   "id": "3b0a3a80-c389-49aa-b9dc-3bfa0a9edd23",
   "metadata": {},
   "source": [
    "**/> Sử dụng hàm `print()`**\n",
    "* Hàm `print()` có một nhược điểm là nó chỉ có thể in ra duy nhất một object tại một thời điểm."
   ]
  },
  {
   "cell_type": "code",
   "execution_count": 4,
   "id": "7b0ad826-ff3c-4d6b-82e7-c1432fe9c574",
   "metadata": {},
   "outputs": [
    {
     "name": "stdout",
     "output_type": "stream",
     "text": [
      "[1] 3.141593\n"
     ]
    }
   ],
   "source": [
    "print(pi)"
   ]
  },
  {
   "cell_type": "code",
   "execution_count": 5,
   "id": "d00cccb0-d7de-4a74-8314-1da6b77f4d63",
   "metadata": {},
   "outputs": [
    {
     "name": "stdout",
     "output_type": "stream",
     "text": [
      "[1] 1.414214\n"
     ]
    }
   ],
   "source": [
    "print(sqrt(2))"
   ]
  },
  {
   "cell_type": "code",
   "execution_count": 6,
   "id": "2c215ff5-7ff9-42de-8876-f8b197258d0c",
   "metadata": {},
   "outputs": [
    {
     "name": "stdout",
     "output_type": "stream",
     "text": [
      "     [,1] [,2]\n",
      "[1,]    1    3\n",
      "[2,]    2    4\n"
     ]
    }
   ],
   "source": [
    "print(matrix(c(1, 2, 3, 4), 2, 2))"
   ]
  },
  {
   "cell_type": "code",
   "execution_count": 8,
   "id": "8ecbc464-8daa-4e46-ad9c-ac5240bf15ac",
   "metadata": {},
   "outputs": [
    {
     "name": "stdout",
     "output_type": "stream",
     "text": [
      "[[1]]\n",
      "[1] \"a\"\n",
      "\n",
      "[[2]]\n",
      "[1] \"b\"\n",
      "\n",
      "[[3]]\n",
      "[1] \"c\"\n",
      "\n"
     ]
    }
   ],
   "source": [
    "print(list(\"a\", \"b\", \"c\"))"
   ]
  },
  {
   "cell_type": "markdown",
   "id": "c45e3533-6da0-493f-9538-4ce3f6c80f98",
   "metadata": {},
   "source": [
    "* Để có thể in ra cùng lúc nhiều object tại cùng một thời điểm, thì thay vì hàm `print()` ta sử dụng hàm `cat()`.\n",
    "* Lưu ý thứ hai là hàm `cat()` ko tự động bỏ kí tự `\\n` vào cuối dòng."
   ]
  },
  {
   "cell_type": "code",
   "execution_count": 12,
   "id": "5042bd32-0670-4be1-8c19-0a13efb2b52e",
   "metadata": {},
   "outputs": [
    {
     "name": "stdout",
     "output_type": "stream",
     "text": [
      "Dương Mạnh Cường 22 tuổi, chiều cao là 1.68 mét.\n"
     ]
    }
   ],
   "source": [
    "cat(\"Dương Mạnh Cường\", 22, \"tuổi, chiều cao là\", 1.68, \"mét.\\n\")"
   ]
  },
  {
   "cell_type": "code",
   "execution_count": 14,
   "id": "cf353158-4daa-4b4e-9996-fb005966c86b",
   "metadata": {},
   "outputs": [
    {
     "name": "stdout",
     "output_type": "stream",
     "text": [
      "Một vài giá trị Fibonacci đầu tiên là: 0 1 1 2 3 5 8 13 21 34 ...\n"
     ]
    }
   ],
   "source": [
    "fib = c(0, 1, 1, 2, 3, 5, 8, 13, 21, 34)\n",
    "cat(\"Một vài giá trị Fibonacci đầu tiên là:\", fib, \"...\\n\")"
   ]
  },
  {
   "cell_type": "markdown",
   "id": "e85fd5e7-d89c-49b8-93ea-38b6509f91d1",
   "metadata": {},
   "source": [
    "* Hàm `cat()` sẽ tự động bỏ kí tự **khoảng trắng** vào giữa các object dc truyền vào.\n",
    "* Có thể lợi dùng điều này với vector, tuy nhiên ko sử dụng dc với `list()`."
   ]
  },
  {
   "cell_type": "code",
   "execution_count": 15,
   "id": "73b6b893-4419-45ad-8f42-1d14a4351301",
   "metadata": {},
   "outputs": [
    {
     "name": "stdout",
     "output_type": "stream",
     "text": [
      "1 2 3"
     ]
    }
   ],
   "source": [
    "cat(c(1, 2, 3))"
   ]
  },
  {
   "cell_type": "markdown",
   "id": "e9a0b0b5-6a32-4e02-8f0b-758ba9635893",
   "metadata": {},
   "source": [
    "# 2. Setting variables"
   ]
  },
  {
   "cell_type": "code",
   "execution_count": 18,
   "id": "883e956e-0a58-46a3-8685-462f736551cd",
   "metadata": {},
   "outputs": [
    {
     "name": "stdout",
     "output_type": "stream",
     "text": [
      "[1] 5\n"
     ]
    }
   ],
   "source": [
    "x = 3\n",
    "y = 4\n",
    "z = sqrt(x^2 + y^2)\n",
    "\n",
    "print(z)"
   ]
  },
  {
   "cell_type": "markdown",
   "id": "1bbc1825-6570-450a-9fb5-4d24da5a1c36",
   "metadata": {},
   "source": [
    "**/> R là ngôn ngữ dynamically typed language giống với Python**"
   ]
  },
  {
   "cell_type": "code",
   "execution_count": 20,
   "id": "01ca05b7-905c-44a9-ae66-877030b46a19",
   "metadata": {},
   "outputs": [
    {
     "name": "stdout",
     "output_type": "stream",
     "text": [
      "[1] 3\n",
      "[1] \"one\"   \"two\"   \"three\"\n"
     ]
    }
   ],
   "source": [
    "x = 3\n",
    "print(x)\n",
    "\n",
    "x = c(\"one\", \"two\", \"three\")\n",
    "print(x)"
   ]
  },
  {
   "cell_type": "markdown",
   "id": "b33ccd90-dd8d-45e3-bf19-9717fb8987b2",
   "metadata": {},
   "source": [
    "# 3. Listing variables"
   ]
  },
  {
   "cell_type": "markdown",
   "id": "9b6e93be-eedf-4448-a12a-fccc002deb0d",
   "metadata": {},
   "source": [
    "**/> Hàm `ls()` dùng để liệt kê tất cả các biến mà ta đã khai báo**"
   ]
  },
  {
   "cell_type": "code",
   "execution_count": 22,
   "id": "782d3f24-fa4c-43fe-b96d-3a007eaac63c",
   "metadata": {},
   "outputs": [],
   "source": [
    "x = 10\n",
    "y = 50\n",
    "z = c(\"nose\", \"lip\", \"ear\")\n",
    "\n",
    "f = function(n, p) sqrt(p * (1 - p) / n)"
   ]
  },
  {
   "cell_type": "code",
   "execution_count": 23,
   "id": "843e0064-1bca-4e7f-bd2f-c3c3e364e554",
   "metadata": {},
   "outputs": [
    {
     "data": {
      "text/html": [
       "<style>\n",
       ".list-inline {list-style: none; margin:0; padding: 0}\n",
       ".list-inline>li {display: inline-block}\n",
       ".list-inline>li:not(:last-child)::after {content: \"\\00b7\"; padding: 0 .5ex}\n",
       "</style>\n",
       "<ol class=list-inline><li>'f'</li><li>'fib'</li><li>'x'</li><li>'y'</li><li>'z'</li></ol>\n"
      ],
      "text/latex": [
       "\\begin{enumerate*}\n",
       "\\item 'f'\n",
       "\\item 'fib'\n",
       "\\item 'x'\n",
       "\\item 'y'\n",
       "\\item 'z'\n",
       "\\end{enumerate*}\n"
      ],
      "text/markdown": [
       "1. 'f'\n",
       "2. 'fib'\n",
       "3. 'x'\n",
       "4. 'y'\n",
       "5. 'z'\n",
       "\n",
       "\n"
      ],
      "text/plain": [
       "[1] \"f\"   \"fib\" \"x\"   \"y\"   \"z\"  "
      ]
     },
     "metadata": {},
     "output_type": "display_data"
    }
   ],
   "source": [
    "ls()"
   ]
  },
  {
   "cell_type": "code",
   "execution_count": 24,
   "id": "a7b092f0-9857-429d-a39b-41696202b093",
   "metadata": {},
   "outputs": [
    {
     "data": {
      "text/plain": [
       "f : function (n, p)  \n",
       "fib :  num [1:10] 0 1 1 2 3 5 8 13 21 34\n",
       "x :  num 10\n",
       "y :  num 50\n",
       "z :  chr [1:3] \"nose\" \"lip\" \"ear\""
      ]
     },
     "metadata": {},
     "output_type": "display_data"
    }
   ],
   "source": [
    "ls.str()"
   ]
  },
  {
   "cell_type": "markdown",
   "id": "9af4bb95-cbf2-4b8c-8d37-8356c9d9dda8",
   "metadata": {},
   "source": [
    "**/> Hàm `ls()` mặc định sẽ ko list ra những biến bắt đầu bằng dấu chấm, thì nó mặc định đây là các biến ẩn, dưới đây là cách khắc phục**"
   ]
  },
  {
   "cell_type": "code",
   "execution_count": 26,
   "id": "36acb9f2-61d6-47fa-8c1d-31bc7b7bd61c",
   "metadata": {},
   "outputs": [
    {
     "data": {
      "text/html": [
       "<style>\n",
       ".list-inline {list-style: none; margin:0; padding: 0}\n",
       ".list-inline>li {display: inline-block}\n",
       ".list-inline>li:not(:last-child)::after {content: \"\\00b7\"; padding: 0 .5ex}\n",
       "</style>\n",
       "<ol class=list-inline><li>'.pbd_env'</li><li>'f'</li><li>'fib'</li><li>'x'</li><li>'y'</li><li>'z'</li></ol>\n"
      ],
      "text/latex": [
       "\\begin{enumerate*}\n",
       "\\item '.pbd\\_env'\n",
       "\\item 'f'\n",
       "\\item 'fib'\n",
       "\\item 'x'\n",
       "\\item 'y'\n",
       "\\item 'z'\n",
       "\\end{enumerate*}\n"
      ],
      "text/markdown": [
       "1. '.pbd_env'\n",
       "2. 'f'\n",
       "3. 'fib'\n",
       "4. 'x'\n",
       "5. 'y'\n",
       "6. 'z'\n",
       "\n",
       "\n"
      ],
      "text/plain": [
       "[1] \".pbd_env\" \"f\"        \"fib\"      \"x\"        \"y\"        \"z\"       "
      ]
     },
     "metadata": {},
     "output_type": "display_data"
    }
   ],
   "source": [
    "ls(all.names=TRUE)"
   ]
  },
  {
   "cell_type": "markdown",
   "id": "ab612a77-5683-476e-902d-09bf13a13208",
   "metadata": {},
   "source": [
    "# 4. Deleting variables"
   ]
  },
  {
   "cell_type": "code",
   "execution_count": 27,
   "id": "6640ee02-5ee6-4f98-a4bf-0077177cf1e4",
   "metadata": {},
   "outputs": [
    {
     "data": {
      "text/html": [
       "6.28318530717959"
      ],
      "text/latex": [
       "6.28318530717959"
      ],
      "text/markdown": [
       "6.28318530717959"
      ],
      "text/plain": [
       "[1] 6.283185"
      ]
     },
     "metadata": {},
     "output_type": "display_data"
    }
   ],
   "source": [
    "x = 2 * pi\n",
    "\n",
    "x"
   ]
  },
  {
   "cell_type": "code",
   "execution_count": 28,
   "id": "4265b7b3-0bf8-48f6-a610-4b746fb78498",
   "metadata": {},
   "outputs": [],
   "source": [
    "rm(x)"
   ]
  },
  {
   "cell_type": "code",
   "execution_count": 29,
   "id": "eafd6cfe-6872-4764-8542-32f1fa6bcb17",
   "metadata": {},
   "outputs": [
    {
     "ename": "ERROR",
     "evalue": "Error in eval(expr, envir, enclos): object 'x' not found\n",
     "output_type": "error",
     "traceback": [
      "Error in eval(expr, envir, enclos): object 'x' not found\nTraceback:\n"
     ]
    }
   ],
   "source": [
    "x"
   ]
  },
  {
   "cell_type": "markdown",
   "id": "748bc5fd-df18-4657-b974-8030ddfd7a73",
   "metadata": {},
   "source": [
    "> * Biến `x` đã bị xóa nên khi này nếu gọi nó sẽ nhận lỗi."
   ]
  },
  {
   "cell_type": "markdown",
   "id": "047dc667-9c0e-4881-acdb-fb9c3f7e751e",
   "metadata": {},
   "source": [
    "**/> Có thể remove cùng lúc nhiều object**"
   ]
  },
  {
   "cell_type": "code",
   "execution_count": 31,
   "id": "3a9dbeb4-8628-42c1-9901-627580b58e85",
   "metadata": {},
   "outputs": [],
   "source": [
    "x = 10\n",
    "y = \"Cường\"\n",
    "z = TRUE\n",
    "\n",
    "rm(x, y, z)"
   ]
  },
  {
   "cell_type": "markdown",
   "id": "a95bf253-a334-443e-b43c-8e16e5643cb0",
   "metadata": {},
   "source": [
    "**/> Ngoài ra, để xóa toàn bộ object mà ta đã khai báo thì dùng dòng dưới đây**"
   ]
  },
  {
   "cell_type": "code",
   "execution_count": 32,
   "id": "011e81d5-4b28-4f17-a417-ed865f1f0fc6",
   "metadata": {},
   "outputs": [],
   "source": [
    "rm(list=ls())"
   ]
  },
  {
   "cell_type": "code",
   "execution_count": 33,
   "id": "22a1b843-7380-426d-a441-54980cbd56c3",
   "metadata": {},
   "outputs": [
    {
     "data": {
      "text/html": [],
      "text/latex": [],
      "text/markdown": [],
      "text/plain": [
       "character(0)"
      ]
     },
     "metadata": {},
     "output_type": "display_data"
    }
   ],
   "source": [
    "ls()"
   ]
  },
  {
   "cell_type": "markdown",
   "id": "241509fb-38e1-4633-b3a8-9b3d8fcd1cdd",
   "metadata": {},
   "source": [
    "# 5. Creating a vector\n",
    "* Vector là thành phần trung tâm của R.\n",
    "* Một vector có thể chứa số, chuổi, giá trị boolean nhưng ko thể chứa hổn hợp."
   ]
  },
  {
   "cell_type": "code",
   "execution_count": 34,
   "id": "9cf8d15c-fe47-4330-8ad9-3c2302cc985f",
   "metadata": {},
   "outputs": [
    {
     "data": {
      "text/html": [
       "<style>\n",
       ".list-inline {list-style: none; margin:0; padding: 0}\n",
       ".list-inline>li {display: inline-block}\n",
       ".list-inline>li:not(:last-child)::after {content: \"\\00b7\"; padding: 0 .5ex}\n",
       "</style>\n",
       "<ol class=list-inline><li>1</li><li>2</li><li>3</li><li>4</li></ol>\n"
      ],
      "text/latex": [
       "\\begin{enumerate*}\n",
       "\\item 1\n",
       "\\item 2\n",
       "\\item 3\n",
       "\\item 4\n",
       "\\end{enumerate*}\n"
      ],
      "text/markdown": [
       "1. 1\n",
       "2. 2\n",
       "3. 3\n",
       "4. 4\n",
       "\n",
       "\n"
      ],
      "text/plain": [
       "[1] 1 2 3 4"
      ]
     },
     "metadata": {},
     "output_type": "display_data"
    }
   ],
   "source": [
    "c(1, 2, 3, 4)"
   ]
  },
  {
   "cell_type": "code",
   "execution_count": 35,
   "id": "6a50d235-f753-4f3c-a3a2-038acb099f40",
   "metadata": {},
   "outputs": [
    {
     "data": {
      "text/html": [
       "<style>\n",
       ".list-inline {list-style: none; margin:0; padding: 0}\n",
       ".list-inline>li {display: inline-block}\n",
       ".list-inline>li:not(:last-child)::after {content: \"\\00b7\"; padding: 0 .5ex}\n",
       "</style>\n",
       "<ol class=list-inline><li>3.14159265358979</li><li>6.28318530717959</li><li>9.42477796076938</li></ol>\n"
      ],
      "text/latex": [
       "\\begin{enumerate*}\n",
       "\\item 3.14159265358979\n",
       "\\item 6.28318530717959\n",
       "\\item 9.42477796076938\n",
       "\\end{enumerate*}\n"
      ],
      "text/markdown": [
       "1. 3.14159265358979\n",
       "2. 6.28318530717959\n",
       "3. 9.42477796076938\n",
       "\n",
       "\n"
      ],
      "text/plain": [
       "[1] 3.141593 6.283185 9.424778"
      ]
     },
     "metadata": {},
     "output_type": "display_data"
    }
   ],
   "source": [
    "c(1*pi, 2*pi, 3*pi)"
   ]
  },
  {
   "cell_type": "code",
   "execution_count": 36,
   "id": "1f501c02-8342-4c38-abe2-fb6a9b0b8460",
   "metadata": {},
   "outputs": [
    {
     "data": {
      "text/html": [
       "<style>\n",
       ".list-inline {list-style: none; margin:0; padding: 0}\n",
       ".list-inline>li {display: inline-block}\n",
       ".list-inline>li:not(:last-child)::after {content: \"\\00b7\"; padding: 0 .5ex}\n",
       "</style>\n",
       "<ol class=list-inline><li>'Dương'</li><li>'Mạnh'</li><li>'Cường'</li></ol>\n"
      ],
      "text/latex": [
       "\\begin{enumerate*}\n",
       "\\item 'Dương'\n",
       "\\item 'Mạnh'\n",
       "\\item 'Cường'\n",
       "\\end{enumerate*}\n"
      ],
      "text/markdown": [
       "1. 'Dương'\n",
       "2. 'Mạnh'\n",
       "3. 'Cường'\n",
       "\n",
       "\n"
      ],
      "text/plain": [
       "[1] \"Dương\" \"Mạnh\"  \"Cường\""
      ]
     },
     "metadata": {},
     "output_type": "display_data"
    }
   ],
   "source": [
    "c(\"Dương\", \"Mạnh\", \"Cường\")"
   ]
  },
  {
   "cell_type": "code",
   "execution_count": 37,
   "id": "ba864715-8f9d-481a-9728-415a9a1ed0c3",
   "metadata": {},
   "outputs": [
    {
     "data": {
      "text/html": [
       "<style>\n",
       ".list-inline {list-style: none; margin:0; padding: 0}\n",
       ".list-inline>li {display: inline-block}\n",
       ".list-inline>li:not(:last-child)::after {content: \"\\00b7\"; padding: 0 .5ex}\n",
       "</style>\n",
       "<ol class=list-inline><li>TRUE</li><li>FALSE</li><li>TRUE</li><li>TRUE</li><li>FALSE</li></ol>\n"
      ],
      "text/latex": [
       "\\begin{enumerate*}\n",
       "\\item TRUE\n",
       "\\item FALSE\n",
       "\\item TRUE\n",
       "\\item TRUE\n",
       "\\item FALSE\n",
       "\\end{enumerate*}\n"
      ],
      "text/markdown": [
       "1. TRUE\n",
       "2. FALSE\n",
       "3. TRUE\n",
       "4. TRUE\n",
       "5. FALSE\n",
       "\n",
       "\n"
      ],
      "text/plain": [
       "[1]  TRUE FALSE  TRUE  TRUE FALSE"
      ]
     },
     "metadata": {},
     "output_type": "display_data"
    }
   ],
   "source": [
    "c(TRUE, FALSE, TRUE, TRUE, FALSE)"
   ]
  },
  {
   "cell_type": "markdown",
   "id": "e8540365-2864-4f27-b4b9-d997f7bbb6c0",
   "metadata": {},
   "source": [
    "* Nếu các đối số đưa vào hàm `c()` là các vector khác, thì nó sẽ làm phẳng chúng rồi kết hợp tạo thành một vector duy nhất."
   ]
  },
  {
   "cell_type": "code",
   "execution_count": 39,
   "id": "a447c706-3a64-4984-8def-9a6b33d9b530",
   "metadata": {},
   "outputs": [
    {
     "data": {
      "text/html": [
       "<style>\n",
       ".list-inline {list-style: none; margin:0; padding: 0}\n",
       ".list-inline>li {display: inline-block}\n",
       ".list-inline>li:not(:last-child)::after {content: \"\\00b7\"; padding: 0 .5ex}\n",
       "</style>\n",
       "<ol class=list-inline><li>1</li><li>2</li><li>3</li><li>4</li><li>5</li><li>6</li></ol>\n"
      ],
      "text/latex": [
       "\\begin{enumerate*}\n",
       "\\item 1\n",
       "\\item 2\n",
       "\\item 3\n",
       "\\item 4\n",
       "\\item 5\n",
       "\\item 6\n",
       "\\end{enumerate*}\n"
      ],
      "text/markdown": [
       "1. 1\n",
       "2. 2\n",
       "3. 3\n",
       "4. 4\n",
       "5. 5\n",
       "6. 6\n",
       "\n",
       "\n"
      ],
      "text/plain": [
       "[1] 1 2 3 4 5 6"
      ]
     },
     "metadata": {},
     "output_type": "display_data"
    }
   ],
   "source": [
    "v1 = c(1, 2, 3)\n",
    "v2 = c(4:6)\n",
    "\n",
    "c(v1, v2)"
   ]
  },
  {
   "cell_type": "markdown",
   "id": "fc910b3f-cbe4-4170-8724-32bc5176ce62",
   "metadata": {},
   "source": [
    "* Nếu có một đối số bất kì có type là `character` thì mặc định toàn bộ vector đó là `character`"
   ]
  },
  {
   "cell_type": "code",
   "execution_count": 40,
   "id": "1bd5cc15-25c1-45a8-9034-dab6487316d1",
   "metadata": {},
   "outputs": [
    {
     "data": {
      "text/html": [
       "<style>\n",
       ".list-inline {list-style: none; margin:0; padding: 0}\n",
       ".list-inline>li {display: inline-block}\n",
       ".list-inline>li:not(:last-child)::after {content: \"\\00b7\"; padding: 0 .5ex}\n",
       "</style>\n",
       "<ol class=list-inline><li>'1'</li><li>'2'</li><li>'3'</li><li>'Mạnh'</li><li>'Cường'</li></ol>\n"
      ],
      "text/latex": [
       "\\begin{enumerate*}\n",
       "\\item '1'\n",
       "\\item '2'\n",
       "\\item '3'\n",
       "\\item 'Mạnh'\n",
       "\\item 'Cường'\n",
       "\\end{enumerate*}\n"
      ],
      "text/markdown": [
       "1. '1'\n",
       "2. '2'\n",
       "3. '3'\n",
       "4. 'Mạnh'\n",
       "5. 'Cường'\n",
       "\n",
       "\n"
      ],
      "text/plain": [
       "[1] \"1\"     \"2\"     \"3\"     \"Mạnh\"  \"Cường\""
      ]
     },
     "metadata": {},
     "output_type": "display_data"
    }
   ],
   "source": [
    "v1 = c(1:3)\n",
    "v2 = c(\"Mạnh\", \"Cường\")\n",
    "\n",
    "c(v1, v2)"
   ]
  },
  {
   "cell_type": "markdown",
   "id": "c51e60b3-7a99-48b8-89dc-b134d42e3b19",
   "metadata": {},
   "source": [
    "* Để kiếm tra kiểu dữ liệu của một object, dùng hàm `mode()`"
   ]
  },
  {
   "cell_type": "code",
   "execution_count": 41,
   "id": "d62971d5-52b7-4a60-a087-8cd3f83577a3",
   "metadata": {},
   "outputs": [
    {
     "data": {
      "text/html": [
       "'numeric'"
      ],
      "text/latex": [
       "'numeric'"
      ],
      "text/markdown": [
       "'numeric'"
      ],
      "text/plain": [
       "[1] \"numeric\""
      ]
     },
     "metadata": {},
     "output_type": "display_data"
    }
   ],
   "source": [
    "mode(3.14)"
   ]
  },
  {
   "cell_type": "code",
   "execution_count": 42,
   "id": "66bd9a01-3baf-4489-a88d-45673f3c273b",
   "metadata": {},
   "outputs": [
    {
     "data": {
      "text/html": [
       "'character'"
      ],
      "text/latex": [
       "'character'"
      ],
      "text/markdown": [
       "'character'"
      ],
      "text/plain": [
       "[1] \"character\""
      ]
     },
     "metadata": {},
     "output_type": "display_data"
    }
   ],
   "source": [
    "mode(\"Dương Mạnh Cường\")"
   ]
  },
  {
   "cell_type": "code",
   "execution_count": 43,
   "id": "1778fbd0-8d53-48df-b7c1-d0a5ab4c8ee1",
   "metadata": {},
   "outputs": [
    {
     "data": {
      "text/html": [
       "'character'"
      ],
      "text/latex": [
       "'character'"
      ],
      "text/markdown": [
       "'character'"
      ],
      "text/plain": [
       "[1] \"character\""
      ]
     },
     "metadata": {},
     "output_type": "display_data"
    }
   ],
   "source": [
    "mode(c(22, \"Dương Mạnh Cường\"))"
   ]
  },
  {
   "cell_type": "markdown",
   "id": "5e1956c7-2d3e-421a-96b5-fedc0462652c",
   "metadata": {},
   "source": [
    "# 6. Computing basic statistics\n",
    "* Có một vài hàm thông dụng dc sử dụng trong thống kê dc R xây dựng sẵn là:<br>\n",
    "  ![](images/02_00.png)\n"
   ]
  },
  {
   "cell_type": "code",
   "execution_count": 45,
   "id": "2f3d9181-d53c-4045-8ead-0b3b5d37b059",
   "metadata": {},
   "outputs": [
    {
     "data": {
      "text/html": [
       "8.8"
      ],
      "text/latex": [
       "8.8"
      ],
      "text/markdown": [
       "8.8"
      ],
      "text/plain": [
       "[1] 8.8"
      ]
     },
     "metadata": {},
     "output_type": "display_data"
    }
   ],
   "source": [
    "x = c(0, 1, 1, 2, 3, 5, 8, 13, 21, 34)\n",
    "mean(x)"
   ]
  },
  {
   "cell_type": "code",
   "execution_count": 46,
   "id": "d4d85e22-cb79-475b-91cd-1a67fb3c9f97",
   "metadata": {},
   "outputs": [
    {
     "data": {
      "text/html": [
       "4"
      ],
      "text/latex": [
       "4"
      ],
      "text/markdown": [
       "4"
      ],
      "text/plain": [
       "[1] 4"
      ]
     },
     "metadata": {},
     "output_type": "display_data"
    }
   ],
   "source": [
    "median(x)"
   ]
  },
  {
   "cell_type": "code",
   "execution_count": 48,
   "id": "7c1df0de-6196-47b5-b037-e17dd3336297",
   "metadata": {},
   "outputs": [
    {
     "data": {
      "text/html": [
       "121.733333333333"
      ],
      "text/latex": [
       "121.733333333333"
      ],
      "text/markdown": [
       "121.733333333333"
      ],
      "text/plain": [
       "[1] 121.7333"
      ]
     },
     "metadata": {},
     "output_type": "display_data"
    }
   ],
   "source": [
    "var(x)"
   ]
  },
  {
   "cell_type": "code",
   "execution_count": 51,
   "id": "b025e9f1-5444-4861-abd7-dadf98c5bf4e",
   "metadata": {},
   "outputs": [
    {
     "data": {
      "text/html": [
       "11.0332829807512"
      ],
      "text/latex": [
       "11.0332829807512"
      ],
      "text/markdown": [
       "11.0332829807512"
      ],
      "text/plain": [
       "[1] 11.03328"
      ]
     },
     "metadata": {},
     "output_type": "display_data"
    },
    {
     "data": {
      "text/html": [
       "11.0332829807512"
      ],
      "text/latex": [
       "11.0332829807512"
      ],
      "text/markdown": [
       "11.0332829807512"
      ],
      "text/plain": [
       "[1] 11.03328"
      ]
     },
     "metadata": {},
     "output_type": "display_data"
    }
   ],
   "source": [
    "sd(x)\n",
    "sqrt(var(x))"
   ]
  },
  {
   "cell_type": "code",
   "execution_count": null,
   "id": "d7f62c63-43e9-4b33-ae55-4d0274427d13",
   "metadata": {},
   "outputs": [],
   "source": []
  }
 ],
 "metadata": {
  "kernelspec": {
   "display_name": "R",
   "language": "R",
   "name": "ir"
  },
  "language_info": {
   "codemirror_mode": "r",
   "file_extension": ".r",
   "mimetype": "text/x-r-source",
   "name": "R",
   "pygments_lexer": "r",
   "version": "4.1.0"
  }
 },
 "nbformat": 4,
 "nbformat_minor": 5
}
