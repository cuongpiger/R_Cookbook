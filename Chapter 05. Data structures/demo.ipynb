{
 "cells": [
  {
   "cell_type": "markdown",
   "id": "40c09b80-8f4f-46ef-b1ce-f86bb7e98209",
   "metadata": {},
   "source": [
    "# 1. Appending Data to a Vector"
   ]
  },
  {
   "cell_type": "code",
   "execution_count": 2,
   "id": "39a75486-4daf-4b68-b8b1-04bca2ccc1e7",
   "metadata": {},
   "outputs": [
    {
     "name": "stdout",
     "output_type": "stream",
     "text": [
      "Naruto Sasuke Sakura \n",
      "    10     20     30 \n"
     ]
    }
   ],
   "source": [
    "v = c(10, 20, 30)\n",
    "names(v) = c('Naruto', 'Sasuke', 'Sakura')\n",
    "\n",
    "print(v)"
   ]
  },
  {
   "cell_type": "code",
   "execution_count": 3,
   "id": "a8c20f24-f4ae-4ce3-ad5e-27c91df7eeaf",
   "metadata": {},
   "outputs": [
    {
     "data": {
      "text/html": [
       "20"
      ],
      "text/latex": [
       "20"
      ],
      "text/markdown": [
       "20"
      ],
      "text/plain": [
       "[1] 20"
      ]
     },
     "metadata": {},
     "output_type": "display_data"
    }
   ],
   "source": [
    "v[['Sasuke']]"
   ]
  },
  {
   "cell_type": "code",
   "execution_count": 4,
   "id": "5ac2c102-5be1-4e0d-8951-29744a1e0084",
   "metadata": {},
   "outputs": [
    {
     "data": {
      "text/html": [
       "<strong>Naruto:</strong> 10"
      ],
      "text/latex": [
       "\\textbf{Naruto:} 10"
      ],
      "text/markdown": [
       "**Naruto:** 10"
      ],
      "text/plain": [
       "Naruto \n",
       "    10 "
      ]
     },
     "metadata": {},
     "output_type": "display_data"
    }
   ],
   "source": [
    "v['Naruto']"
   ]
  },
  {
   "cell_type": "markdown",
   "id": "e3bc40e8-e4e2-4a5a-a968-38962dd7d4b4",
   "metadata": {},
   "source": [
    "* Nối 2 vector lại với nhau"
   ]
  },
  {
   "cell_type": "code",
   "execution_count": 7,
   "id": "49c1ccf6-91a9-41ae-a4e7-a88cd0c76e6f",
   "metadata": {},
   "outputs": [
    {
     "name": "stdout",
     "output_type": "stream",
     "text": [
      "1 2 3 6 7 8"
     ]
    }
   ],
   "source": [
    "v = c(1, 2, 3)\n",
    "new_items = c(6, 7, 8)\n",
    "new_vector = c(v, new_items)\n",
    "\n",
    "cat(new_vector)"
   ]
  },
  {
   "cell_type": "markdown",
   "id": "e1323b41-b6e3-4582-9a48-09a00fa00d4d",
   "metadata": {},
   "source": [
    "* Thêm một phần tử vào vector"
   ]
  },
  {
   "cell_type": "code",
   "execution_count": 9,
   "id": "66e4dd48-1090-45bb-a1cf-6d9ba29e3327",
   "metadata": {},
   "outputs": [
    {
     "name": "stdout",
     "output_type": "stream",
     "text": [
      "1 2 3 42"
     ]
    }
   ],
   "source": [
    "v = c(1, 2, 3)\n",
    "v[length(v) + 1] = 42\n",
    "\n",
    "cat(v)"
   ]
  },
  {
   "cell_type": "markdown",
   "id": "f20edd98-6602-4f49-b269-4a745785e247",
   "metadata": {},
   "source": [
    "* Tuy nhiên, theo nhiều thử nghiệm, để thêm phần tử vào vector thì cách dưới đây work nhanh nhất"
   ]
  },
  {
   "cell_type": "code",
   "execution_count": 10,
   "id": "0b63a324-3192-43c7-81e9-d32510bdbdd8",
   "metadata": {},
   "outputs": [
    {
     "name": "stdout",
     "output_type": "stream",
     "text": [
      "1 2 3 4"
     ]
    }
   ],
   "source": [
    "v = c(1, 2, 3)\n",
    "v = c(v, 4)\n",
    "\n",
    "cat(v)"
   ]
  },
  {
   "cell_type": "code",
   "execution_count": 11,
   "id": "d1e07ccb-152b-402a-843c-cb60cd2724cf",
   "metadata": {},
   "outputs": [
    {
     "name": "stdout",
     "output_type": "stream",
     "text": [
      "1 2 3 4 5 6 7 8"
     ]
    }
   ],
   "source": [
    "w = c(5, 6, 7, 8)\n",
    "v = c(v, w)\n",
    "\n",
    "cat(v)"
   ]
  },
  {
   "cell_type": "markdown",
   "id": "7b89cbaf-91f1-4ff9-8e81-16d92eccf80f",
   "metadata": {},
   "source": [
    "* Có thể thay đổi giá trị tại một index chỉ định trong vector"
   ]
  },
  {
   "cell_type": "code",
   "execution_count": 12,
   "id": "27310884-1d20-4488-813f-ca6fbcb3f025",
   "metadata": {},
   "outputs": [
    {
     "data": {
      "text/html": [
       "<style>\n",
       ".list-inline {list-style: none; margin:0; padding: 0}\n",
       ".list-inline>li {display: inline-block}\n",
       ".list-inline>li:not(:last-child)::after {content: \"\\00b7\"; padding: 0 .5ex}\n",
       "</style>\n",
       "<ol class=list-inline><li>10</li><li>2</li><li>3</li></ol>\n"
      ],
      "text/latex": [
       "\\begin{enumerate*}\n",
       "\\item 10\n",
       "\\item 2\n",
       "\\item 3\n",
       "\\end{enumerate*}\n"
      ],
      "text/markdown": [
       "1. 10\n",
       "2. 2\n",
       "3. 3\n",
       "\n",
       "\n"
      ],
      "text/plain": [
       "[1] 10  2  3"
      ]
     },
     "metadata": {},
     "output_type": "display_data"
    }
   ],
   "source": [
    "v = c(1, 2, 3)\n",
    "v[1] = 10\n",
    "\n",
    "v"
   ]
  },
  {
   "cell_type": "code",
   "execution_count": 13,
   "id": "97e3e944-933e-4d09-a1ba-e5971d8df375",
   "metadata": {},
   "outputs": [
    {
     "data": {
      "text/html": [
       "<style>\n",
       ".list-inline {list-style: none; margin:0; padding: 0}\n",
       ".list-inline>li {display: inline-block}\n",
       ".list-inline>li:not(:last-child)::after {content: \"\\00b7\"; padding: 0 .5ex}\n",
       "</style>\n",
       "<ol class=list-inline><li>10</li><li>2</li><li>3</li><li>&lt;NA&gt;</li><li>&lt;NA&gt;</li><li>&lt;NA&gt;</li><li>&lt;NA&gt;</li><li>&lt;NA&gt;</li><li>&lt;NA&gt;</li><li>9</li></ol>\n"
      ],
      "text/latex": [
       "\\begin{enumerate*}\n",
       "\\item 10\n",
       "\\item 2\n",
       "\\item 3\n",
       "\\item <NA>\n",
       "\\item <NA>\n",
       "\\item <NA>\n",
       "\\item <NA>\n",
       "\\item <NA>\n",
       "\\item <NA>\n",
       "\\item 9\n",
       "\\end{enumerate*}\n"
      ],
      "text/markdown": [
       "1. 10\n",
       "2. 2\n",
       "3. 3\n",
       "4. &lt;NA&gt;\n",
       "5. &lt;NA&gt;\n",
       "6. &lt;NA&gt;\n",
       "7. &lt;NA&gt;\n",
       "8. &lt;NA&gt;\n",
       "9. &lt;NA&gt;\n",
       "10. 9\n",
       "\n",
       "\n"
      ],
      "text/plain": [
       " [1] 10  2  3 NA NA NA NA NA NA  9"
      ]
     },
     "metadata": {},
     "output_type": "display_data"
    }
   ],
   "source": [
    "v[10] = 9\n",
    "v"
   ]
  },
  {
   "cell_type": "markdown",
   "id": "160dc6c3-8e0e-4e42-9ef3-cb4451ebbee7",
   "metadata": {},
   "source": [
    "# 2. Inserting data into a vector\n",
    "* Sử dụng hàm `append(<vector>, <giá trị thêm vào>, after=<thêm sau index nào>)`"
   ]
  },
  {
   "cell_type": "code",
   "execution_count": 14,
   "id": "4cb2485c-cc45-4eb0-84d3-c393c1dc677b",
   "metadata": {},
   "outputs": [
    {
     "data": {
      "text/html": [
       "<style>\n",
       ".list-inline {list-style: none; margin:0; padding: 0}\n",
       ".list-inline>li {display: inline-block}\n",
       ".list-inline>li:not(:last-child)::after {content: \"\\00b7\"; padding: 0 .5ex}\n",
       "</style>\n",
       "<ol class=list-inline><li>1</li><li>2</li><li>3</li><li>4</li><li>5</li><li>99</li><li>6</li><li>7</li><li>8</li><li>9</li><li>10</li></ol>\n"
      ],
      "text/latex": [
       "\\begin{enumerate*}\n",
       "\\item 1\n",
       "\\item 2\n",
       "\\item 3\n",
       "\\item 4\n",
       "\\item 5\n",
       "\\item 99\n",
       "\\item 6\n",
       "\\item 7\n",
       "\\item 8\n",
       "\\item 9\n",
       "\\item 10\n",
       "\\end{enumerate*}\n"
      ],
      "text/markdown": [
       "1. 1\n",
       "2. 2\n",
       "3. 3\n",
       "4. 4\n",
       "5. 5\n",
       "6. 99\n",
       "7. 6\n",
       "8. 7\n",
       "9. 8\n",
       "10. 9\n",
       "11. 10\n",
       "\n",
       "\n"
      ],
      "text/plain": [
       " [1]  1  2  3  4  5 99  6  7  8  9 10"
      ]
     },
     "metadata": {},
     "output_type": "display_data"
    }
   ],
   "source": [
    "append(1:10, 99, after=5)"
   ]
  },
  {
   "cell_type": "code",
   "execution_count": 17,
   "id": "6a8e3c06-aac6-46ea-8f4f-1e04704c01a6",
   "metadata": {},
   "outputs": [
    {
     "data": {
      "text/html": [
       "<style>\n",
       ".list-inline {list-style: none; margin:0; padding: 0}\n",
       ".list-inline>li {display: inline-block}\n",
       ".list-inline>li:not(:last-child)::after {content: \"\\00b7\"; padding: 0 .5ex}\n",
       "</style>\n",
       "<ol class=list-inline><li>99</li><li>1</li><li>2</li><li>3</li><li>4</li><li>5</li><li>6</li><li>7</li><li>8</li><li>9</li><li>10</li></ol>\n"
      ],
      "text/latex": [
       "\\begin{enumerate*}\n",
       "\\item 99\n",
       "\\item 1\n",
       "\\item 2\n",
       "\\item 3\n",
       "\\item 4\n",
       "\\item 5\n",
       "\\item 6\n",
       "\\item 7\n",
       "\\item 8\n",
       "\\item 9\n",
       "\\item 10\n",
       "\\end{enumerate*}\n"
      ],
      "text/markdown": [
       "1. 99\n",
       "2. 1\n",
       "3. 2\n",
       "4. 3\n",
       "5. 4\n",
       "6. 5\n",
       "7. 6\n",
       "8. 7\n",
       "9. 8\n",
       "10. 9\n",
       "11. 10\n",
       "\n",
       "\n"
      ],
      "text/plain": [
       " [1] 99  1  2  3  4  5  6  7  8  9 10"
      ]
     },
     "metadata": {},
     "output_type": "display_data"
    }
   ],
   "source": [
    "append(1:10, 99, after=0) # thêm vào đầu"
   ]
  },
  {
   "cell_type": "code",
   "execution_count": 16,
   "id": "35add5b4-c291-416a-9ef1-2cf22e7a5e50",
   "metadata": {},
   "outputs": [
    {
     "data": {
      "text/html": [
       "<style>\n",
       ".list-inline {list-style: none; margin:0; padding: 0}\n",
       ".list-inline>li {display: inline-block}\n",
       ".list-inline>li:not(:last-child)::after {content: \"\\00b7\"; padding: 0 .5ex}\n",
       "</style>\n",
       "<ol class=list-inline><li>1</li><li>99</li><li>2</li><li>3</li><li>4</li><li>5</li><li>6</li><li>7</li><li>8</li><li>9</li><li>10</li></ol>\n"
      ],
      "text/latex": [
       "\\begin{enumerate*}\n",
       "\\item 1\n",
       "\\item 99\n",
       "\\item 2\n",
       "\\item 3\n",
       "\\item 4\n",
       "\\item 5\n",
       "\\item 6\n",
       "\\item 7\n",
       "\\item 8\n",
       "\\item 9\n",
       "\\item 10\n",
       "\\end{enumerate*}\n"
      ],
      "text/markdown": [
       "1. 1\n",
       "2. 99\n",
       "3. 2\n",
       "4. 3\n",
       "5. 4\n",
       "6. 5\n",
       "7. 6\n",
       "8. 7\n",
       "9. 8\n",
       "10. 9\n",
       "11. 10\n",
       "\n",
       "\n"
      ],
      "text/plain": [
       " [1]  1 99  2  3  4  5  6  7  8  9 10"
      ]
     },
     "metadata": {},
     "output_type": "display_data"
    }
   ],
   "source": [
    "append(1:10, 99, after=1)"
   ]
  },
  {
   "cell_type": "markdown",
   "id": "fa56ee0a-964d-441f-9665-2e768a31923d",
   "metadata": {},
   "source": [
    "# 3. Understanding the recycling rule"
   ]
  },
  {
   "cell_type": "code",
   "execution_count": 18,
   "id": "95647aac-3bbc-40d7-acaf-e0fae6990dfd",
   "metadata": {},
   "outputs": [
    {
     "data": {
      "text/html": [
       "<style>\n",
       ".list-inline {list-style: none; margin:0; padding: 0}\n",
       ".list-inline>li {display: inline-block}\n",
       ".list-inline>li:not(:last-child)::after {content: \"\\00b7\"; padding: 0 .5ex}\n",
       "</style>\n",
       "<ol class=list-inline><li>1</li><li>2</li><li>3</li><li>4</li><li>5</li><li>6</li></ol>\n"
      ],
      "text/latex": [
       "\\begin{enumerate*}\n",
       "\\item 1\n",
       "\\item 2\n",
       "\\item 3\n",
       "\\item 4\n",
       "\\item 5\n",
       "\\item 6\n",
       "\\end{enumerate*}\n"
      ],
      "text/markdown": [
       "1. 1\n",
       "2. 2\n",
       "3. 3\n",
       "4. 4\n",
       "5. 5\n",
       "6. 6\n",
       "\n",
       "\n"
      ],
      "text/plain": [
       "[1] 1 2 3 4 5 6"
      ]
     },
     "metadata": {},
     "output_type": "display_data"
    }
   ],
   "source": [
    "1:6"
   ]
  },
  {
   "cell_type": "code",
   "execution_count": 19,
   "id": "e461374e-1cda-431c-9840-7bc70e89b272",
   "metadata": {},
   "outputs": [
    {
     "data": {
      "text/html": [
       "<style>\n",
       ".list-inline {list-style: none; margin:0; padding: 0}\n",
       ".list-inline>li {display: inline-block}\n",
       ".list-inline>li:not(:last-child)::after {content: \"\\00b7\"; padding: 0 .5ex}\n",
       "</style>\n",
       "<ol class=list-inline><li>1</li><li>2</li><li>3</li></ol>\n"
      ],
      "text/latex": [
       "\\begin{enumerate*}\n",
       "\\item 1\n",
       "\\item 2\n",
       "\\item 3\n",
       "\\end{enumerate*}\n"
      ],
      "text/markdown": [
       "1. 1\n",
       "2. 2\n",
       "3. 3\n",
       "\n",
       "\n"
      ],
      "text/plain": [
       "[1] 1 2 3"
      ]
     },
     "metadata": {},
     "output_type": "display_data"
    }
   ],
   "source": [
    "1:3"
   ]
  },
  {
   "cell_type": "code",
   "execution_count": 20,
   "id": "861b0360-d274-4135-b2e1-06c3acabd408",
   "metadata": {},
   "outputs": [
    {
     "data": {
      "text/html": [
       "<style>\n",
       ".list-inline {list-style: none; margin:0; padding: 0}\n",
       ".list-inline>li {display: inline-block}\n",
       ".list-inline>li:not(:last-child)::after {content: \"\\00b7\"; padding: 0 .5ex}\n",
       "</style>\n",
       "<ol class=list-inline><li>2</li><li>4</li><li>6</li><li>5</li><li>7</li><li>9</li></ol>\n"
      ],
      "text/latex": [
       "\\begin{enumerate*}\n",
       "\\item 2\n",
       "\\item 4\n",
       "\\item 6\n",
       "\\item 5\n",
       "\\item 7\n",
       "\\item 9\n",
       "\\end{enumerate*}\n"
      ],
      "text/markdown": [
       "1. 2\n",
       "2. 4\n",
       "3. 6\n",
       "4. 5\n",
       "5. 7\n",
       "6. 9\n",
       "\n",
       "\n"
      ],
      "text/plain": [
       "[1] 2 4 6 5 7 9"
      ]
     },
     "metadata": {},
     "output_type": "display_data"
    }
   ],
   "source": [
    "1:6 + 1:3"
   ]
  },
  {
   "cell_type": "code",
   "execution_count": 24,
   "id": "20eb1457-3133-40c5-8816-6d558dc68db9",
   "metadata": {},
   "outputs": [
    {
     "name": "stdout",
     "output_type": "stream",
     "text": [
      "     [,1]\n",
      "[1,]    1\n",
      "[2,]    2\n",
      "[3,]    3\n",
      "[4,]    4\n",
      "[5,]    5\n",
      "[6,]    6\n"
     ]
    }
   ],
   "source": [
    "print(cbind(1:6))"
   ]
  },
  {
   "cell_type": "code",
   "execution_count": 25,
   "id": "93477c60-68b0-4554-9ecc-720479e47c99",
   "metadata": {},
   "outputs": [
    {
     "name": "stdout",
     "output_type": "stream",
     "text": [
      "     [,1]\n",
      "[1,]    1\n",
      "[2,]    2\n",
      "[3,]    3\n"
     ]
    }
   ],
   "source": [
    "print(cbind(1:3))"
   ]
  },
  {
   "cell_type": "code",
   "execution_count": 26,
   "id": "7654146c-6086-4cbc-8eff-784b1cf343b0",
   "metadata": {},
   "outputs": [
    {
     "name": "stdout",
     "output_type": "stream",
     "text": [
      "     [,1] [,2]\n",
      "[1,]    1    1\n",
      "[2,]    2    2\n",
      "[3,]    3    3\n",
      "[4,]    4    1\n",
      "[5,]    5    2\n",
      "[6,]    6    3\n"
     ]
    }
   ],
   "source": [
    "print(cbind(1:6, 1:3))"
   ]
  },
  {
   "cell_type": "code",
   "execution_count": 27,
   "id": "08b67abc-01af-4d54-93a2-5a0600ae1289",
   "metadata": {},
   "outputs": [
    {
     "name": "stderr",
     "output_type": "stream",
     "text": [
      "Warning message in cbind(1:7, 1:3):\n",
      "“number of rows of result is not a multiple of vector length (arg 2)”\n"
     ]
    },
    {
     "name": "stdout",
     "output_type": "stream",
     "text": [
      "     [,1] [,2]\n",
      "[1,]    1    1\n",
      "[2,]    2    2\n",
      "[3,]    3    3\n",
      "[4,]    4    1\n",
      "[5,]    5    2\n",
      "[6,]    6    3\n",
      "[7,]    7    1\n"
     ]
    }
   ],
   "source": [
    "print(cbind(1:7, 1:3))"
   ]
  },
  {
   "cell_type": "markdown",
   "id": "4c1a643e-09d6-4be6-80ad-a1be5445a7c9",
   "metadata": {},
   "source": [
    "# 4. Creating a factor (Categorical variable)"
   ]
  },
  {
   "cell_type": "code",
   "execution_count": null,
   "id": "9825db58-ebb0-4967-8f90-2436f13ce5ef",
   "metadata": {},
   "outputs": [],
   "source": []
  }
 ],
 "metadata": {
  "kernelspec": {
   "display_name": "R",
   "language": "R",
   "name": "ir"
  },
  "language_info": {
   "codemirror_mode": "r",
   "file_extension": ".r",
   "mimetype": "text/x-r-source",
   "name": "R",
   "pygments_lexer": "r",
   "version": "4.1.0"
  }
 },
 "nbformat": 4,
 "nbformat_minor": 5
}
